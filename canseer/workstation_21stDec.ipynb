{
 "cells": [
  {
   "cell_type": "code",
   "execution_count": null,
   "id": "97187104-1811-40ef-8ed6-7cb82296af4d",
   "metadata": {},
   "outputs": [],
   "source": [
    "##### General ToDo list:\n",
    "\n",
    "# For select_data() function, add \"STAGE/ROUTE\" selection\n",
    "#     Add an ooption to view screening 'STAGE/ROUTE' only as well\n",
    "\n",
    "#//ToDo: write a function to fliter out only singificant breaches/ significant number of cases pe trust etc\n",
    "\n",
    "# Select_data() is now redundant with filter_data()"
   ]
  },
  {
   "cell_type": "code",
   "execution_count": null,
   "id": "74568d6e-55bc-4473-8cbb-c92f5323173c",
   "metadata": {},
   "outputs": [],
   "source": [
    "import pandas as pd\n",
    "import numpy as np\n",
    "import seaborn as sns\n",
    "import matplotlib.pyplot as plt\n",
    "\n",
    "import plotly.express as px\n",
    "import plotly.graph_objects as go\n"
   ]
  },
  {
   "cell_type": "code",
   "execution_count": null,
   "id": "3b91d87f-3ca3-450c-975c-13098ba5ab68",
   "metadata": {},
   "outputs": [],
   "source": [
    "from data_wrangling import get_national\n",
    "from cancer_plotting import plot_stacked_referrals"
   ]
  },
  {
   "cell_type": "code",
   "execution_count": null,
   "id": "43859221-5a07-4bb4-8a50-a2690e25f525",
   "metadata": {},
   "outputs": [],
   "source": [
    "# code example being used - note will need to run the national_data code first \n",
    "national_data_link = r'https://www.england.nhs.uk/statistics/wp-content/' \\\n",
    "    + 'uploads/sites/2/2023/12/' \\\n",
    "    + 'CWT-CRS-National-Time-Series-Oct-2009-Oct-2023-with-Revisions.xlsx'\n",
    "\n",
    "national_data = get_national(national_data_link)\n",
    "labels = ['Within Standard_28', 'Outside Standard_28', 'Within Standard_31', 'Outside Standard_31'] \n",
    "data_to_plot=['Month','Within Standard_28', 'Outside Standard_28', 'Within Standard_31', 'Outside Standard_31']\n",
    "fig, ax = plot_stacked(national_data[data_to_plot],labels,\"Patients\")"
   ]
  },
  {
   "cell_type": "code",
   "execution_count": null,
   "id": "04c37a5f-eeb0-4215-8cd6-203fe4f85e13",
   "metadata": {},
   "outputs": [],
   "source": []
  },
  {
   "cell_type": "code",
   "execution_count": 1,
   "id": "961205bd-73f7-413a-af65-afaf14ed6f9e",
   "metadata": {},
   "outputs": [],
   "source": [
    "from data_wrangling import get_provider_data, nhs_code_link, help_with, read_icb_sicb_coding\n",
    "from data_wrangling import select_months, select_org, select_cancer, select_standard\n",
    "from data_wrangling import select_data\n",
    "from data_wrangling import proportion_breaches\n",
    "\n",
    "from data_wrangling import filter_data\n",
    "\n",
    "from cancer_plotting import breaches_animated_plot\n"
   ]
  },
  {
   "cell_type": "code",
   "execution_count": 2,
   "id": "eb63549a-0771-48b2-be5b-178231684691",
   "metadata": {},
   "outputs": [],
   "source": [
    "data = get_provider_data()"
   ]
  },
  {
   "cell_type": "code",
   "execution_count": null,
   "id": "c924d78b-8ddf-41d4-ba26-d2262f264ed0",
   "metadata": {},
   "outputs": [],
   "source": [
    "x = select_cancer(data, cancer_type=['whatevs','Unsuspected_breast_ca', 'All_Cancers'])"
   ]
  },
  {
   "cell_type": "code",
   "execution_count": 4,
   "id": "502900cd-c91c-41c5-8ce3-2ac75cfe9524",
   "metadata": {},
   "outputs": [
    {
     "name": "stdout",
     "output_type": "stream",
     "text": [
      "Value 'radiotherapy' not in df, continuing without it\n"
     ]
    },
    {
     "data": {
      "text/html": [
       "<div>\n",
       "<style scoped>\n",
       "    .dataframe tbody tr th:only-of-type {\n",
       "        vertical-align: middle;\n",
       "    }\n",
       "\n",
       "    .dataframe tbody tr th {\n",
       "        vertical-align: top;\n",
       "    }\n",
       "\n",
       "    .dataframe thead th {\n",
       "        text-align: right;\n",
       "    }\n",
       "</style>\n",
       "<table border=\"1\" class=\"dataframe\">\n",
       "  <thead>\n",
       "    <tr style=\"text-align: right;\">\n",
       "      <th></th>\n",
       "      <th>standard</th>\n",
       "      <th>org_code</th>\n",
       "      <th>stage_or_route</th>\n",
       "      <th>treatment_modality</th>\n",
       "      <th>cancer_type</th>\n",
       "      <th>total</th>\n",
       "      <th>within_standard</th>\n",
       "      <th>breaches</th>\n",
       "    </tr>\n",
       "    <tr>\n",
       "      <th>month</th>\n",
       "      <th></th>\n",
       "      <th></th>\n",
       "      <th></th>\n",
       "      <th></th>\n",
       "      <th></th>\n",
       "      <th></th>\n",
       "      <th></th>\n",
       "      <th></th>\n",
       "    </tr>\n",
       "  </thead>\n",
       "  <tbody>\n",
       "    <tr>\n",
       "      <th>2022-04-01</th>\n",
       "      <td>28-day FDS</td>\n",
       "      <td>R0A</td>\n",
       "      <td>breast_symptom_non_cancer</td>\n",
       "      <td>not_applicable_FDS</td>\n",
       "      <td>Unsuspected_breast_ca</td>\n",
       "      <td>382</td>\n",
       "      <td>144</td>\n",
       "      <td>238</td>\n",
       "    </tr>\n",
       "    <tr>\n",
       "      <th>2022-04-01</th>\n",
       "      <td>28-day FDS</td>\n",
       "      <td>R0A</td>\n",
       "      <td>screening</td>\n",
       "      <td>not_applicable_FDS</td>\n",
       "      <td>Invalid</td>\n",
       "      <td>143</td>\n",
       "      <td>67</td>\n",
       "      <td>76</td>\n",
       "    </tr>\n",
       "    <tr>\n",
       "      <th>2022-04-01</th>\n",
       "      <td>28-day FDS</td>\n",
       "      <td>R0A</td>\n",
       "      <td>urgent_suspected_cancer</td>\n",
       "      <td>not_applicable_FDS</td>\n",
       "      <td>Suspected_breast_ca</td>\n",
       "      <td>1135</td>\n",
       "      <td>361</td>\n",
       "      <td>774</td>\n",
       "    </tr>\n",
       "    <tr>\n",
       "      <th>2022-04-01</th>\n",
       "      <td>28-day FDS</td>\n",
       "      <td>R0A</td>\n",
       "      <td>urgent_suspected_cancer</td>\n",
       "      <td>not_applicable_FDS</td>\n",
       "      <td>Suspected_children_ca</td>\n",
       "      <td>3</td>\n",
       "      <td>1</td>\n",
       "      <td>2</td>\n",
       "    </tr>\n",
       "    <tr>\n",
       "      <th>2022-04-01</th>\n",
       "      <td>28-day FDS</td>\n",
       "      <td>R0A</td>\n",
       "      <td>urgent_suspected_cancer</td>\n",
       "      <td>not_applicable_FDS</td>\n",
       "      <td>Suspected_gynecological_ca</td>\n",
       "      <td>287</td>\n",
       "      <td>157</td>\n",
       "      <td>130</td>\n",
       "    </tr>\n",
       "    <tr>\n",
       "      <th>...</th>\n",
       "      <td>...</td>\n",
       "      <td>...</td>\n",
       "      <td>...</td>\n",
       "      <td>...</td>\n",
       "      <td>...</td>\n",
       "      <td>...</td>\n",
       "      <td>...</td>\n",
       "      <td>...</td>\n",
       "    </tr>\n",
       "    <tr>\n",
       "      <th>2023-03-01</th>\n",
       "      <td>28-day FDS</td>\n",
       "      <td>R0A</td>\n",
       "      <td>urgent_suspected_cancer</td>\n",
       "      <td>not_applicable_FDS</td>\n",
       "      <td>Suspected_sarcoma</td>\n",
       "      <td>71</td>\n",
       "      <td>45</td>\n",
       "      <td>26</td>\n",
       "    </tr>\n",
       "    <tr>\n",
       "      <th>2023-03-01</th>\n",
       "      <td>28-day FDS</td>\n",
       "      <td>R0A</td>\n",
       "      <td>urgent_suspected_cancer</td>\n",
       "      <td>not_applicable_FDS</td>\n",
       "      <td>Suspected_skin_ca</td>\n",
       "      <td>403</td>\n",
       "      <td>334</td>\n",
       "      <td>69</td>\n",
       "    </tr>\n",
       "    <tr>\n",
       "      <th>2023-03-01</th>\n",
       "      <td>28-day FDS</td>\n",
       "      <td>R0A</td>\n",
       "      <td>urgent_suspected_cancer</td>\n",
       "      <td>not_applicable_FDS</td>\n",
       "      <td>Suspected_testicular_ca</td>\n",
       "      <td>4</td>\n",
       "      <td>3</td>\n",
       "      <td>1</td>\n",
       "    </tr>\n",
       "    <tr>\n",
       "      <th>2023-03-01</th>\n",
       "      <td>28-day FDS</td>\n",
       "      <td>R0A</td>\n",
       "      <td>urgent_suspected_cancer</td>\n",
       "      <td>not_applicable_FDS</td>\n",
       "      <td>Suspected_upper_GI_ca</td>\n",
       "      <td>345</td>\n",
       "      <td>198</td>\n",
       "      <td>147</td>\n",
       "    </tr>\n",
       "    <tr>\n",
       "      <th>2023-03-01</th>\n",
       "      <td>28-day FDS</td>\n",
       "      <td>R0A</td>\n",
       "      <td>urgent_suspected_cancer</td>\n",
       "      <td>not_applicable_FDS</td>\n",
       "      <td>Suspected_urological_ca</td>\n",
       "      <td>288</td>\n",
       "      <td>178</td>\n",
       "      <td>110</td>\n",
       "    </tr>\n",
       "  </tbody>\n",
       "</table>\n",
       "<p>201 rows × 8 columns</p>\n",
       "</div>"
      ],
      "text/plain": [
       "              standard org_code             stage_or_route  \\\n",
       "month                                                        \n",
       "2022-04-01  28-day FDS      R0A  breast_symptom_non_cancer   \n",
       "2022-04-01  28-day FDS      R0A                  screening   \n",
       "2022-04-01  28-day FDS      R0A    urgent_suspected_cancer   \n",
       "2022-04-01  28-day FDS      R0A    urgent_suspected_cancer   \n",
       "2022-04-01  28-day FDS      R0A    urgent_suspected_cancer   \n",
       "...                ...      ...                        ...   \n",
       "2023-03-01  28-day FDS      R0A    urgent_suspected_cancer   \n",
       "2023-03-01  28-day FDS      R0A    urgent_suspected_cancer   \n",
       "2023-03-01  28-day FDS      R0A    urgent_suspected_cancer   \n",
       "2023-03-01  28-day FDS      R0A    urgent_suspected_cancer   \n",
       "2023-03-01  28-day FDS      R0A    urgent_suspected_cancer   \n",
       "\n",
       "            treatment_modality                 cancer_type  total  \\\n",
       "month                                                               \n",
       "2022-04-01  not_applicable_FDS       Unsuspected_breast_ca    382   \n",
       "2022-04-01  not_applicable_FDS                     Invalid    143   \n",
       "2022-04-01  not_applicable_FDS         Suspected_breast_ca   1135   \n",
       "2022-04-01  not_applicable_FDS       Suspected_children_ca      3   \n",
       "2022-04-01  not_applicable_FDS  Suspected_gynecological_ca    287   \n",
       "...                        ...                         ...    ...   \n",
       "2023-03-01  not_applicable_FDS           Suspected_sarcoma     71   \n",
       "2023-03-01  not_applicable_FDS           Suspected_skin_ca    403   \n",
       "2023-03-01  not_applicable_FDS     Suspected_testicular_ca      4   \n",
       "2023-03-01  not_applicable_FDS       Suspected_upper_GI_ca    345   \n",
       "2023-03-01  not_applicable_FDS     Suspected_urological_ca    288   \n",
       "\n",
       "            within_standard  breaches  \n",
       "month                                  \n",
       "2022-04-01              144       238  \n",
       "2022-04-01               67        76  \n",
       "2022-04-01              361       774  \n",
       "2022-04-01                1         2  \n",
       "2022-04-01              157       130  \n",
       "...                     ...       ...  \n",
       "2023-03-01               45        26  \n",
       "2023-03-01              334        69  \n",
       "2023-03-01                3         1  \n",
       "2023-03-01              198       147  \n",
       "2023-03-01              178       110  \n",
       "\n",
       "[201 rows x 8 columns]"
      ]
     },
     "execution_count": 4,
     "metadata": {},
     "output_type": "execute_result"
    }
   ],
   "source": [
    "filter_data(data, {'org':['R0A'], 'standard':'FDS','treatment':['radiotherapy','not_applicable_FDS'],})"
   ]
  },
  {
   "cell_type": "code",
   "execution_count": null,
   "id": "b28aaca3-71bf-40c0-a7b0-fb8f67a4cf54",
   "metadata": {},
   "outputs": [],
   "source": []
  },
  {
   "cell_type": "code",
   "execution_count": null,
   "id": "4f4388b0-ada2-489d-8914-6f41bab62ac9",
   "metadata": {},
   "outputs": [],
   "source": []
  },
  {
   "cell_type": "code",
   "execution_count": null,
   "id": "0b331d1d-f2a0-441e-b88e-4df67246f169",
   "metadata": {},
   "outputs": [],
   "source": []
  },
  {
   "cell_type": "code",
   "execution_count": null,
   "id": "529ef6d0-9a12-4b55-8b18-2c8bdbdce6c6",
   "metadata": {},
   "outputs": [],
   "source": []
  },
  {
   "cell_type": "code",
   "execution_count": null,
   "id": "a47e679b-133a-4d5d-9e95-8a7c6b5ea382",
   "metadata": {},
   "outputs": [],
   "source": []
  },
  {
   "cell_type": "code",
   "execution_count": null,
   "id": "d6794c35-63e5-4e47-94b0-5d8dc8f92f8b",
   "metadata": {},
   "outputs": [],
   "source": []
  },
  {
   "cell_type": "code",
   "execution_count": null,
   "id": "3c6c2957-6948-4d6d-b8e3-afd6c06a070c",
   "metadata": {},
   "outputs": [],
   "source": []
  },
  {
   "cell_type": "code",
   "execution_count": null,
   "id": "fb33c9f4-06ad-42b9-924d-7695190778b5",
   "metadata": {},
   "outputs": [],
   "source": []
  },
  {
   "cell_type": "code",
   "execution_count": null,
   "id": "fb005d81-8472-4211-988a-0982a7da5ecd",
   "metadata": {},
   "outputs": [],
   "source": [
    "data.head()"
   ]
  },
  {
   "cell_type": "code",
   "execution_count": null,
   "id": "7bdde577-2c72-4d55-a06c-296a7a4d7cf5",
   "metadata": {},
   "outputs": [],
   "source": [
    "select_org(data, ['R0A', 'R0D'])"
   ]
  },
  {
   "cell_type": "code",
   "execution_count": null,
   "id": "a8a636db-ec56-430e-918e-12e814b7f1c1",
   "metadata": {},
   "outputs": [],
   "source": []
  },
  {
   "cell_type": "code",
   "execution_count": null,
   "id": "c7f52d33-6c90-4ae9-9000-f290ef0fd6ad",
   "metadata": {},
   "outputs": [],
   "source": []
  },
  {
   "cell_type": "code",
   "execution_count": null,
   "id": "50ae53ec-d073-46a9-bd29-13e85def057c",
   "metadata": {},
   "outputs": [],
   "source": [
    "#data = proportion_breaches((data))"
   ]
  },
  {
   "cell_type": "code",
   "execution_count": null,
   "id": "434feaef-85a3-4abd-bc9e-54590147846e",
   "metadata": {},
   "outputs": [],
   "source": [
    "select_months(data, end_date='2023-10-01')"
   ]
  },
  {
   "cell_type": "code",
   "execution_count": null,
   "id": "2bf01fbc-4694-473b-8c58-c31212190caf",
   "metadata": {},
   "outputs": [],
   "source": [
    "help(filter_data)"
   ]
  },
  {
   "cell_type": "code",
   "execution_count": null,
   "id": "4461930e-41d6-48d9-9381-802eacb593e0",
   "metadata": {},
   "outputs": [],
   "source": [
    "filter_data(df=data, filters={'start_month':'05-2022',\n",
    "                              'end_month':'05-2022',\n",
    "                              'standard':'FDS'})"
   ]
  },
  {
   "cell_type": "code",
   "execution_count": null,
   "id": "95210f8a-97c4-4b8e-aa72-ea2ed98722b1",
   "metadata": {},
   "outputs": [],
   "source": [
    "help(select_standard)"
   ]
  },
  {
   "cell_type": "code",
   "execution_count": null,
   "id": "915b7b11-f4d0-40ff-891f-94935b25f021",
   "metadata": {},
   "outputs": [],
   "source": [
    "isinstance(np.empty(shape=2), list)"
   ]
  },
  {
   "cell_type": "code",
   "execution_count": null,
   "id": "085f1fdb-26e2-4050-b1be-805c5fa9f804",
   "metadata": {},
   "outputs": [],
   "source": [
    "help_with('standards')"
   ]
  },
  {
   "cell_type": "code",
   "execution_count": null,
   "id": "773e6ff6-7240-4d62-9128-39dbfe933597",
   "metadata": {},
   "outputs": [],
   "source": []
  },
  {
   "cell_type": "code",
   "execution_count": null,
   "id": "b7189d36-7ad6-4fc1-93e7-b011de3c549b",
   "metadata": {},
   "outputs": [],
   "source": [
    "link_data = nhs_code_link()\n",
    "# overlap = list(set(data['ORG CODE']) & set(link_data['ORG CODE']))\n",
    "# unmatched = data[~data['ORG CODE'].astype(str).isin(link_data['ORG CODE'].astype(str))]"
   ]
  },
  {
   "cell_type": "code",
   "execution_count": null,
   "id": "5991a5af-288d-4138-896b-adf844d4f710",
   "metadata": {},
   "outputs": [],
   "source": [
    "#plt.figure(figsize=[10,10])\n",
    "sns.stripplot(x='PERIOD', y = 'BREACHES', data=select_org(df=data,org_str='R1K'), hue = 'CANCER_TYPE', legend=False)"
   ]
  },
  {
   "cell_type": "code",
   "execution_count": null,
   "id": "a2255d08-c693-44e3-9dab-cf17a9c31bc4",
   "metadata": {},
   "outputs": [],
   "source": [
    "sns.lineplot(x='PERIOD', y='BREACHES', data=select_org(data,'R0A').groupby(by='PERIOD').sum())"
   ]
  },
  {
   "cell_type": "code",
   "execution_count": null,
   "id": "503ffb06-2a6e-429d-a64a-10a33c9510e6",
   "metadata": {},
   "outputs": [],
   "source": [
    "data"
   ]
  },
  {
   "cell_type": "code",
   "execution_count": null,
   "id": "1cedb22e-8d0e-4601-a105-76414e8f2bac",
   "metadata": {},
   "outputs": [],
   "source": [
    "# Need to add informative title displaying type of cancer and full name of organisation + national standard on the plot\n",
    "# Need to handle if some orgs do not have certain cancers/standards\n",
    "\n",
    "trial = select_data(data,[('cancer',3), ('org', 'r0a'), ('standard', 'FDS')])\n",
    "trial = trial.loc[trial['STAGE/ROUTE'] =='NATIONAL SCREENING PROGRAMME']\n",
    "breaches_animated_plot(trial,[])\n"
   ]
  },
  {
   "cell_type": "code",
   "execution_count": null,
   "id": "fe8ada95-2d30-4ca6-ae97-75ed71768677",
   "metadata": {},
   "outputs": [],
   "source": [
    "def create_lookup_dict_icb():\n",
    "    \n",
    "    icb_codes = read_icb_sicb_coding()\n",
    "    nhs_link = nhs_code_link()\n",
    "    \n",
    "    #Creates dictionary of ICB 3-digit code to ICB Name\n",
    "    icb_code_to_names = dict(zip(icb_codes['ICB22CDH'], icb_codes['ICB22NM']))\n",
    "    \n",
    "    #Creates dictionary of NHS Trust Org code to Higher Level Health Geography\n",
    "    org_to_hlhg = dict(zip(nhs_link['ORG_CODE'], nhs_link['Higher Level Health Geography']))\n",
    "    \n",
    "    return icb_code_to_names, org_to_hlhg\n",
    "    "
   ]
  },
  {
   "cell_type": "code",
   "execution_count": null,
   "id": "5a705d8e-85d3-4843-ae27-e728324a6008",
   "metadata": {},
   "outputs": [],
   "source": [
    "######## Below is work in progress on creating a map with statistics"
   ]
  },
  {
   "cell_type": "code",
   "execution_count": null,
   "id": "b4fbc312-d25c-45a6-bbe2-359953090205",
   "metadata": {},
   "outputs": [],
   "source": [
    "def select_to_plot(data, filter_to_apply=[], gdf = gdf):\n",
    "    \n",
    "    filtered_df = select_data(data, filter_to_apply)\n",
    "    \n",
    "    \n",
    "    icb_code_to_names, org_to_hlhg = create_lookup_dict_icb()\n",
    "    \n",
    "    \n",
    "    filtered_df['hlhg'] = filtered_df['ORG_CODE'].map(org_to_hlhg)\n",
    "    filtered_df['ICB23NM'] = filtered_df['hhlg'].map(icb_code_to_names)\n",
    "    \n",
    "    labels_for_plotting = {'cancer_type':filtered_df.CANCER_TYPE.unique(),\n",
    "                           'period':filtered_df.PERIOD.unique(),\n",
    "                           'standard':filtered_df.STANDARD.unique()\n",
    "                          }\n",
    "    \n",
    "    icb_breaches = round(filtered_df.groupby('ICB23NM').BREACHES.sum()\n",
    "                         / filtered_df.groupby('ICB23NM').TOTAL.sum(), 2\n",
    "                        ).astype(float)\n",
    "    \n",
    "    \n",
    "    icb_breaches.rename('proportion_breaches', inplace=True)\n",
    "    \n",
    "    merged_gdf = pd.merge(gdf, icb_breaches, left_on='ICB23NM', right_index=True)\n",
    "    \n",
    "    return merged_gdf, labels_for_plotting\n",
    "    \n",
    "    \n",
    "    \n",
    "    "
   ]
  },
  {
   "cell_type": "code",
   "execution_count": null,
   "id": "a934c601-0c89-4507-9805-460ec1327991",
   "metadata": {},
   "outputs": [],
   "source": []
  },
  {
   "cell_type": "code",
   "execution_count": null,
   "id": "bf86e3ed-f5f5-4101-86f7-606dd4f5f787",
   "metadata": {},
   "outputs": [],
   "source": [
    "help(select_to_plot)"
   ]
  },
  {
   "cell_type": "code",
   "execution_count": null,
   "id": "1de2de95-b6ee-4970-8bff-64b337f65a43",
   "metadata": {},
   "outputs": [],
   "source": [
    "labels = select_to_plot(data, [('cancer',10), ('standard', 'FDS')])[1]\n",
    "plotting_material = select_to_plot(data, [('cancer',10), ('standard', 'FDS')])[0]"
   ]
  },
  {
   "cell_type": "code",
   "execution_count": null,
   "id": "e9b05a4b-668e-43fb-b337-d0030502f046",
   "metadata": {},
   "outputs": [],
   "source": [
    "labels"
   ]
  },
  {
   "cell_type": "code",
   "execution_count": null,
   "id": "6822b04d-5163-465b-b16f-9f6ae4ceebd8",
   "metadata": {},
   "outputs": [],
   "source": [
    "fig, ax = plt.subplots(figsize=(7, 7))\n",
    "plotting_material.plot(column = 'proportion_breaches',\n",
    "                           ax=ax, legend=True,\n",
    "                           legend_kwds={'label': \"Proportion Breaches\", 'orientation': \"vertical\"})\n",
    "\n",
    "plt.tick_params(axis='x', which='both', bottom=False, top=False, labelbottom=False)\n"
   ]
  },
  {
   "cell_type": "code",
   "execution_count": null,
   "id": "a65fce79-f265-4391-a920-35ceaa97ab08",
   "metadata": {},
   "outputs": [],
   "source": []
  },
  {
   "cell_type": "code",
   "execution_count": null,
   "id": "01f2e0ce-f300-4245-8753-6ae29a349787",
   "metadata": {},
   "outputs": [],
   "source": []
  },
  {
   "cell_type": "code",
   "execution_count": null,
   "id": "d105b929-11ac-443c-81cc-64ba953ec4d5",
   "metadata": {},
   "outputs": [],
   "source": []
  },
  {
   "cell_type": "code",
   "execution_count": null,
   "id": "1c158f29-c835-4471-b395-d945567eb968",
   "metadata": {},
   "outputs": [],
   "source": []
  },
  {
   "cell_type": "code",
   "execution_count": null,
   "id": "fe55a40d-c2d9-4ae9-8ce9-6302a2523cea",
   "metadata": {},
   "outputs": [],
   "source": [
    "icb_codes = read_icb_sicb_coding()\n",
    "nhs_link = nhs_code_link()\n",
    "\n",
    "icb_code_to_names = dict(zip(icb_codes['ICB22CDH'], icb_codes['ICB22NM']))\n",
    "org_to_icb = dict(zip(nhs_link['ORG_CODE'], nhs_link['Higher Level Health Geography']))\n",
    "\n",
    "data['hhlg'] = data['ORG_CODE'].map(org_to_icb)\n",
    "data['ICB23NM'] = data['hhlg'].map(icb_code_to_names)"
   ]
  },
  {
   "cell_type": "code",
   "execution_count": null,
   "id": "1b044056-681a-4bcd-a4ca-b833a96a75a6",
   "metadata": {},
   "outputs": [],
   "source": []
  },
  {
   "cell_type": "code",
   "execution_count": null,
   "id": "65aa8ce3-5c7b-4ae6-913c-7e4a811abce2",
   "metadata": {},
   "outputs": [],
   "source": [
    "icb_breaches = round(data.groupby('ICB23NM').BREACHES.sum() / data.groupby('ICB23NM').TOTAL.sum(), 2).astype(float)\n",
    "icb_breaches.rename('proportion_breaches', inplace=True)"
   ]
  },
  {
   "cell_type": "code",
   "execution_count": null,
   "id": "aa8282d5-4062-4a34-8844-ff87338cd356",
   "metadata": {},
   "outputs": [],
   "source": [
    "import geopandas as gpd\n",
    "path_to_shapefile = 'data/ons_shapefile/Integrated_Care_Boards_April_2023_EN_BFC_1659257819249669363/'"
   ]
  },
  {
   "cell_type": "code",
   "execution_count": null,
   "id": "d422ed6c-38e6-4f02-9970-d94bfa1b7431",
   "metadata": {},
   "outputs": [],
   "source": [
    "gdf = gpd.read_file(path_to_shapefile)"
   ]
  },
  {
   "cell_type": "code",
   "execution_count": null,
   "id": "8f943767-c798-4329-9cf4-621affa8cfc9",
   "metadata": {},
   "outputs": [],
   "source": [
    "gdf.head()"
   ]
  },
  {
   "cell_type": "code",
   "execution_count": null,
   "id": "50b25576-727f-4658-8dae-0f9a28b175a7",
   "metadata": {},
   "outputs": [],
   "source": [
    "merged_gdf = pd.merge(gdf, icb_breaches, left_on='ICB23NM', right_index=True)\n",
    "merged_gdf.head()"
   ]
  },
  {
   "cell_type": "code",
   "execution_count": null,
   "id": "805fad57-0e2d-4ab4-9fbf-89f258947ff5",
   "metadata": {},
   "outputs": [],
   "source": [
    "fig, ax = plt.subplots(figsize=(10, 10))\n",
    "merged_gdf.plot(column='LAT', ax=ax, legend=True,\n",
    "                legend_kwds={'label': \"Proportion Breaches\", 'orientation': \"vertical\"})\n",
    "\n",
    "plt.show()"
   ]
  },
  {
   "cell_type": "code",
   "execution_count": null,
   "id": "e79fc80e-89ce-45b0-87a2-81cfdcce3018",
   "metadata": {},
   "outputs": [],
   "source": []
  },
  {
   "cell_type": "code",
   "execution_count": null,
   "id": "805f8fd0-9912-4a39-bccd-622890f28ec3",
   "metadata": {},
   "outputs": [],
   "source": []
  }
 ],
 "metadata": {
  "kernelspec": {
   "display_name": "Python 3 (ipykernel)",
   "language": "python",
   "name": "python3"
  },
  "language_info": {
   "codemirror_mode": {
    "name": "ipython",
    "version": 3
   },
   "file_extension": ".py",
   "mimetype": "text/x-python",
   "name": "python",
   "nbconvert_exporter": "python",
   "pygments_lexer": "ipython3",
   "version": "3.8.12"
  }
 },
 "nbformat": 4,
 "nbformat_minor": 5
}
