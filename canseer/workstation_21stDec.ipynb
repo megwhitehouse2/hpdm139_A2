{
 "cells": [
  {
   "cell_type": "code",
   "execution_count": 34,
   "id": "97187104-1811-40ef-8ed6-7cb82296af4d",
   "metadata": {},
   "outputs": [],
   "source": [
    "import pandas as pd\n",
    "import numpy as np"
   ]
  },
  {
   "cell_type": "code",
   "execution_count": 35,
   "id": "39e52ce9-f4c0-4cc0-9460-b3e34026be6d",
   "metadata": {},
   "outputs": [],
   "source": [
    "import matplotlib.pyplot as plt"
   ]
  },
  {
   "cell_type": "code",
   "execution_count": 36,
   "id": "593434b2-6e17-4da4-88f0-13e1c15c517f",
   "metadata": {},
   "outputs": [],
   "source": [
    "import seaborn as sns"
   ]
  },
  {
   "cell_type": "code",
   "execution_count": null,
   "id": "02e61002-57d3-440e-9d39-f105c72b3068",
   "metadata": {},
   "outputs": [],
   "source": []
  },
  {
   "cell_type": "code",
   "execution_count": 9,
   "id": "961205bd-73f7-413a-af65-afaf14ed6f9e",
   "metadata": {},
   "outputs": [],
   "source": [
    "from data_wrangling import read_cancer_data, nhs_code_link, select_month"
   ]
  },
  {
   "cell_type": "code",
   "execution_count": 10,
   "id": "eb63549a-0771-48b2-be5b-178231684691",
   "metadata": {},
   "outputs": [],
   "source": [
    "data = read_cancer_data()"
   ]
  },
  {
   "cell_type": "code",
   "execution_count": 81,
   "id": "6914892a-4e27-403e-86f9-4d950e828ef0",
   "metadata": {},
   "outputs": [],
   "source": [
    "link_data = nhs_code_link()"
   ]
  },
  {
   "cell_type": "code",
   "execution_count": 122,
   "id": "57c58aef-3a40-4821-be87-c03ec9c062ef",
   "metadata": {},
   "outputs": [
    {
     "data": {
      "text/plain": [
       "'R0A'"
      ]
     },
     "execution_count": 122,
     "metadata": {},
     "output_type": "execute_result"
    }
   ],
   "source": [
    "link_data['ORG CODE'].astype(str)[0]"
   ]
  },
  {
   "cell_type": "code",
   "execution_count": 96,
   "id": "18dc4b6e-c635-4271-b8c7-91c2464f7e6f",
   "metadata": {},
   "outputs": [
    {
     "data": {
      "text/plain": [
       "0         R1K\n",
       "1         R0A\n",
       "2         R0D\n",
       "3         R1F\n",
       "4         RAS\n",
       "         ... \n",
       "103180    RWD\n",
       "103181    RWP\n",
       "103182    RXN\n",
       "103183    RXW\n",
       "103184    RY2\n",
       "Name: ORG CODE, Length: 103185, dtype: object"
      ]
     },
     "execution_count": 96,
     "metadata": {},
     "output_type": "execute_result"
    }
   ],
   "source": [
    "# plt.plot(data.iloc[0].PERIOD, data.iloc[0].TOTAL) \n",
    "data['ORG CODE']"
   ]
  },
  {
   "cell_type": "code",
   "execution_count": 123,
   "id": "b7189d36-7ad6-4fc1-93e7-b011de3c549b",
   "metadata": {},
   "outputs": [],
   "source": [
    "overlap = list(set(data['ORG CODE']) & set(link_data['ORG CODE']))"
   ]
  },
  {
   "cell_type": "code",
   "execution_count": 124,
   "id": "d555c211-55e7-4ebb-ac70-6ebddc9e4606",
   "metadata": {},
   "outputs": [],
   "source": [
    "unmatched = [i for i in data['ORG CODE'] if i not in link_data['ORG CODE'].astype(str)]"
   ]
  },
  {
   "cell_type": "code",
   "execution_count": 125,
   "id": "d66d0625-01dc-4d7c-9b04-4d35cd8b7ba8",
   "metadata": {},
   "outputs": [
    {
     "data": {
      "text/plain": [
       "103185"
      ]
     },
     "execution_count": 125,
     "metadata": {},
     "output_type": "execute_result"
    }
   ],
   "source": [
    "len(unmatched)"
   ]
  },
  {
   "cell_type": "code",
   "execution_count": null,
   "id": "d2167088-909f-4b4d-aceb-390521ef1ed7",
   "metadata": {},
   "outputs": [],
   "source": [
    "import pandas as pd\n",
    "\n",
    "def select_area(df, org_str):\n",
    "    \"\"\"\n",
    "    Selects and returns a subset of a DataFrame based on the specified month.\n",
    "\n",
    "    Parameters:\n",
    "    - df (pandas.DataFrame): The DataFrame containing the data.\n",
    "    - month_str (str): A three-letter abbreviation representing the month (e.g., 'JAN' for January).\n",
    "\n",
    "    Returns:\n",
    "    - pandas.DataFrame: A subset of the input DataFrame containing only rows corresponding to the specified month.\n",
    "\n",
    "    Raises:\n",
    "    - ValueError: If the specified month abbreviation is not valid.\n",
    "\n",
    "    Example:\n",
    "    >>> data = pd.DataFrame({'MONTH': ['JAN', 'FEB', 'MAR', 'APR', 'MAY'],\n",
    "    ...                      'Value': [10, 15, 20, 25, 30]})\n",
    "    >>> selected_data = select_month(data, 'mar')\n",
    "    >>> print(selected_data)\n",
    "      MONTH  Value\n",
    "    2   MAR     20\n",
    "    \"\"\"\n",
    "    # List of valid month abbreviations\n",
    "    month_list = ['APR', 'MAY', 'JUN', 'JUL',\n",
    "                  'AUG', 'SEP', 'OCT', 'NOV',\n",
    "                  'DEC', 'JAN', 'FEB', 'MAR']\n",
    "\n",
    "    # Convert input month string to uppercase and use the first three characters\n",
    "    month_str = month_str[:3].upper()\n",
    "\n",
    "    # Check if the specified month is valid\n",
    "    if month_str in month_list:\n",
    "        # Select rows corresponding to the specified month\n",
    "        df_month = df.loc[df.MONTH == month_str]\n",
    "        return df_month\n",
    "    else:\n",
    "        # Raise an error for invalid month abbreviation\n",
    "        raise ValueError(\"Invalid month abbreviation. Please enter a valid three-letter month abbreviation.\")"
   ]
  }
 ],
 "metadata": {
  "kernelspec": {
   "display_name": "Python 3 (ipykernel)",
   "language": "python",
   "name": "python3"
  },
  "language_info": {
   "codemirror_mode": {
    "name": "ipython",
    "version": 3
   },
   "file_extension": ".py",
   "mimetype": "text/x-python",
   "name": "python",
   "nbconvert_exporter": "python",
   "pygments_lexer": "ipython3",
   "version": "3.8.12"
  }
 },
 "nbformat": 4,
 "nbformat_minor": 5
}
