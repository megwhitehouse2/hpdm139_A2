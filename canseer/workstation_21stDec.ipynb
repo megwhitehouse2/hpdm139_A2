{
 "cells": [
  {
   "cell_type": "code",
   "execution_count": null,
   "id": "97187104-1811-40ef-8ed6-7cb82296af4d",
   "metadata": {},
   "outputs": [],
   "source": [
    "##### General ToDo list:\n",
    "\n",
    "# For select_data() function, add \"STAGE/ROUTE\" selection\n",
    "#     Add an ooption to view screening 'STAGE/ROUTE' only as well\n",
    "\n",
    "#//ToDo: write a function to fliter out only singificant breaches/ significant number of cases pe trust etc\n",
    "\n",
    "# Select_data() is now redundant with filter_data()"
   ]
  },
  {
   "cell_type": "code",
   "execution_count": 1,
   "id": "74568d6e-55bc-4473-8cbb-c92f5323173c",
   "metadata": {},
   "outputs": [],
   "source": [
    "import pandas as pd\n",
    "import numpy as np\n",
    "import seaborn as sns\n",
    "import matplotlib.pyplot as plt\n",
    "\n",
    "import plotly.express as px\n",
    "import plotly.graph_objects as go\n"
   ]
  },
  {
   "cell_type": "code",
   "execution_count": 2,
   "id": "3b91d87f-3ca3-450c-975c-13098ba5ab68",
   "metadata": {},
   "outputs": [],
   "source": [
    "from data_wrangling import get_national\n",
    "from cancer_plotting import prop_breaches_graph"
   ]
  },
  {
   "cell_type": "code",
   "execution_count": 4,
   "id": "43859221-5a07-4bb4-8a50-a2690e25f525",
   "metadata": {},
   "outputs": [],
   "source": [
    "# code example being used - note will need to run the national_data code first \n",
    "national_data_link = r'https://www.england.nhs.uk/statistics/wp-content/' \\\n",
    "    + 'uploads/sites/2/2023/12/' \\\n",
    "    + 'CWT-CRS-National-Time-Series-Oct-2009-Oct-2023-with-Revisions.xlsx'\n",
    "\n",
    "national_data = get_national(national_data_link)\n",
    "labels = ['Within Standard_28', 'Outside Standard_28', 'Within Standard_31', 'Outside Standard_31'] \n",
    "data_to_plot=['Month','Within Standard_28', 'Outside Standard_28', 'Within Standard_31', 'Outside Standard_31']\n"
   ]
  },
  {
   "cell_type": "code",
   "execution_count": null,
   "id": "33e680ae-10df-47ee-b555-67aedd9891f8",
   "metadata": {},
   "outputs": [],
   "source": []
  },
  {
   "cell_type": "code",
   "execution_count": 5,
   "id": "04c37a5f-eeb0-4215-8cd6-203fe4f85e13",
   "metadata": {},
   "outputs": [
    {
     "ename": "NameError",
     "evalue": "name 'data' is not defined",
     "output_type": "error",
     "traceback": [
      "\u001b[0;31m---------------------------------------------------------------------------\u001b[0m",
      "\u001b[0;31mNameError\u001b[0m                                 Traceback (most recent call last)",
      "Cell \u001b[0;32mIn[5], line 1\u001b[0m\n\u001b[0;32m----> 1\u001b[0m prop_breaches_graph(\u001b[43mdata\u001b[49m, filters\u001b[38;5;241m=\u001b[39m{\u001b[38;5;124m'\u001b[39m\u001b[38;5;124mstart_month\u001b[39m\u001b[38;5;124m'\u001b[39m:\u001b[38;5;124m'\u001b[39m\u001b[38;5;124m05-2022\u001b[39m\u001b[38;5;124m'\u001b[39m,\n\u001b[1;32m      2\u001b[0m                               \u001b[38;5;124m'\u001b[39m\u001b[38;5;124mend_month\u001b[39m\u001b[38;5;124m'\u001b[39m:\u001b[38;5;124m'\u001b[39m\u001b[38;5;124m05-2022\u001b[39m\u001b[38;5;124m'\u001b[39m,\n\u001b[1;32m      3\u001b[0m                               \u001b[38;5;124m'\u001b[39m\u001b[38;5;124mstandard\u001b[39m\u001b[38;5;124m'\u001b[39m:\u001b[38;5;124m'\u001b[39m\u001b[38;5;124mFDS\u001b[39m\u001b[38;5;124m'\u001b[39m}, window_size\u001b[38;5;241m=\u001b[39m\u001b[38;5;241m2\u001b[39m)\n",
      "\u001b[0;31mNameError\u001b[0m: name 'data' is not defined"
     ]
    }
   ],
   "source": [
    "\n",
    "prop_breaches_graph(data, filters={'start_month':'05-2022',\n",
    "                              'end_month':'05-2022',\n",
    "                              'standard':'FDS'}, window_size=2)"
   ]
  },
  {
   "cell_type": "code",
   "execution_count": null,
   "id": "b81d6626-215a-406f-83f0-bb19a95488f4",
   "metadata": {},
   "outputs": [],
   "source": []
  },
  {
   "cell_type": "code",
   "execution_count": 11,
   "id": "961205bd-73f7-413a-af65-afaf14ed6f9e",
   "metadata": {},
   "outputs": [],
   "source": [
    "from data_wrangling import get_provider_data, nhs_code_link, help_with, read_icb_sicb_coding\n",
    "from data_wrangling import select_months, select_org, select_cancer, select_standard\n",
    "from data_wrangling import filter_data\n",
    "from data_wrangling import proportion_breaches\n",
    "\n",
    "\n",
    "from cancer_plotting import breaches_animated_plot\n"
   ]
  },
  {
   "cell_type": "code",
   "execution_count": null,
   "id": "063ba1c2-dcb9-4ffc-8d92-835fc643ee18",
   "metadata": {},
   "outputs": [],
   "source": []
  },
  {
   "cell_type": "code",
   "execution_count": 12,
   "id": "eb63549a-0771-48b2-be5b-178231684691",
   "metadata": {},
   "outputs": [],
   "source": [
    "data = get_provider_data()"
   ]
  },
  {
   "cell_type": "code",
   "execution_count": 8,
   "id": "c924d78b-8ddf-41d4-ba26-d2262f264ed0",
   "metadata": {},
   "outputs": [
    {
     "name": "stdout",
     "output_type": "stream",
     "text": [
      "Error ocurred with value \"whatevs\", removing it and continuing\n"
     ]
    },
    {
     "data": {
      "text/html": [
       "<div>\n",
       "<style scoped>\n",
       "    .dataframe tbody tr th:only-of-type {\n",
       "        vertical-align: middle;\n",
       "    }\n",
       "\n",
       "    .dataframe tbody tr th {\n",
       "        vertical-align: top;\n",
       "    }\n",
       "\n",
       "    .dataframe thead th {\n",
       "        text-align: right;\n",
       "    }\n",
       "</style>\n",
       "<table border=\"1\" class=\"dataframe\">\n",
       "  <thead>\n",
       "    <tr style=\"text-align: right;\">\n",
       "      <th></th>\n",
       "      <th>standard</th>\n",
       "      <th>org_code</th>\n",
       "      <th>stage_or_route</th>\n",
       "      <th>treatment_modality</th>\n",
       "      <th>cancer_type</th>\n",
       "      <th>total</th>\n",
       "      <th>within_standard</th>\n",
       "      <th>breaches</th>\n",
       "    </tr>\n",
       "    <tr>\n",
       "      <th>month</th>\n",
       "      <th></th>\n",
       "      <th></th>\n",
       "      <th></th>\n",
       "      <th></th>\n",
       "      <th></th>\n",
       "      <th></th>\n",
       "      <th></th>\n",
       "      <th></th>\n",
       "    </tr>\n",
       "  </thead>\n",
       "  <tbody>\n",
       "    <tr>\n",
       "      <th>2022-04-01</th>\n",
       "      <td>28-day FDS</td>\n",
       "      <td>R1K</td>\n",
       "      <td>breast_symptom_non_cancer</td>\n",
       "      <td>not_applicable_FDS</td>\n",
       "      <td>Unsuspected_breast_ca</td>\n",
       "      <td>262</td>\n",
       "      <td>255</td>\n",
       "      <td>7</td>\n",
       "    </tr>\n",
       "    <tr>\n",
       "      <th>2022-04-01</th>\n",
       "      <td>28-day FDS</td>\n",
       "      <td>R0A</td>\n",
       "      <td>breast_symptom_non_cancer</td>\n",
       "      <td>not_applicable_FDS</td>\n",
       "      <td>Unsuspected_breast_ca</td>\n",
       "      <td>382</td>\n",
       "      <td>144</td>\n",
       "      <td>238</td>\n",
       "    </tr>\n",
       "    <tr>\n",
       "      <th>2022-04-01</th>\n",
       "      <td>28-day FDS</td>\n",
       "      <td>R0D</td>\n",
       "      <td>breast_symptom_non_cancer</td>\n",
       "      <td>not_applicable_FDS</td>\n",
       "      <td>Unsuspected_breast_ca</td>\n",
       "      <td>3</td>\n",
       "      <td>2</td>\n",
       "      <td>1</td>\n",
       "    </tr>\n",
       "    <tr>\n",
       "      <th>2022-04-01</th>\n",
       "      <td>28-day FDS</td>\n",
       "      <td>R1F</td>\n",
       "      <td>breast_symptom_non_cancer</td>\n",
       "      <td>not_applicable_FDS</td>\n",
       "      <td>Unsuspected_breast_ca</td>\n",
       "      <td>66</td>\n",
       "      <td>63</td>\n",
       "      <td>3</td>\n",
       "    </tr>\n",
       "    <tr>\n",
       "      <th>2022-04-01</th>\n",
       "      <td>28-day FDS</td>\n",
       "      <td>RAS</td>\n",
       "      <td>breast_symptom_non_cancer</td>\n",
       "      <td>not_applicable_FDS</td>\n",
       "      <td>Unsuspected_breast_ca</td>\n",
       "      <td>81</td>\n",
       "      <td>78</td>\n",
       "      <td>3</td>\n",
       "    </tr>\n",
       "    <tr>\n",
       "      <th>...</th>\n",
       "      <td>...</td>\n",
       "      <td>...</td>\n",
       "      <td>...</td>\n",
       "      <td>...</td>\n",
       "      <td>...</td>\n",
       "      <td>...</td>\n",
       "      <td>...</td>\n",
       "      <td>...</td>\n",
       "    </tr>\n",
       "    <tr>\n",
       "      <th>2023-03-01</th>\n",
       "      <td>62-day Combined</td>\n",
       "      <td>RWD</td>\n",
       "      <td>urgent_suspected_cancer</td>\n",
       "      <td>surgery</td>\n",
       "      <td>All_Cancers</td>\n",
       "      <td>83</td>\n",
       "      <td>53</td>\n",
       "      <td>30</td>\n",
       "    </tr>\n",
       "    <tr>\n",
       "      <th>2023-03-01</th>\n",
       "      <td>62-day Combined</td>\n",
       "      <td>RWP</td>\n",
       "      <td>urgent_suspected_cancer</td>\n",
       "      <td>surgery</td>\n",
       "      <td>All_Cancers</td>\n",
       "      <td>116</td>\n",
       "      <td>70</td>\n",
       "      <td>46</td>\n",
       "    </tr>\n",
       "    <tr>\n",
       "      <th>2023-03-01</th>\n",
       "      <td>62-day Combined</td>\n",
       "      <td>RXN</td>\n",
       "      <td>urgent_suspected_cancer</td>\n",
       "      <td>surgery</td>\n",
       "      <td>All_Cancers</td>\n",
       "      <td>73</td>\n",
       "      <td>27</td>\n",
       "      <td>46</td>\n",
       "    </tr>\n",
       "    <tr>\n",
       "      <th>2023-03-01</th>\n",
       "      <td>62-day Combined</td>\n",
       "      <td>RXW</td>\n",
       "      <td>urgent_suspected_cancer</td>\n",
       "      <td>surgery</td>\n",
       "      <td>All_Cancers</td>\n",
       "      <td>103</td>\n",
       "      <td>65</td>\n",
       "      <td>37</td>\n",
       "    </tr>\n",
       "    <tr>\n",
       "      <th>2023-03-01</th>\n",
       "      <td>62-day Combined</td>\n",
       "      <td>RY2</td>\n",
       "      <td>urgent_suspected_cancer</td>\n",
       "      <td>surgery</td>\n",
       "      <td>All_Cancers</td>\n",
       "      <td>12</td>\n",
       "      <td>8</td>\n",
       "      <td>4</td>\n",
       "    </tr>\n",
       "  </tbody>\n",
       "</table>\n",
       "<p>27605 rows × 8 columns</p>\n",
       "</div>"
      ],
      "text/plain": [
       "                   standard org_code             stage_or_route  \\\n",
       "month                                                             \n",
       "2022-04-01       28-day FDS      R1K  breast_symptom_non_cancer   \n",
       "2022-04-01       28-day FDS      R0A  breast_symptom_non_cancer   \n",
       "2022-04-01       28-day FDS      R0D  breast_symptom_non_cancer   \n",
       "2022-04-01       28-day FDS      R1F  breast_symptom_non_cancer   \n",
       "2022-04-01       28-day FDS      RAS  breast_symptom_non_cancer   \n",
       "...                     ...      ...                        ...   \n",
       "2023-03-01  62-day Combined      RWD    urgent_suspected_cancer   \n",
       "2023-03-01  62-day Combined      RWP    urgent_suspected_cancer   \n",
       "2023-03-01  62-day Combined      RXN    urgent_suspected_cancer   \n",
       "2023-03-01  62-day Combined      RXW    urgent_suspected_cancer   \n",
       "2023-03-01  62-day Combined      RY2    urgent_suspected_cancer   \n",
       "\n",
       "            treatment_modality            cancer_type  total  within_standard  \\\n",
       "month                                                                           \n",
       "2022-04-01  not_applicable_FDS  Unsuspected_breast_ca    262              255   \n",
       "2022-04-01  not_applicable_FDS  Unsuspected_breast_ca    382              144   \n",
       "2022-04-01  not_applicable_FDS  Unsuspected_breast_ca      3                2   \n",
       "2022-04-01  not_applicable_FDS  Unsuspected_breast_ca     66               63   \n",
       "2022-04-01  not_applicable_FDS  Unsuspected_breast_ca     81               78   \n",
       "...                        ...                    ...    ...              ...   \n",
       "2023-03-01             surgery            All_Cancers     83               53   \n",
       "2023-03-01             surgery            All_Cancers    116               70   \n",
       "2023-03-01             surgery            All_Cancers     73               27   \n",
       "2023-03-01             surgery            All_Cancers    103               65   \n",
       "2023-03-01             surgery            All_Cancers     12                8   \n",
       "\n",
       "            breaches  \n",
       "month                 \n",
       "2022-04-01         7  \n",
       "2022-04-01       238  \n",
       "2022-04-01         1  \n",
       "2022-04-01         3  \n",
       "2022-04-01         3  \n",
       "...              ...  \n",
       "2023-03-01        30  \n",
       "2023-03-01        46  \n",
       "2023-03-01        46  \n",
       "2023-03-01        37  \n",
       "2023-03-01         4  \n",
       "\n",
       "[27605 rows x 8 columns]"
      ]
     },
     "execution_count": 8,
     "metadata": {},
     "output_type": "execute_result"
    }
   ],
   "source": [
    "select_cancer(data, cancer_type=['whatevs','Unsuspected_breast_ca', 'All_Cancers'])"
   ]
  },
  {
   "cell_type": "code",
   "execution_count": null,
   "id": "b28aaca3-71bf-40c0-a7b0-fb8f67a4cf54",
   "metadata": {},
   "outputs": [],
   "source": []
  },
  {
   "cell_type": "code",
   "execution_count": null,
   "id": "4f4388b0-ada2-489d-8914-6f41bab62ac9",
   "metadata": {},
   "outputs": [],
   "source": []
  },
  {
   "cell_type": "code",
   "execution_count": null,
   "id": "3c6c2957-6948-4d6d-b8e3-afd6c06a070c",
   "metadata": {},
   "outputs": [],
   "source": []
  },
  {
   "cell_type": "code",
   "execution_count": null,
   "id": "fb33c9f4-06ad-42b9-924d-7695190778b5",
   "metadata": {},
   "outputs": [],
   "source": []
  },
  {
   "cell_type": "code",
   "execution_count": 13,
   "id": "7bdde577-2c72-4d55-a06c-296a7a4d7cf5",
   "metadata": {},
   "outputs": [
    {
     "data": {
      "text/html": [
       "<div>\n",
       "<style scoped>\n",
       "    .dataframe tbody tr th:only-of-type {\n",
       "        vertical-align: middle;\n",
       "    }\n",
       "\n",
       "    .dataframe tbody tr th {\n",
       "        vertical-align: top;\n",
       "    }\n",
       "\n",
       "    .dataframe thead th {\n",
       "        text-align: right;\n",
       "    }\n",
       "</style>\n",
       "<table border=\"1\" class=\"dataframe\">\n",
       "  <thead>\n",
       "    <tr style=\"text-align: right;\">\n",
       "      <th></th>\n",
       "      <th>standard</th>\n",
       "      <th>org_code</th>\n",
       "      <th>stage_or_route</th>\n",
       "      <th>treatment_modality</th>\n",
       "      <th>cancer_type</th>\n",
       "      <th>total</th>\n",
       "      <th>within_standard</th>\n",
       "      <th>breaches</th>\n",
       "    </tr>\n",
       "    <tr>\n",
       "      <th>month</th>\n",
       "      <th></th>\n",
       "      <th></th>\n",
       "      <th></th>\n",
       "      <th></th>\n",
       "      <th></th>\n",
       "      <th></th>\n",
       "      <th></th>\n",
       "      <th></th>\n",
       "    </tr>\n",
       "  </thead>\n",
       "  <tbody>\n",
       "    <tr>\n",
       "      <th>2022-04-01</th>\n",
       "      <td>28-day FDS</td>\n",
       "      <td>R0A</td>\n",
       "      <td>breast_symptom_non_cancer</td>\n",
       "      <td>not_applicable_FDS</td>\n",
       "      <td>Unsuspected_breast_ca</td>\n",
       "      <td>382</td>\n",
       "      <td>144</td>\n",
       "      <td>238</td>\n",
       "    </tr>\n",
       "    <tr>\n",
       "      <th>2022-04-01</th>\n",
       "      <td>28-day FDS</td>\n",
       "      <td>R0D</td>\n",
       "      <td>breast_symptom_non_cancer</td>\n",
       "      <td>not_applicable_FDS</td>\n",
       "      <td>Unsuspected_breast_ca</td>\n",
       "      <td>3</td>\n",
       "      <td>2</td>\n",
       "      <td>1</td>\n",
       "    </tr>\n",
       "    <tr>\n",
       "      <th>2022-04-01</th>\n",
       "      <td>28-day FDS</td>\n",
       "      <td>R0A</td>\n",
       "      <td>screening</td>\n",
       "      <td>not_applicable_FDS</td>\n",
       "      <td>Invalid</td>\n",
       "      <td>143</td>\n",
       "      <td>67</td>\n",
       "      <td>76</td>\n",
       "    </tr>\n",
       "    <tr>\n",
       "      <th>2022-04-01</th>\n",
       "      <td>28-day FDS</td>\n",
       "      <td>R0D</td>\n",
       "      <td>screening</td>\n",
       "      <td>not_applicable_FDS</td>\n",
       "      <td>Suspected_breast_ca</td>\n",
       "      <td>12</td>\n",
       "      <td>9</td>\n",
       "      <td>3</td>\n",
       "    </tr>\n",
       "    <tr>\n",
       "      <th>2022-04-01</th>\n",
       "      <td>28-day FDS</td>\n",
       "      <td>R0D</td>\n",
       "      <td>screening</td>\n",
       "      <td>not_applicable_FDS</td>\n",
       "      <td>Suspected_gynecological_ca</td>\n",
       "      <td>1</td>\n",
       "      <td>0</td>\n",
       "      <td>1</td>\n",
       "    </tr>\n",
       "    <tr>\n",
       "      <th>...</th>\n",
       "      <td>...</td>\n",
       "      <td>...</td>\n",
       "      <td>...</td>\n",
       "      <td>...</td>\n",
       "      <td>...</td>\n",
       "      <td>...</td>\n",
       "      <td>...</td>\n",
       "      <td>...</td>\n",
       "    </tr>\n",
       "    <tr>\n",
       "      <th>2023-03-01</th>\n",
       "      <td>62-day Combined</td>\n",
       "      <td>R0A</td>\n",
       "      <td>urgent_suspected_cancer</td>\n",
       "      <td>other</td>\n",
       "      <td>All_Cancers</td>\n",
       "      <td>30</td>\n",
       "      <td>17</td>\n",
       "      <td>13</td>\n",
       "    </tr>\n",
       "    <tr>\n",
       "      <th>2023-03-01</th>\n",
       "      <td>62-day Combined</td>\n",
       "      <td>R0A</td>\n",
       "      <td>urgent_suspected_cancer</td>\n",
       "      <td>radiotherapy</td>\n",
       "      <td>All_Cancers</td>\n",
       "      <td>10</td>\n",
       "      <td>2</td>\n",
       "      <td>8</td>\n",
       "    </tr>\n",
       "    <tr>\n",
       "      <th>2023-03-01</th>\n",
       "      <td>62-day Combined</td>\n",
       "      <td>R0D</td>\n",
       "      <td>urgent_suspected_cancer</td>\n",
       "      <td>radiotherapy</td>\n",
       "      <td>All_Cancers</td>\n",
       "      <td>11</td>\n",
       "      <td>4</td>\n",
       "      <td>7</td>\n",
       "    </tr>\n",
       "    <tr>\n",
       "      <th>2023-03-01</th>\n",
       "      <td>62-day Combined</td>\n",
       "      <td>R0A</td>\n",
       "      <td>urgent_suspected_cancer</td>\n",
       "      <td>surgery</td>\n",
       "      <td>All_Cancers</td>\n",
       "      <td>128</td>\n",
       "      <td>75</td>\n",
       "      <td>53</td>\n",
       "    </tr>\n",
       "    <tr>\n",
       "      <th>2023-03-01</th>\n",
       "      <td>62-day Combined</td>\n",
       "      <td>R0D</td>\n",
       "      <td>urgent_suspected_cancer</td>\n",
       "      <td>surgery</td>\n",
       "      <td>All_Cancers</td>\n",
       "      <td>132</td>\n",
       "      <td>98</td>\n",
       "      <td>33</td>\n",
       "    </tr>\n",
       "  </tbody>\n",
       "</table>\n",
       "<p>1888 rows × 8 columns</p>\n",
       "</div>"
      ],
      "text/plain": [
       "                   standard org_code             stage_or_route  \\\n",
       "month                                                             \n",
       "2022-04-01       28-day FDS      R0A  breast_symptom_non_cancer   \n",
       "2022-04-01       28-day FDS      R0D  breast_symptom_non_cancer   \n",
       "2022-04-01       28-day FDS      R0A                  screening   \n",
       "2022-04-01       28-day FDS      R0D                  screening   \n",
       "2022-04-01       28-day FDS      R0D                  screening   \n",
       "...                     ...      ...                        ...   \n",
       "2023-03-01  62-day Combined      R0A    urgent_suspected_cancer   \n",
       "2023-03-01  62-day Combined      R0A    urgent_suspected_cancer   \n",
       "2023-03-01  62-day Combined      R0D    urgent_suspected_cancer   \n",
       "2023-03-01  62-day Combined      R0A    urgent_suspected_cancer   \n",
       "2023-03-01  62-day Combined      R0D    urgent_suspected_cancer   \n",
       "\n",
       "            treatment_modality                 cancer_type  total  \\\n",
       "month                                                               \n",
       "2022-04-01  not_applicable_FDS       Unsuspected_breast_ca    382   \n",
       "2022-04-01  not_applicable_FDS       Unsuspected_breast_ca      3   \n",
       "2022-04-01  not_applicable_FDS                     Invalid    143   \n",
       "2022-04-01  not_applicable_FDS         Suspected_breast_ca     12   \n",
       "2022-04-01  not_applicable_FDS  Suspected_gynecological_ca      1   \n",
       "...                        ...                         ...    ...   \n",
       "2023-03-01               other                 All_Cancers     30   \n",
       "2023-03-01        radiotherapy                 All_Cancers     10   \n",
       "2023-03-01        radiotherapy                 All_Cancers     11   \n",
       "2023-03-01             surgery                 All_Cancers    128   \n",
       "2023-03-01             surgery                 All_Cancers    132   \n",
       "\n",
       "            within_standard  breaches  \n",
       "month                                  \n",
       "2022-04-01              144       238  \n",
       "2022-04-01                2         1  \n",
       "2022-04-01               67        76  \n",
       "2022-04-01                9         3  \n",
       "2022-04-01                0         1  \n",
       "...                     ...       ...  \n",
       "2023-03-01               17        13  \n",
       "2023-03-01                2         8  \n",
       "2023-03-01                4         7  \n",
       "2023-03-01               75        53  \n",
       "2023-03-01               98        33  \n",
       "\n",
       "[1888 rows x 8 columns]"
      ]
     },
     "execution_count": 13,
     "metadata": {},
     "output_type": "execute_result"
    }
   ],
   "source": [
    "select_org(data, ['R0A', 'R0D'])"
   ]
  },
  {
   "cell_type": "code",
   "execution_count": null,
   "id": "a8a636db-ec56-430e-918e-12e814b7f1c1",
   "metadata": {},
   "outputs": [],
   "source": []
  },
  {
   "cell_type": "code",
   "execution_count": null,
   "id": "c7f52d33-6c90-4ae9-9000-f290ef0fd6ad",
   "metadata": {},
   "outputs": [],
   "source": []
  },
  {
   "cell_type": "code",
   "execution_count": null,
   "id": "50ae53ec-d073-46a9-bd29-13e85def057c",
   "metadata": {},
   "outputs": [],
   "source": [
    "#data = proportion_breaches((data))"
   ]
  },
  {
   "cell_type": "code",
   "execution_count": 14,
   "id": "434feaef-85a3-4abd-bc9e-54590147846e",
   "metadata": {},
   "outputs": [
    {
     "data": {
      "text/html": [
       "<div>\n",
       "<style scoped>\n",
       "    .dataframe tbody tr th:only-of-type {\n",
       "        vertical-align: middle;\n",
       "    }\n",
       "\n",
       "    .dataframe tbody tr th {\n",
       "        vertical-align: top;\n",
       "    }\n",
       "\n",
       "    .dataframe thead th {\n",
       "        text-align: right;\n",
       "    }\n",
       "</style>\n",
       "<table border=\"1\" class=\"dataframe\">\n",
       "  <thead>\n",
       "    <tr style=\"text-align: right;\">\n",
       "      <th></th>\n",
       "      <th>standard</th>\n",
       "      <th>org_code</th>\n",
       "      <th>stage_or_route</th>\n",
       "      <th>treatment_modality</th>\n",
       "      <th>cancer_type</th>\n",
       "      <th>total</th>\n",
       "      <th>within_standard</th>\n",
       "      <th>breaches</th>\n",
       "    </tr>\n",
       "    <tr>\n",
       "      <th>month</th>\n",
       "      <th></th>\n",
       "      <th></th>\n",
       "      <th></th>\n",
       "      <th></th>\n",
       "      <th></th>\n",
       "      <th></th>\n",
       "      <th></th>\n",
       "      <th></th>\n",
       "    </tr>\n",
       "  </thead>\n",
       "  <tbody>\n",
       "    <tr>\n",
       "      <th>2022-04-01</th>\n",
       "      <td>28-day FDS</td>\n",
       "      <td>R1K</td>\n",
       "      <td>breast_symptom_non_cancer</td>\n",
       "      <td>not_applicable_FDS</td>\n",
       "      <td>Unsuspected_breast_ca</td>\n",
       "      <td>262</td>\n",
       "      <td>255</td>\n",
       "      <td>7</td>\n",
       "    </tr>\n",
       "    <tr>\n",
       "      <th>2022-04-01</th>\n",
       "      <td>28-day FDS</td>\n",
       "      <td>R0A</td>\n",
       "      <td>breast_symptom_non_cancer</td>\n",
       "      <td>not_applicable_FDS</td>\n",
       "      <td>Unsuspected_breast_ca</td>\n",
       "      <td>382</td>\n",
       "      <td>144</td>\n",
       "      <td>238</td>\n",
       "    </tr>\n",
       "    <tr>\n",
       "      <th>2022-04-01</th>\n",
       "      <td>28-day FDS</td>\n",
       "      <td>R0D</td>\n",
       "      <td>breast_symptom_non_cancer</td>\n",
       "      <td>not_applicable_FDS</td>\n",
       "      <td>Unsuspected_breast_ca</td>\n",
       "      <td>3</td>\n",
       "      <td>2</td>\n",
       "      <td>1</td>\n",
       "    </tr>\n",
       "    <tr>\n",
       "      <th>2022-04-01</th>\n",
       "      <td>28-day FDS</td>\n",
       "      <td>R1F</td>\n",
       "      <td>breast_symptom_non_cancer</td>\n",
       "      <td>not_applicable_FDS</td>\n",
       "      <td>Unsuspected_breast_ca</td>\n",
       "      <td>66</td>\n",
       "      <td>63</td>\n",
       "      <td>3</td>\n",
       "    </tr>\n",
       "    <tr>\n",
       "      <th>2022-04-01</th>\n",
       "      <td>28-day FDS</td>\n",
       "      <td>RAS</td>\n",
       "      <td>breast_symptom_non_cancer</td>\n",
       "      <td>not_applicable_FDS</td>\n",
       "      <td>Unsuspected_breast_ca</td>\n",
       "      <td>81</td>\n",
       "      <td>78</td>\n",
       "      <td>3</td>\n",
       "    </tr>\n",
       "    <tr>\n",
       "      <th>...</th>\n",
       "      <td>...</td>\n",
       "      <td>...</td>\n",
       "      <td>...</td>\n",
       "      <td>...</td>\n",
       "      <td>...</td>\n",
       "      <td>...</td>\n",
       "      <td>...</td>\n",
       "      <td>...</td>\n",
       "    </tr>\n",
       "    <tr>\n",
       "      <th>2023-03-01</th>\n",
       "      <td>62-day Combined</td>\n",
       "      <td>RWD</td>\n",
       "      <td>urgent_suspected_cancer</td>\n",
       "      <td>surgery</td>\n",
       "      <td>All_Cancers</td>\n",
       "      <td>83</td>\n",
       "      <td>53</td>\n",
       "      <td>30</td>\n",
       "    </tr>\n",
       "    <tr>\n",
       "      <th>2023-03-01</th>\n",
       "      <td>62-day Combined</td>\n",
       "      <td>RWP</td>\n",
       "      <td>urgent_suspected_cancer</td>\n",
       "      <td>surgery</td>\n",
       "      <td>All_Cancers</td>\n",
       "      <td>116</td>\n",
       "      <td>70</td>\n",
       "      <td>46</td>\n",
       "    </tr>\n",
       "    <tr>\n",
       "      <th>2023-03-01</th>\n",
       "      <td>62-day Combined</td>\n",
       "      <td>RXN</td>\n",
       "      <td>urgent_suspected_cancer</td>\n",
       "      <td>surgery</td>\n",
       "      <td>All_Cancers</td>\n",
       "      <td>73</td>\n",
       "      <td>27</td>\n",
       "      <td>46</td>\n",
       "    </tr>\n",
       "    <tr>\n",
       "      <th>2023-03-01</th>\n",
       "      <td>62-day Combined</td>\n",
       "      <td>RXW</td>\n",
       "      <td>urgent_suspected_cancer</td>\n",
       "      <td>surgery</td>\n",
       "      <td>All_Cancers</td>\n",
       "      <td>103</td>\n",
       "      <td>65</td>\n",
       "      <td>37</td>\n",
       "    </tr>\n",
       "    <tr>\n",
       "      <th>2023-03-01</th>\n",
       "      <td>62-day Combined</td>\n",
       "      <td>RY2</td>\n",
       "      <td>urgent_suspected_cancer</td>\n",
       "      <td>surgery</td>\n",
       "      <td>All_Cancers</td>\n",
       "      <td>12</td>\n",
       "      <td>8</td>\n",
       "      <td>4</td>\n",
       "    </tr>\n",
       "  </tbody>\n",
       "</table>\n",
       "<p>103185 rows × 8 columns</p>\n",
       "</div>"
      ],
      "text/plain": [
       "                   standard org_code             stage_or_route  \\\n",
       "month                                                             \n",
       "2022-04-01       28-day FDS      R1K  breast_symptom_non_cancer   \n",
       "2022-04-01       28-day FDS      R0A  breast_symptom_non_cancer   \n",
       "2022-04-01       28-day FDS      R0D  breast_symptom_non_cancer   \n",
       "2022-04-01       28-day FDS      R1F  breast_symptom_non_cancer   \n",
       "2022-04-01       28-day FDS      RAS  breast_symptom_non_cancer   \n",
       "...                     ...      ...                        ...   \n",
       "2023-03-01  62-day Combined      RWD    urgent_suspected_cancer   \n",
       "2023-03-01  62-day Combined      RWP    urgent_suspected_cancer   \n",
       "2023-03-01  62-day Combined      RXN    urgent_suspected_cancer   \n",
       "2023-03-01  62-day Combined      RXW    urgent_suspected_cancer   \n",
       "2023-03-01  62-day Combined      RY2    urgent_suspected_cancer   \n",
       "\n",
       "            treatment_modality            cancer_type  total  within_standard  \\\n",
       "month                                                                           \n",
       "2022-04-01  not_applicable_FDS  Unsuspected_breast_ca    262              255   \n",
       "2022-04-01  not_applicable_FDS  Unsuspected_breast_ca    382              144   \n",
       "2022-04-01  not_applicable_FDS  Unsuspected_breast_ca      3                2   \n",
       "2022-04-01  not_applicable_FDS  Unsuspected_breast_ca     66               63   \n",
       "2022-04-01  not_applicable_FDS  Unsuspected_breast_ca     81               78   \n",
       "...                        ...                    ...    ...              ...   \n",
       "2023-03-01             surgery            All_Cancers     83               53   \n",
       "2023-03-01             surgery            All_Cancers    116               70   \n",
       "2023-03-01             surgery            All_Cancers     73               27   \n",
       "2023-03-01             surgery            All_Cancers    103               65   \n",
       "2023-03-01             surgery            All_Cancers     12                8   \n",
       "\n",
       "            breaches  \n",
       "month                 \n",
       "2022-04-01         7  \n",
       "2022-04-01       238  \n",
       "2022-04-01         1  \n",
       "2022-04-01         3  \n",
       "2022-04-01         3  \n",
       "...              ...  \n",
       "2023-03-01        30  \n",
       "2023-03-01        46  \n",
       "2023-03-01        46  \n",
       "2023-03-01        37  \n",
       "2023-03-01         4  \n",
       "\n",
       "[103185 rows x 8 columns]"
      ]
     },
     "execution_count": 14,
     "metadata": {},
     "output_type": "execute_result"
    }
   ],
   "source": [
    "select_months(data, end_date='2023-10-01')"
   ]
  },
  {
   "cell_type": "code",
   "execution_count": null,
   "id": "2bf01fbc-4694-473b-8c58-c31212190caf",
   "metadata": {},
   "outputs": [],
   "source": [
    "help(filter_data)"
   ]
  },
  {
   "cell_type": "code",
   "execution_count": 9,
   "id": "4461930e-41d6-48d9-9381-802eacb593e0",
   "metadata": {},
   "outputs": [
    {
     "ename": "NameError",
     "evalue": "name 'filter_data' is not defined",
     "output_type": "error",
     "traceback": [
      "\u001b[0;31m---------------------------------------------------------------------------\u001b[0m",
      "\u001b[0;31mNameError\u001b[0m                                 Traceback (most recent call last)",
      "Cell \u001b[0;32mIn[9], line 1\u001b[0m\n\u001b[0;32m----> 1\u001b[0m \u001b[43mfilter_data\u001b[49m(df\u001b[38;5;241m=\u001b[39mdata, filters\u001b[38;5;241m=\u001b[39m{\u001b[38;5;124m'\u001b[39m\u001b[38;5;124mstart_month\u001b[39m\u001b[38;5;124m'\u001b[39m:\u001b[38;5;124m'\u001b[39m\u001b[38;5;124m05-2022\u001b[39m\u001b[38;5;124m'\u001b[39m,\n\u001b[1;32m      2\u001b[0m                               \u001b[38;5;124m'\u001b[39m\u001b[38;5;124mend_month\u001b[39m\u001b[38;5;124m'\u001b[39m:\u001b[38;5;124m'\u001b[39m\u001b[38;5;124m05-2022\u001b[39m\u001b[38;5;124m'\u001b[39m,\n\u001b[1;32m      3\u001b[0m                               \u001b[38;5;124m'\u001b[39m\u001b[38;5;124mstandard\u001b[39m\u001b[38;5;124m'\u001b[39m:\u001b[38;5;124m'\u001b[39m\u001b[38;5;124mFDS\u001b[39m\u001b[38;5;124m'\u001b[39m})\n",
      "\u001b[0;31mNameError\u001b[0m: name 'filter_data' is not defined"
     ]
    }
   ],
   "source": [
    "filter_data(df=data, filters={'start_month':'05-2022',\n",
    "                              'end_month':'05-2022',\n",
    "                              'standard':'FDS'})"
   ]
  },
  {
   "cell_type": "code",
   "execution_count": null,
   "id": "95210f8a-97c4-4b8e-aa72-ea2ed98722b1",
   "metadata": {},
   "outputs": [],
   "source": [
    "help(select_standard)"
   ]
  },
  {
   "cell_type": "code",
   "execution_count": null,
   "id": "915b7b11-f4d0-40ff-891f-94935b25f021",
   "metadata": {},
   "outputs": [],
   "source": [
    "isinstance(np.empty(shape=2), list)"
   ]
  },
  {
   "cell_type": "code",
   "execution_count": null,
   "id": "085f1fdb-26e2-4050-b1be-805c5fa9f804",
   "metadata": {},
   "outputs": [],
   "source": [
    "help_with('standards')"
   ]
  },
  {
   "cell_type": "code",
   "execution_count": null,
   "id": "773e6ff6-7240-4d62-9128-39dbfe933597",
   "metadata": {},
   "outputs": [],
   "source": [
    "data"
   ]
  },
  {
   "cell_type": "code",
   "execution_count": null,
   "id": "b7189d36-7ad6-4fc1-93e7-b011de3c549b",
   "metadata": {},
   "outputs": [],
   "source": [
    "link_data = nhs_code_link()\n",
    "# overlap = list(set(data['ORG CODE']) & set(link_data['ORG CODE']))\n",
    "# unmatched = data[~data['ORG CODE'].astype(str).isin(link_data['ORG CODE'].astype(str))]"
   ]
  },
  {
   "cell_type": "code",
   "execution_count": null,
   "id": "5991a5af-288d-4138-896b-adf844d4f710",
   "metadata": {},
   "outputs": [],
   "source": [
    "#plt.figure(figsize=[10,10])\n",
    "sns.stripplot(x='PERIOD', y = 'BREACHES', data=select_org(df=data,org_str='R1K'), hue = 'CANCER_TYPE', legend=False)"
   ]
  },
  {
   "cell_type": "code",
   "execution_count": null,
   "id": "a2255d08-c693-44e3-9dab-cf17a9c31bc4",
   "metadata": {},
   "outputs": [],
   "source": [
    "sns.lineplot(x='PERIOD', y='BREACHES', data=select_org(data,'R0A').groupby(by='PERIOD').sum())"
   ]
  },
  {
   "cell_type": "code",
   "execution_count": null,
   "id": "503ffb06-2a6e-429d-a64a-10a33c9510e6",
   "metadata": {},
   "outputs": [],
   "source": [
    "data.stage_or_route.value_counts()"
   ]
  },
  {
   "cell_type": "code",
   "execution_count": null,
   "id": "1cedb22e-8d0e-4601-a105-76414e8f2bac",
   "metadata": {},
   "outputs": [],
   "source": [
    "# Need to add informative title displaying type of cancer and full name of organisation + national standard on the plot\n",
    "# Need to handle if some orgs do not have certain cancers/standards\n",
    "\n",
    "trial = select_data(data,[('cancer',3), ('org', 'r0a'), ('standard', 'FDS')])\n",
    "trial = trial.loc[trial['STAGE/ROUTE'] =='NATIONAL SCREENING PROGRAMME']\n",
    "breaches_animated_plot(trial,[])\n"
   ]
  },
  {
   "cell_type": "code",
   "execution_count": 16,
   "id": "fe8ada95-2d30-4ca6-ae97-75ed71768677",
   "metadata": {},
   "outputs": [],
   "source": [
    "\n",
    "\n",
    "    "
   ]
  },
  {
   "cell_type": "code",
   "execution_count": null,
   "id": "5a705d8e-85d3-4843-ae27-e728324a6008",
   "metadata": {},
   "outputs": [],
   "source": [
    "######## Below is work in progress on creating a map with statistics"
   ]
  },
  {
   "cell_type": "code",
   "execution_count": 41,
   "id": "d750a94f-6840-4d34-a882-02e29ba30cad",
   "metadata": {},
   "outputs": [],
   "source": [
    "\n",
    "\n",
    "    "
   ]
  },
  {
   "cell_type": "code",
   "execution_count": null,
   "id": "51641ca4-3a56-488b-b657-52bc24623d73",
   "metadata": {},
   "outputs": [],
   "source": []
  },
  {
   "cell_type": "code",
   "execution_count": 289,
   "id": "b4fbc312-d25c-45a6-bbe2-359953090205",
   "metadata": {},
   "outputs": [],
   "source": [
    "def select_to_plot(data, gdf=None, filters=None, start_month='2022-04-01', end_month='2023-03-01', standard='FDS',\n",
    "                   stage_or_route=None, treatment=None, cancer_type=None, return_filtered=False):\n",
    "    \"\"\"\n",
    "    Select and filter data for plotting on a map.\n",
    "\n",
    "    Parameters\n",
    "    ----------\n",
    "    data : DataFrame\n",
    "        The input DataFrame containing the data to be filtered and plotted.\n",
    "    gdf : GeoDataFrame, optional\n",
    "        The GeoDataFrame representing the geographical data for mapping. Default is None.\n",
    "    filters : dict, optional\n",
    "        A dictionary of filters to apply directly to the data. If provided, other filtering arguments are ignored.\n",
    "        Default is None.\n",
    "    start_month : str, optional\n",
    "        The start month for filtering data. Format should be 'YYYY-MM'. Default is '2022-04-01'.\n",
    "    end_month : str, optional\n",
    "        The end month for filtering data. Format should be 'YYYY-MM'. Default is '2023-03-01'.\n",
    "    standard : str, optional\n",
    "        The standard for filtering data. Default is 'FDS'.\n",
    "    stage_or_route : str, optional\n",
    "        The stage or route for filtering data. Default is None.\n",
    "    treatment : str, optional\n",
    "        The treatment modality for filtering data. Default is None.\n",
    "    cancer_type : str, optional\n",
    "        The cancer type for filtering data. Default is None.\n",
    "    return_filtered : bool, optional\n",
    "        If True, return the filtered DataFrame in addition to the mapped GeoDataFrame and labels.\n",
    "        Default is False.\n",
    "\n",
    "    Returns\n",
    "    -------\n",
    "    result : tuple\n",
    "        A tuple containing the mapped GeoDataFrame, labels for plotting, and optionally, the filtered DataFrame.\n",
    "\n",
    "    Notes\n",
    "    -----\n",
    "    - If filters is provided, other filtering arguments are ignored.\n",
    "    - The function calculates proportions of breaches for each ICB23NM category.\n",
    "    - The GeoDataFrame is merged with the proportions of breaches based on ICB23NM.\n",
    "\n",
    "    Examples\n",
    "    --------\n",
    "    >>> select_to_plot(data, gdf, start_month='2022-04-01', end_month='2023-03-01', standard='FDS')\n",
    "    (<GeoDataFrame>, {'cancer_type': array([...]), 'period': array([...]), 'standard': array([...])})\n",
    "\n",
    "    >>> select_to_plot(data, gdf, filters={'start_month': '2022-06-01', 'cancer_type': 'Breast'},\n",
    "    ...                return_filtered=True)\n",
    "    (<GeoDataFrame>, {'cancer_type': array([...]), 'period': array([...]), 'standard': array([...])},\n",
    "    <DataFrame>)\n",
    "    \"\"\"\n",
    "    if filters is None:\n",
    "        # Create a dictionary with all arguments\n",
    "        args_dict = locals()\n",
    "        keywords = {'start_month', 'end_month', 'standard', 'stage_or_route', 'treatment', 'cancer_type'}\n",
    "        filter_dict = {key: value for key, value in args_dict.items() if key in keywords and value is not None}\n",
    "    elif filters is not None:\n",
    "        filter_dict = filters\n",
    "\n",
    "    filtered_df = filter_data(data, filter_dict)\n",
    "\n",
    "    icb_code_to_names, org_to_hlhg = create_lookup_dict_icb()\n",
    "\n",
    "    filtered_df['hlhg'] = filtered_df['org_code'].map(org_to_hlhg)\n",
    "    filtered_df['ICB23NM'] = filtered_df['hlhg'].map(icb_code_to_names)\n",
    "\n",
    "    labels_for_plotting = {'cancer_type': filtered_df.cancer_type.unique(),\n",
    "                           'period': filtered_df.index.unique(),\n",
    "                           'standard': filtered_df.standard.unique()}\n",
    "\n",
    "    icb_breaches = round(filtered_df.groupby('ICB23NM').breaches.sum()\n",
    "                         / filtered_df.groupby('ICB23NM').total.sum(), 2\n",
    "                        ).astype(float)\n",
    "\n",
    "    icb_breaches.rename('proportion_breaches', inplace=True)\n",
    "\n",
    "    gdf = read_shapefile()\n",
    "\n",
    "    merged_gdf = pd.merge(gdf, icb_breaches, left_on='ICB23NM', right_index=True)\n",
    "\n",
    "    if not return_filtered:\n",
    "        return merged_gdf, labels_for_plotting\n",
    "    elif return_filtered:\n",
    "        return merged_gdf, labels_for_plotting, filtered_df\n",
    "\n",
    "    \n",
    "    \n",
    "    \n",
    "    "
   ]
  },
  {
   "cell_type": "code",
   "execution_count": 358,
   "id": "cfb26f3d-0c19-4169-b1d3-fac38974c41c",
   "metadata": {},
   "outputs": [],
   "source": [
    "\n",
    "    \n",
    "        "
   ]
  },
  {
   "cell_type": "code",
   "execution_count": 327,
   "id": "ff49af1e-6d90-40e5-b7df-c1485c495164",
   "metadata": {},
   "outputs": [
    {
     "data": {
      "text/html": [
       "<div>\n",
       "<style scoped>\n",
       "    .dataframe tbody tr th:only-of-type {\n",
       "        vertical-align: middle;\n",
       "    }\n",
       "\n",
       "    .dataframe tbody tr th {\n",
       "        vertical-align: top;\n",
       "    }\n",
       "\n",
       "    .dataframe thead th {\n",
       "        text-align: right;\n",
       "    }\n",
       "</style>\n",
       "<table border=\"1\" class=\"dataframe\">\n",
       "  <thead>\n",
       "    <tr style=\"text-align: right;\">\n",
       "      <th></th>\n",
       "      <th>standard</th>\n",
       "      <th>org_code</th>\n",
       "      <th>stage_or_route</th>\n",
       "      <th>treatment_modality</th>\n",
       "      <th>cancer_type</th>\n",
       "      <th>total</th>\n",
       "      <th>within_standard</th>\n",
       "      <th>breaches</th>\n",
       "      <th>hlhg</th>\n",
       "      <th>ICB23NM</th>\n",
       "    </tr>\n",
       "    <tr>\n",
       "      <th>month</th>\n",
       "      <th></th>\n",
       "      <th></th>\n",
       "      <th></th>\n",
       "      <th></th>\n",
       "      <th></th>\n",
       "      <th></th>\n",
       "      <th></th>\n",
       "      <th></th>\n",
       "      <th></th>\n",
       "      <th></th>\n",
       "    </tr>\n",
       "  </thead>\n",
       "  <tbody>\n",
       "    <tr>\n",
       "      <th>2022-04-01</th>\n",
       "      <td>28-day FDS</td>\n",
       "      <td>R1K</td>\n",
       "      <td>breast_symptom_non_cancer</td>\n",
       "      <td>not_applicable_FDS</td>\n",
       "      <td>Unsuspected_breast_ca</td>\n",
       "      <td>262</td>\n",
       "      <td>255</td>\n",
       "      <td>7</td>\n",
       "      <td>QRV</td>\n",
       "      <td>NHS North West London Integrated Care Board</td>\n",
       "    </tr>\n",
       "    <tr>\n",
       "      <th>2022-04-01</th>\n",
       "      <td>28-day FDS</td>\n",
       "      <td>R0A</td>\n",
       "      <td>breast_symptom_non_cancer</td>\n",
       "      <td>not_applicable_FDS</td>\n",
       "      <td>Unsuspected_breast_ca</td>\n",
       "      <td>382</td>\n",
       "      <td>144</td>\n",
       "      <td>238</td>\n",
       "      <td>QOP</td>\n",
       "      <td>NHS Greater Manchester Integrated Care Board</td>\n",
       "    </tr>\n",
       "    <tr>\n",
       "      <th>2022-04-01</th>\n",
       "      <td>28-day FDS</td>\n",
       "      <td>R0D</td>\n",
       "      <td>breast_symptom_non_cancer</td>\n",
       "      <td>not_applicable_FDS</td>\n",
       "      <td>Unsuspected_breast_ca</td>\n",
       "      <td>3</td>\n",
       "      <td>2</td>\n",
       "      <td>1</td>\n",
       "      <td>QVV</td>\n",
       "      <td>NHS Dorset Integrated Care Board</td>\n",
       "    </tr>\n",
       "    <tr>\n",
       "      <th>2022-04-01</th>\n",
       "      <td>28-day FDS</td>\n",
       "      <td>R1F</td>\n",
       "      <td>breast_symptom_non_cancer</td>\n",
       "      <td>not_applicable_FDS</td>\n",
       "      <td>Unsuspected_breast_ca</td>\n",
       "      <td>66</td>\n",
       "      <td>63</td>\n",
       "      <td>3</td>\n",
       "      <td>QRL</td>\n",
       "      <td>NHS Hampshire and Isle of Wight Integrated Car...</td>\n",
       "    </tr>\n",
       "    <tr>\n",
       "      <th>2022-04-01</th>\n",
       "      <td>28-day FDS</td>\n",
       "      <td>RAS</td>\n",
       "      <td>breast_symptom_non_cancer</td>\n",
       "      <td>not_applicable_FDS</td>\n",
       "      <td>Unsuspected_breast_ca</td>\n",
       "      <td>81</td>\n",
       "      <td>78</td>\n",
       "      <td>3</td>\n",
       "      <td>QRV</td>\n",
       "      <td>NHS North West London Integrated Care Board</td>\n",
       "    </tr>\n",
       "    <tr>\n",
       "      <th>...</th>\n",
       "      <td>...</td>\n",
       "      <td>...</td>\n",
       "      <td>...</td>\n",
       "      <td>...</td>\n",
       "      <td>...</td>\n",
       "      <td>...</td>\n",
       "      <td>...</td>\n",
       "      <td>...</td>\n",
       "      <td>...</td>\n",
       "      <td>...</td>\n",
       "    </tr>\n",
       "    <tr>\n",
       "      <th>2023-03-01</th>\n",
       "      <td>62-day Combined</td>\n",
       "      <td>RWD</td>\n",
       "      <td>urgent_suspected_cancer</td>\n",
       "      <td>surgery</td>\n",
       "      <td>All_Cancers</td>\n",
       "      <td>83</td>\n",
       "      <td>53</td>\n",
       "      <td>30</td>\n",
       "      <td>QJM</td>\n",
       "      <td>NHS Lincolnshire Integrated Care Board</td>\n",
       "    </tr>\n",
       "    <tr>\n",
       "      <th>2023-03-01</th>\n",
       "      <td>62-day Combined</td>\n",
       "      <td>RWP</td>\n",
       "      <td>urgent_suspected_cancer</td>\n",
       "      <td>surgery</td>\n",
       "      <td>All_Cancers</td>\n",
       "      <td>116</td>\n",
       "      <td>70</td>\n",
       "      <td>46</td>\n",
       "      <td>QGH</td>\n",
       "      <td>NHS Herefordshire and Worcestershire Integrate...</td>\n",
       "    </tr>\n",
       "    <tr>\n",
       "      <th>2023-03-01</th>\n",
       "      <td>62-day Combined</td>\n",
       "      <td>RXN</td>\n",
       "      <td>urgent_suspected_cancer</td>\n",
       "      <td>surgery</td>\n",
       "      <td>All_Cancers</td>\n",
       "      <td>73</td>\n",
       "      <td>27</td>\n",
       "      <td>46</td>\n",
       "      <td>QE1</td>\n",
       "      <td>NHS Lancashire and South Cumbria Integrated Ca...</td>\n",
       "    </tr>\n",
       "    <tr>\n",
       "      <th>2023-03-01</th>\n",
       "      <td>62-day Combined</td>\n",
       "      <td>RXW</td>\n",
       "      <td>urgent_suspected_cancer</td>\n",
       "      <td>surgery</td>\n",
       "      <td>All_Cancers</td>\n",
       "      <td>103</td>\n",
       "      <td>65</td>\n",
       "      <td>37</td>\n",
       "      <td>QOC</td>\n",
       "      <td>NHS Shropshire, Telford and Wrekin Integrated ...</td>\n",
       "    </tr>\n",
       "    <tr>\n",
       "      <th>2023-03-01</th>\n",
       "      <td>62-day Combined</td>\n",
       "      <td>RY2</td>\n",
       "      <td>urgent_suspected_cancer</td>\n",
       "      <td>surgery</td>\n",
       "      <td>All_Cancers</td>\n",
       "      <td>12</td>\n",
       "      <td>8</td>\n",
       "      <td>4</td>\n",
       "      <td>QYG</td>\n",
       "      <td>NHS Cheshire and Merseyside Integrated Care Board</td>\n",
       "    </tr>\n",
       "  </tbody>\n",
       "</table>\n",
       "<p>103185 rows × 10 columns</p>\n",
       "</div>"
      ],
      "text/plain": [
       "                   standard org_code             stage_or_route  \\\n",
       "month                                                             \n",
       "2022-04-01       28-day FDS      R1K  breast_symptom_non_cancer   \n",
       "2022-04-01       28-day FDS      R0A  breast_symptom_non_cancer   \n",
       "2022-04-01       28-day FDS      R0D  breast_symptom_non_cancer   \n",
       "2022-04-01       28-day FDS      R1F  breast_symptom_non_cancer   \n",
       "2022-04-01       28-day FDS      RAS  breast_symptom_non_cancer   \n",
       "...                     ...      ...                        ...   \n",
       "2023-03-01  62-day Combined      RWD    urgent_suspected_cancer   \n",
       "2023-03-01  62-day Combined      RWP    urgent_suspected_cancer   \n",
       "2023-03-01  62-day Combined      RXN    urgent_suspected_cancer   \n",
       "2023-03-01  62-day Combined      RXW    urgent_suspected_cancer   \n",
       "2023-03-01  62-day Combined      RY2    urgent_suspected_cancer   \n",
       "\n",
       "            treatment_modality            cancer_type  total  within_standard  \\\n",
       "month                                                                           \n",
       "2022-04-01  not_applicable_FDS  Unsuspected_breast_ca    262              255   \n",
       "2022-04-01  not_applicable_FDS  Unsuspected_breast_ca    382              144   \n",
       "2022-04-01  not_applicable_FDS  Unsuspected_breast_ca      3                2   \n",
       "2022-04-01  not_applicable_FDS  Unsuspected_breast_ca     66               63   \n",
       "2022-04-01  not_applicable_FDS  Unsuspected_breast_ca     81               78   \n",
       "...                        ...                    ...    ...              ...   \n",
       "2023-03-01             surgery            All_Cancers     83               53   \n",
       "2023-03-01             surgery            All_Cancers    116               70   \n",
       "2023-03-01             surgery            All_Cancers     73               27   \n",
       "2023-03-01             surgery            All_Cancers    103               65   \n",
       "2023-03-01             surgery            All_Cancers     12                8   \n",
       "\n",
       "            breaches hlhg                                            ICB23NM  \n",
       "month                                                                         \n",
       "2022-04-01         7  QRV        NHS North West London Integrated Care Board  \n",
       "2022-04-01       238  QOP       NHS Greater Manchester Integrated Care Board  \n",
       "2022-04-01         1  QVV                   NHS Dorset Integrated Care Board  \n",
       "2022-04-01         3  QRL  NHS Hampshire and Isle of Wight Integrated Car...  \n",
       "2022-04-01         3  QRV        NHS North West London Integrated Care Board  \n",
       "...              ...  ...                                                ...  \n",
       "2023-03-01        30  QJM             NHS Lincolnshire Integrated Care Board  \n",
       "2023-03-01        46  QGH  NHS Herefordshire and Worcestershire Integrate...  \n",
       "2023-03-01        46  QE1  NHS Lancashire and South Cumbria Integrated Ca...  \n",
       "2023-03-01        37  QOC  NHS Shropshire, Telford and Wrekin Integrated ...  \n",
       "2023-03-01         4  QYG  NHS Cheshire and Merseyside Integrated Care Board  \n",
       "\n",
       "[103185 rows x 10 columns]"
      ]
     },
     "execution_count": 327,
     "metadata": {},
     "output_type": "execute_result"
    }
   ],
   "source": [
    "data"
   ]
  },
  {
   "cell_type": "code",
   "execution_count": null,
   "id": "c6b3c29a-ca75-4dee-8ad1-12463a40eb79",
   "metadata": {},
   "outputs": [],
   "source": [
    "filter_data()"
   ]
  },
  {
   "cell_type": "code",
   "execution_count": 333,
   "id": "1e2bb7fb-e0f3-4ab4-8c2a-591662498c28",
   "metadata": {},
   "outputs": [
    {
     "data": {
      "text/plain": [
       "['not_applicable_FDS', 'all', 'anticancer_drug', 'other', 'radiotherapy', 'surgery']\n",
       "Categories (6, object): ['all', 'anticancer_drug', 'other', 'radiotherapy', 'surgery', 'not_applicable_FDS']"
      ]
     },
     "execution_count": 333,
     "metadata": {},
     "output_type": "execute_result"
    }
   ],
   "source": [
    "data.treatment_modality.unique()"
   ]
  },
  {
   "cell_type": "code",
   "execution_count": 356,
   "id": "73535e66-df30-4f4a-be76-8ace5e227c4d",
   "metadata": {},
   "outputs": [],
   "source": [
    "x = select_to_plot(data, filters={'start_month':'05-2022',\n",
    "                              'end_month':'01-2023',\n",
    "                              'standard':'RTT',\n",
    "                                  'treatment_modality':['radiotherapy', 'surgery']\n",
    "                                })"
   ]
  },
  {
   "cell_type": "code",
   "execution_count": 360,
   "id": "067dbf32-b2fe-4bd9-88d8-a35f431caef9",
   "metadata": {},
   "outputs": [
    {
     "data": {
      "image/png": "[encoded data removed]",
      "text/plain": [
       "<Figure size 700x700 with 2 Axes>"
      ]
     },
     "metadata": {},
     "output_type": "display_data"
    }
   ],
   "source": [
    "fig,ax = plot_icb_map(data, filters={'start_month':'05-2022',\n",
    "                              'end_month':'01-2023',\n",
    "                              'standard':'FDS',\n",
    "                                })\n"
   ]
  },
  {
   "cell_type": "code",
   "execution_count": 311,
   "id": "16a3c982-8de9-4a41-90fb-b116128b755a",
   "metadata": {},
   "outputs": [
    {
     "data": {
      "text/plain": [
       "['Unsuspected_breast_ca']\n",
       "Categories (28, object): ['All_Cancers', 'Breast', 'Unsuspected_breast_ca', 'Gynecological', ..., 'Suspected_upper_GI_ca', 'Suspected_urological_ca', 'Upper_GI', 'Urological']"
      ]
     },
     "execution_count": 311,
     "metadata": {},
     "output_type": "execute_result"
    }
   ],
   "source": [
    "x[1]['cancer_type']"
   ]
  },
  {
   "cell_type": "code",
   "execution_count": 309,
   "id": "8a9f5946-3963-484f-ac62-ccb3f1bd557c",
   "metadata": {},
   "outputs": [
    {
     "data": {
      "text/plain": [
       "'March 2023'"
      ]
     },
     "execution_count": 309,
     "metadata": {},
     "output_type": "execute_result"
    }
   ],
   "source": [
    "x[1]['period'][-1].strftime('%B %Y')"
   ]
  },
  {
   "cell_type": "code",
   "execution_count": 304,
   "id": "cdca3138-f902-4c8c-9929-4e7c4adcda4f",
   "metadata": {},
   "outputs": [
    {
     "data": {
      "text/plain": [
       "'28-day FDS'"
      ]
     },
     "execution_count": 304,
     "metadata": {},
     "output_type": "execute_result"
    }
   ],
   "source": [
    "x[1]['standard'][0]"
   ]
  },
  {
   "cell_type": "code",
   "execution_count": 336,
   "id": "f01f97fd-667d-44d4-a4e3-679dc03ae684",
   "metadata": {},
   "outputs": [
    {
     "data": {
      "text/plain": [
       "{'cancer_type': ['Breast', 'Hematological', 'Other', 'All_Cancers', 'Gynecological', ..., 'Lower_GI', 'Lung', 'Skin', 'Upper_GI', 'Urological']\n",
       " Length: 11\n",
       " Categories (28, object): ['All_Cancers', 'Breast', 'Unsuspected_breast_ca', 'Gynecological', ..., 'Suspected_upper_GI_ca', 'Suspected_urological_ca', 'Upper_GI', 'Urological'],\n",
       " 'period': DatetimeIndex(['2022-05-01', '2022-06-01', '2022-07-01', '2022-08-01',\n",
       "                '2022-09-01', '2022-10-01', '2022-11-01', '2022-12-01',\n",
       "                '2023-01-01'],\n",
       "               dtype='datetime64[ns]', name='month', freq=None),\n",
       " 'standard': ['62-day Combined']\n",
       " Categories (3, object): ['28-day FDS', '31-day Combined', '62-day Combined']}"
      ]
     },
     "execution_count": 336,
     "metadata": {},
     "output_type": "execute_result"
    }
   ],
   "source": [
    "select_to_plot()"
   ]
  },
  {
   "cell_type": "code",
   "execution_count": 341,
   "id": "577f285d-f663-4827-b350-d99590541608",
   "metadata": {},
   "outputs": [],
   "source": [
    "\n",
    "    \n",
    "    "
   ]
  },
  {
   "cell_type": "code",
   "execution_count": 340,
   "id": "0292b93d-7cf9-447c-bbc9-75baf8ace62b",
   "metadata": {},
   "outputs": [
    {
     "name": "stdout",
     "output_type": "stream",
     "text": [
      "ICB map for 62-day Combined standard.\n",
      "Cancer types: more 3 cancer types\n",
      "Prediod from May 2022 to January 2023\n"
     ]
    }
   ],
   "source": [
    "format_map_label(x[1])"
   ]
  },
  {
   "cell_type": "code",
   "execution_count": 320,
   "id": "857337b8-bfce-486a-8aca-3256c5507f92",
   "metadata": {},
   "outputs": [],
   "source": [
    "c=x[1]['cancer_type'][0]\n"
   ]
  },
  {
   "cell_type": "code",
   "execution_count": 323,
   "id": "e20e2968-f797-4cfe-8bbd-8d2a595f9877",
   "metadata": {},
   "outputs": [
    {
     "data": {
      "text/plain": [
       "'Unsuspected breast ca'"
      ]
     },
     "execution_count": 323,
     "metadata": {},
     "output_type": "execute_result"
    }
   ],
   "source": [
    "c."
   ]
  },
  {
   "cell_type": "code",
   "execution_count": 237,
   "id": "dd7c8dbc-bf46-4967-8bdf-79e7e1bb4f85",
   "metadata": {},
   "outputs": [
    {
     "name": "stdout",
     "output_type": "stream",
     "text": [
      "There are three standards present in this dataset:\n",
      " 1. The 28-day Faster Diagnosis Standard (FDS).\n",
      "The standard: People should have cancer ruled out or receive a diagnosis within 28 days\n",
      "NHS target: 75% of people should meet this standard\n",
      "\n",
      " 2. 31-day decision to treat to treatment standard (DTT).\n",
      "The standard: Treatment should begin within a month (31 days)of deciding to treat their cancer.\n",
      "NHS target: 96% of people should meet this standard\n",
      "\n",
      " 3.62-day referral to treatment standard\n",
      "The standard: Treatment should begin withintwo months (62 days) of an urgent referral.\n",
      "NHS target: 85% of people should meet this standard\n",
      "\n",
      " \n",
      " Further info at:  https://news.cancerresearchuk.org/2023/08/17/breaking-down-nhs-englands-changes-in-standards-for-cancer-care/\n"
     ]
    }
   ],
   "source": [
    "help_with('standards')"
   ]
  },
  {
   "cell_type": "code",
   "execution_count": null,
   "id": "cefaa97f-165b-4ada-a168-a984b562d18e",
   "metadata": {},
   "outputs": [],
   "source": []
  },
  {
   "cell_type": "code",
   "execution_count": null,
   "id": "86463319-f113-4a41-a5f1-b190595d8a3d",
   "metadata": {},
   "outputs": [
    {
     "data": {
      "text/plain": [
       "'28-day FDS'"
      ]
     },
     "execution_count": 64,
     "metadata": {},
     "output_type": "execute_result"
    }
   ],
   "source": [
    "filters"
   ]
  },
  {
   "cell_type": "code",
   "execution_count": null,
   "id": "71deee83-1fcf-4103-9f40-50fafb931dfe",
   "metadata": {},
   "outputs": [],
   "source": []
  },
  {
   "cell_type": "code",
   "execution_count": 236,
   "id": "0b54d4bd-16b0-4a3a-b3e7-813ebf08341c",
   "metadata": {},
   "outputs": [
    {
     "data": {
      "text/plain": [
       "'FDS'"
      ]
     },
     "execution_count": 236,
     "metadata": {},
     "output_type": "execute_result"
    }
   ],
   "source": [
    "filters={'start_month':'05-2022', 'end_month':'05-2022','standard':'FDS'}\n",
    "\n",
    "filters['standard']"
   ]
  },
  {
   "cell_type": "code",
   "execution_count": null,
   "id": "d8087d0b-75cb-4456-ab87-b6d714e96f53",
   "metadata": {},
   "outputs": [],
   "source": []
  },
  {
   "cell_type": "code",
   "execution_count": null,
   "id": "a934c601-0c89-4507-9805-460ec1327991",
   "metadata": {},
   "outputs": [],
   "source": [
    "data"
   ]
  },
  {
   "cell_type": "code",
   "execution_count": null,
   "id": "bf86e3ed-f5f5-4101-86f7-606dd4f5f787",
   "metadata": {},
   "outputs": [],
   "source": [
    "help(select_to_plot)"
   ]
  },
  {
   "cell_type": "code",
   "execution_count": null,
   "id": "1de2de95-b6ee-4970-8bff-64b337f65a43",
   "metadata": {},
   "outputs": [],
   "source": [
    "labels = select_to_plot(data, [('cancer',10), ('standard', 'FDS')])[1]\n",
    "plotting_material = select_to_plot(data, [('cancer',10), ('standard', 'FDS')])[0]"
   ]
  },
  {
   "cell_type": "code",
   "execution_count": null,
   "id": "e9b05a4b-668e-43fb-b337-d0030502f046",
   "metadata": {},
   "outputs": [],
   "source": [
    "labels"
   ]
  },
  {
   "cell_type": "code",
   "execution_count": 235,
   "id": "9eeb154a-63a7-47b8-b679-e49ec56ef96a",
   "metadata": {},
   "outputs": [
    {
     "data": {
      "image/png": "[encoded data removed]",
      "text/plain": [
       "<Figure size 700x700 with 2 Axes>"
      ]
     },
     "metadata": {},
     "output_type": "display_data"
    }
   ],
   "source": [
    "import geopandas as gpd\n",
    "import numpy as np\n",
    "import matplotlib.pyplot as plt\n",
    "from matplotlib.colors import LinearSegmentedColormap\n",
    "from mpl_toolkits.axes_grid1 import make_axes_locatable\n",
    "from matplotlib.cm import ScalarMappable\n",
    "from matplotlib.colors import Normalize\n",
    "\n"
   ]
  },
  {
   "cell_type": "code",
   "execution_count": null,
   "id": "1c158f29-c835-4471-b395-d945567eb968",
   "metadata": {},
   "outputs": [],
   "source": []
  },
  {
   "cell_type": "code",
   "execution_count": null,
   "id": "fe55a40d-c2d9-4ae9-8ce9-6302a2523cea",
   "metadata": {},
   "outputs": [],
   "source": [
    "icb_codes = read_icb_sicb_coding()\n",
    "nhs_link = nhs_code_link()\n",
    "\n",
    "icb_code_to_names = dict(zip(icb_codes['ICB22CDH'], icb_codes['ICB22NM']))\n",
    "org_to_icb = dict(zip(nhs_link['ORG_CODE'], nhs_link['Higher Level Health Geography']))\n",
    "\n",
    "data['hhlg'] = data['ORG_CODE'].map(org_to_icb)\n",
    "data['ICB23NM'] = data['hhlg'].map(icb_code_to_names)"
   ]
  },
  {
   "cell_type": "code",
   "execution_count": null,
   "id": "1b044056-681a-4bcd-a4ca-b833a96a75a6",
   "metadata": {},
   "outputs": [],
   "source": []
  },
  {
   "cell_type": "code",
   "execution_count": null,
   "id": "65aa8ce3-5c7b-4ae6-913c-7e4a811abce2",
   "metadata": {},
   "outputs": [],
   "source": [
    "icb_breaches = round(data.groupby('ICB23NM').BREACHES.sum() / data.groupby('ICB23NM').TOTAL.sum(), 2).astype(float)\n",
    "icb_breaches.rename('proportion_breaches', inplace=True)"
   ]
  },
  {
   "cell_type": "code",
   "execution_count": 32,
   "id": "d422ed6c-38e6-4f02-9970-d94bfa1b7431",
   "metadata": {},
   "outputs": [],
   "source": []
  },
  {
   "cell_type": "code",
   "execution_count": null,
   "id": "8f943767-c798-4329-9cf4-621affa8cfc9",
   "metadata": {},
   "outputs": [],
   "source": [
    "gdf.head()"
   ]
  },
  {
   "cell_type": "code",
   "execution_count": null,
   "id": "50b25576-727f-4658-8dae-0f9a28b175a7",
   "metadata": {},
   "outputs": [],
   "source": [
    "merged_gdf = pd.merge(gdf, icb_breaches, left_on='ICB23NM', right_index=True)\n",
    "merged_gdf.head()"
   ]
  },
  {
   "cell_type": "code",
   "execution_count": null,
   "id": "805fad57-0e2d-4ab4-9fbf-89f258947ff5",
   "metadata": {},
   "outputs": [],
   "source": [
    "fig, ax = plt.subplots(figsize=(10, 10))\n",
    "merged_gdf.plot(column='LAT', ax=ax, legend=True,\n",
    "                legend_kwds={'label': \"Proportion Breaches\", 'orientation': \"vertical\"})\n",
    "\n",
    "plt.show()"
   ]
  },
  {
   "cell_type": "code",
   "execution_count": null,
   "id": "e79fc80e-89ce-45b0-87a2-81cfdcce3018",
   "metadata": {},
   "outputs": [],
   "source": []
  },
  {
   "cell_type": "code",
   "execution_count": 94,
   "id": "805f8fd0-9912-4a39-bccd-622890f28ec3",
   "metadata": {},
   "outputs": [
    {
     "name": "stderr",
     "output_type": "stream",
     "text": [
      "/var/folders/lt/g5gx9ncd40b1hj431tb2zv240000gn/T/ipykernel_23489/3022994242.py:29: FutureWarning: The geopandas.dataset module is deprecated and will be removed in GeoPandas 1.0. You can get the original 'naturalearth_lowres' data from https://www.naturalearthdata.com/downloads/110m-cultural-vectors/.\n",
      "  world = gpd.read_file(gpd.datasets.get_path('naturalearth_lowres'))\n"
     ]
    },
    {
     "ename": "TypeError",
     "evalue": "colorbar() got multiple values for argument 'mappable'",
     "output_type": "error",
     "traceback": [
      "\u001b[0;31m---------------------------------------------------------------------------\u001b[0m",
      "\u001b[0;31mTypeError\u001b[0m                                 Traceback (most recent call last)",
      "Cell \u001b[0;32mIn[94], line 41\u001b[0m\n\u001b[1;32m     38\u001b[0m sm \u001b[38;5;241m=\u001b[39m plt\u001b[38;5;241m.\u001b[39mcm\u001b[38;5;241m.\u001b[39mScalarMappable(cmap\u001b[38;5;241m=\u001b[39mcustom_cmap, norm\u001b[38;5;241m=\u001b[39mNormalize(vmin\u001b[38;5;241m=\u001b[39m\u001b[38;5;241m0\u001b[39m, vmax\u001b[38;5;241m=\u001b[39mworld[\u001b[38;5;124m'\u001b[39m\u001b[38;5;124mproportion_breaches\u001b[39m\u001b[38;5;124m'\u001b[39m]\u001b[38;5;241m.\u001b[39mmax()))\n\u001b[1;32m     40\u001b[0m \u001b[38;5;66;03m# Plot the GeoDataFrame using the custom colormap\u001b[39;00m\n\u001b[0;32m---> 41\u001b[0m \u001b[43mworld\u001b[49m\u001b[38;5;241;43m.\u001b[39;49m\u001b[43mplot\u001b[49m\u001b[43m(\u001b[49m\u001b[43mcolumn\u001b[49m\u001b[38;5;241;43m=\u001b[39;49m\u001b[38;5;124;43m'\u001b[39;49m\u001b[38;5;124;43mproportion_breaches\u001b[39;49m\u001b[38;5;124;43m'\u001b[39;49m\u001b[43m,\u001b[49m\u001b[43m \u001b[49m\u001b[43mcmap\u001b[49m\u001b[38;5;241;43m=\u001b[39;49m\u001b[43mcustom_cmap\u001b[49m\u001b[43m,\u001b[49m\u001b[43m \u001b[49m\u001b[43max\u001b[49m\u001b[38;5;241;43m=\u001b[39;49m\u001b[43max\u001b[49m\u001b[43m,\u001b[49m\u001b[43m \u001b[49m\u001b[43mlegend\u001b[49m\u001b[38;5;241;43m=\u001b[39;49m\u001b[38;5;28;43;01mTrue\u001b[39;49;00m\u001b[43m,\u001b[49m\u001b[43m \u001b[49m\u001b[43mcax\u001b[49m\u001b[38;5;241;43m=\u001b[39;49m\u001b[43mcax\u001b[49m\u001b[43m,\u001b[49m\n\u001b[1;32m     42\u001b[0m \u001b[43m           \u001b[49m\u001b[43mlegend_kwds\u001b[49m\u001b[38;5;241;43m=\u001b[39;49m\u001b[43m{\u001b[49m\u001b[38;5;124;43m'\u001b[39;49m\u001b[38;5;124;43mlabel\u001b[39;49m\u001b[38;5;124;43m'\u001b[39;49m\u001b[43m:\u001b[49m\u001b[43m \u001b[49m\u001b[38;5;124;43m\"\u001b[39;49m\u001b[38;5;124;43mProportion Breaches\u001b[39;49m\u001b[38;5;124;43m\"\u001b[39;49m\u001b[43m,\u001b[49m\u001b[43m \u001b[49m\u001b[38;5;124;43m'\u001b[39;49m\u001b[38;5;124;43morientation\u001b[39;49m\u001b[38;5;124;43m'\u001b[39;49m\u001b[43m:\u001b[49m\u001b[43m \u001b[49m\u001b[38;5;124;43m\"\u001b[39;49m\u001b[38;5;124;43mvertical\u001b[39;49m\u001b[38;5;124;43m\"\u001b[39;49m\u001b[43m,\u001b[49m\u001b[43m \u001b[49m\u001b[38;5;124;43m'\u001b[39;49m\u001b[38;5;124;43mmappable\u001b[39;49m\u001b[38;5;124;43m'\u001b[39;49m\u001b[43m:\u001b[49m\u001b[43m \u001b[49m\u001b[43msm\u001b[49m\u001b[43m}\u001b[49m\u001b[43m)\u001b[49m\n\u001b[1;32m     44\u001b[0m plt\u001b[38;5;241m.\u001b[39mtick_params(axis\u001b[38;5;241m=\u001b[39m\u001b[38;5;124m'\u001b[39m\u001b[38;5;124mx\u001b[39m\u001b[38;5;124m'\u001b[39m, which\u001b[38;5;241m=\u001b[39m\u001b[38;5;124m'\u001b[39m\u001b[38;5;124mboth\u001b[39m\u001b[38;5;124m'\u001b[39m, bottom\u001b[38;5;241m=\u001b[39m\u001b[38;5;28;01mFalse\u001b[39;00m, top\u001b[38;5;241m=\u001b[39m\u001b[38;5;28;01mFalse\u001b[39;00m, labelbottom\u001b[38;5;241m=\u001b[39m\u001b[38;5;28;01mFalse\u001b[39;00m)\n\u001b[1;32m     46\u001b[0m plt\u001b[38;5;241m.\u001b[39mshow()\n",
      "File \u001b[0;32m~/anaconda3/envs/hds_code/lib/python3.8/site-packages/geopandas/plotting.py:969\u001b[0m, in \u001b[0;36mGeoplotAccessor.__call__\u001b[0;34m(self, *args, **kwargs)\u001b[0m\n\u001b[1;32m    967\u001b[0m kind \u001b[38;5;241m=\u001b[39m kwargs\u001b[38;5;241m.\u001b[39mpop(\u001b[38;5;124m\"\u001b[39m\u001b[38;5;124mkind\u001b[39m\u001b[38;5;124m\"\u001b[39m, \u001b[38;5;124m\"\u001b[39m\u001b[38;5;124mgeo\u001b[39m\u001b[38;5;124m\"\u001b[39m)\n\u001b[1;32m    968\u001b[0m \u001b[38;5;28;01mif\u001b[39;00m kind \u001b[38;5;241m==\u001b[39m \u001b[38;5;124m\"\u001b[39m\u001b[38;5;124mgeo\u001b[39m\u001b[38;5;124m\"\u001b[39m:\n\u001b[0;32m--> 969\u001b[0m     \u001b[38;5;28;01mreturn\u001b[39;00m \u001b[43mplot_dataframe\u001b[49m\u001b[43m(\u001b[49m\u001b[43mdata\u001b[49m\u001b[43m,\u001b[49m\u001b[43m \u001b[49m\u001b[38;5;241;43m*\u001b[39;49m\u001b[43margs\u001b[49m\u001b[43m,\u001b[49m\u001b[43m \u001b[49m\u001b[38;5;241;43m*\u001b[39;49m\u001b[38;5;241;43m*\u001b[39;49m\u001b[43mkwargs\u001b[49m\u001b[43m)\u001b[49m\n\u001b[1;32m    970\u001b[0m \u001b[38;5;28;01mif\u001b[39;00m kind \u001b[38;5;129;01min\u001b[39;00m \u001b[38;5;28mself\u001b[39m\u001b[38;5;241m.\u001b[39m_pandas_kinds:\n\u001b[1;32m    971\u001b[0m     \u001b[38;5;66;03m# Access pandas plots\u001b[39;00m\n\u001b[1;32m    972\u001b[0m     \u001b[38;5;28;01mreturn\u001b[39;00m PlotAccessor(data)(kind\u001b[38;5;241m=\u001b[39mkind, \u001b[38;5;241m*\u001b[39m\u001b[38;5;241m*\u001b[39mkwargs)\n",
      "File \u001b[0;32m~/anaconda3/envs/hds_code/lib/python3.8/site-packages/geopandas/plotting.py:955\u001b[0m, in \u001b[0;36mplot_dataframe\u001b[0;34m(df, column, cmap, color, ax, cax, categorical, legend, scheme, k, vmin, vmax, markersize, figsize, legend_kwds, categories, classification_kwds, missing_kwds, aspect, **style_kwds)\u001b[0m\n\u001b[1;32m    952\u001b[0m             legend_kwds\u001b[38;5;241m.\u001b[39msetdefault(\u001b[38;5;124m\"\u001b[39m\u001b[38;5;124max\u001b[39m\u001b[38;5;124m\"\u001b[39m, ax)\n\u001b[1;32m    954\u001b[0m         n_cmap\u001b[38;5;241m.\u001b[39mset_array(np\u001b[38;5;241m.\u001b[39marray([]))\n\u001b[0;32m--> 955\u001b[0m         \u001b[43max\u001b[49m\u001b[38;5;241;43m.\u001b[39;49m\u001b[43mget_figure\u001b[49m\u001b[43m(\u001b[49m\u001b[43m)\u001b[49m\u001b[38;5;241;43m.\u001b[39;49m\u001b[43mcolorbar\u001b[49m\u001b[43m(\u001b[49m\u001b[43mn_cmap\u001b[49m\u001b[43m,\u001b[49m\u001b[43m \u001b[49m\u001b[38;5;241;43m*\u001b[39;49m\u001b[38;5;241;43m*\u001b[39;49m\u001b[43mlegend_kwds\u001b[49m\u001b[43m)\u001b[49m\n\u001b[1;32m    957\u001b[0m plt\u001b[38;5;241m.\u001b[39mdraw()\n\u001b[1;32m    958\u001b[0m \u001b[38;5;28;01mreturn\u001b[39;00m ax\n",
      "\u001b[0;31mTypeError\u001b[0m: colorbar() got multiple values for argument 'mappable'"
     ]
    },
    {
     "data": {
      "image/png": "[encoded data removed]",
      "text/plain": [
       "<Figure size 700x700 with 2 Axes>"
      ]
     },
     "metadata": {},
     "output_type": "display_data"
    }
   ],
   "source": [
    "import numpy as np\n",
    "import matplotlib.pyplot as plt\n",
    "from matplotlib.colors import LinearSegmentedColormap, Normalize\n",
    "from mpl_toolkits.axes_grid1 import make_axes_locatable\n",
    "import geopandas as gpd\n",
    "\n",
    "# Define colors for the colormap\n",
    "colors_below_inflection = [(0.0, 0.0, 1.0), (0.8, 0.8, 1.0)]  # Blue to light blue\n",
    "colors_above_inflection = [(1.0, 0.8, 0.8), (1.0, 0.0, 0.0)]  # Light red to red\n",
    "\n",
    "inflection = 0.1\n",
    "\n",
    "# Calculate the number of colors for each segment\n",
    "num_colors_below_inflection = int(256 * inflection)\n",
    "num_colors_above_inflection = 256 - num_colors_below_inflection\n",
    "\n",
    "# Create the colormap using LinearSegmentedColormap\n",
    "cmap_below_inflection = LinearSegmentedColormap.from_list('below_inflection', colors_below_inflection, N=num_colors_below_inflection)\n",
    "cmap_above_inflection = LinearSegmentedColormap.from_list('above_inflection', colors_above_inflection, N=num_colors_above_inflection)\n",
    "\n",
    "# Combine the colormaps above and below the inflection point\n",
    "cmap_custom = np.vstack((cmap_below_inflection(np.linspace(0, 1, num_colors_below_inflection)),\n",
    "                         cmap_above_inflection(np.linspace(0, 1, num_colors_above_inflection))))\n",
    "\n",
    "# Create a custom colormap with an inflection point at 0.1\n",
    "custom_cmap = LinearSegmentedColormap.from_list('custom_colormap', cmap_custom, N=256)\n",
    "\n",
    "# Generate some data for plotting\n",
    "world = gpd.read_file(gpd.datasets.get_path('naturalearth_lowres'))\n",
    "world['proportion_breaches'] = np.random.rand(len(world))\n",
    "\n",
    "# Plot the GeoDataFrame with the specified colormap\n",
    "fig, ax = plt.subplots(figsize=(7, 7))\n",
    "divider = make_axes_locatable(ax)\n",
    "cax = divider.append_axes(\"right\", size=\"5%\", pad=0.1)\n",
    "\n",
    "# Create a ScalarMappable to anchor the inflection point to a specific value\n",
    "sm = plt.cm.ScalarMappable(cmap=custom_cmap, norm=Normalize(vmin=0, vmax=world['proportion_breaches'].max()))\n",
    "\n",
    "# Plot the GeoDataFrame using the custom colormap\n",
    "world.plot(column='proportion_breaches', cmap=custom_cmap, ax=ax, legend=True, cax=cax,\n",
    "           legend_kwds={'label': \"Proportion Breaches\", 'orientation': \"vertical\", 'mappable': sm})\n",
    "\n",
    "plt.tick_params(axis='x', which='both', bottom=False, top=False, labelbottom=False)\n",
    "\n",
    "plt.show()\n"
   ]
  }
 ],
 "metadata": {
  "kernelspec": {
   "display_name": "Python 3 (ipykernel)",
   "language": "python",
   "name": "python3"
  },
  "language_info": {
   "codemirror_mode": {
    "name": "ipython",
    "version": 3
   },
   "file_extension": ".py",
   "mimetype": "text/x-python",
   "name": "python",
   "nbconvert_exporter": "python",
   "pygments_lexer": "ipython3",
   "version": "3.8.12"
  }
 },
 "nbformat": 4,
 "nbformat_minor": 5
}
