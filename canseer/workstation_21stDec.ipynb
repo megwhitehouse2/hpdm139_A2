{
 "cells": [
  {
   "cell_type": "code",
   "execution_count": null,
   "id": "97187104-1811-40ef-8ed6-7cb82296af4d",
   "metadata": {},
   "outputs": [],
   "source": [
    "import pandas as pd\n",
    "import numpy as np\n",
    "import seaborn as sns\n",
    "import matplotlib.pyplot as plt\n",
    "\n",
    "import plotly.express as px\n",
    "import plotly.graph_objects as go\n"
   ]
  },
  {
   "cell_type": "code",
   "execution_count": null,
   "id": "3b91d87f-3ca3-450c-975c-13098ba5ab68",
   "metadata": {},
   "outputs": [],
   "source": [
    "from data_wrangling import get_national\n",
    "from cancer_plotting import plot_stacked"
   ]
  },
  {
   "cell_type": "code",
   "execution_count": null,
   "id": "43859221-5a07-4bb4-8a50-a2690e25f525",
   "metadata": {},
   "outputs": [],
   "source": [
    "# code example being used - note will need to run the national_data code first \n",
    "national_data_link = r'https://www.england.nhs.uk/statistics/wp-content/' \\\n",
    "    + 'uploads/sites/2/2023/12/' \\\n",
    "    + 'CWT-CRS-National-Time-Series-Oct-2009-Oct-2023-with-Revisions.xlsx'\n",
    "\n",
    "national_data = get_national(national_data_link)\n",
    "labels = ['Within Standard_28', 'Outside Standard_28', 'Within Standard_31', 'Outside Standard_31'] \n",
    "data_to_plot=['Month','Within Standard_28', 'Outside Standard_28', 'Within Standard_31', 'Outside Standard_31']\n",
    "fig, ax = plot_stacked(national_data[data_to_plot],labels,\"Patients\")"
   ]
  },
  {
   "cell_type": "code",
   "execution_count": null,
   "id": "04c37a5f-eeb0-4215-8cd6-203fe4f85e13",
   "metadata": {},
   "outputs": [],
   "source": []
  },
  {
   "cell_type": "code",
   "execution_count": 2,
   "id": "961205bd-73f7-413a-af65-afaf14ed6f9e",
   "metadata": {},
   "outputs": [],
   "source": [
    "from data_wrangling import read_cancer_data, nhs_code_link, help_with\n",
    "from data_wrangling import select_month, select_org, select_cancer, select_standard\n",
    "from data_wrangling import select_data\n",
    "from data_wrangling import proportion_breaches, rename_and_replace"
   ]
  },
  {
   "cell_type": "code",
   "execution_count": null,
   "id": "eb63549a-0771-48b2-be5b-178231684691",
   "metadata": {},
   "outputs": [],
   "source": [
    "data = read_cancer_data()"
   ]
  },
  {
   "cell_type": "code",
   "execution_count": null,
   "id": "50ae53ec-d073-46a9-bd29-13e85def057c",
   "metadata": {},
   "outputs": [],
   "source": [
    "rename_and_replace(data)"
   ]
  },
  {
   "cell_type": "code",
   "execution_count": null,
   "id": "fd40cb76-b48c-447e-81f7-cc6e0b619e40",
   "metadata": {},
   "outputs": [],
   "source": [
    "#ToDO: Create a list with easier cancer names to those presented, and replace CANCER_TYPE cols"
   ]
  },
  {
   "cell_type": "code",
   "execution_count": null,
   "id": "b7189d36-7ad6-4fc1-93e7-b011de3c549b",
   "metadata": {},
   "outputs": [],
   "source": [
    "link_data = nhs_code_link()\n",
    "overlap = list(set(data['ORG CODE']) & set(link_data['ORG CODE']))\n",
    "#unmatched = data[~data['ORG CODE'].astype(str).isin(link_data['ORG CODE'].astype(str))]"
   ]
  },
  {
   "cell_type": "code",
   "execution_count": null,
   "id": "d2167088-909f-4b4d-aceb-390521ef1ed7",
   "metadata": {},
   "outputs": [],
   "source": []
  },
  {
   "cell_type": "code",
   "execution_count": null,
   "id": "5991a5af-288d-4138-896b-adf844d4f710",
   "metadata": {},
   "outputs": [],
   "source": [
    "#plt.figure(figsize=[10,10])\n",
    "sns.stripplot(x='PERIOD', y = 'BREACHES', data=select_org(df=data,org_str='R1K'), hue = 'CANCER TYPE', legend=False)"
   ]
  },
  {
   "cell_type": "code",
   "execution_count": null,
   "id": "a2255d08-c693-44e3-9dab-cf17a9c31bc4",
   "metadata": {},
   "outputs": [],
   "source": [
    "sns.lineplot(x='PERIOD', y='BREACHES', data=select_org(data,'R0A').groupby(by='PERIOD').sum())"
   ]
  },
  {
   "cell_type": "code",
   "execution_count": null,
   "id": "503ffb06-2a6e-429d-a64a-10a33c9510e6",
   "metadata": {},
   "outputs": [],
   "source": [
    "select_data(data,[('cancer',1), ('org', 'r1k'), ('standard', 'FDS')])"
   ]
  },
  {
   "cell_type": "code",
   "execution_count": null,
   "id": "588e5a30-85c7-4eb6-8235-136a0a7e0797",
   "metadata": {},
   "outputs": [],
   "source": [
    "# Sample data (replace this with your actual data)\n",
    "\n",
    "df = select_data(data,[('cancer',1), ('org', 'r1k'), ('standard', 'FDS')])\n",
    "\n",
    "# Plot the interactive graph\n",
    "fig = go.Figure()\n",
    "\n",
    "# Add a scatter plot for the proportion of breaches\n",
    "fig.add_trace(go.Scatter(x=df['PERIOD'], y=df['PROPORTION_BREACHES'], mode='lines+markers', name='Proportion of Breaches'))\n",
    "\n",
    "# Add a line plot for the moving average\n",
    "fig.add_trace(go.Scatter(x=df['PERIOD'], y=df['MOVING_AVERAGE'], mode='lines', name=f'Moving Average (Window={window_size})'))\n",
    "\n",
    "# Customize the layout\n",
    "fig.update_layout(title='Proportion of Breaches Over Time',\n",
    "                  xaxis_title='Period',\n",
    "                  yaxis_title='Proportion of Breaches',\n",
    "                  hovermode='x',\n",
    "                  xaxis=dict(tickmode='linear'),\n",
    "                  updatemenus=[dict(type='buttons', showactive=False,\n",
    "                                    buttons=[dict(label='Play',\n",
    "                                                  method='animate',\n",
    "                                                  args=[None, dict(frame=dict(duration=500, redraw=True), fromcurrent=True)])])])\n",
    "\n",
    "# Create animation frames\n",
    "frames = [go.Frame(data=[go.Scatter(x=df['PERIOD'].iloc[:i + 1],\n",
    "                                    y=df['MOVING_AVERAGE'].iloc[:i + 1],\n",
    "                                    mode='lines',\n",
    "                                    marker=dict(color='red'),\n",
    "                                    name=f'Moving Average (Window={window_size})')]) for i in range(len(df))]\n",
    "\n",
    "# Add frames to the figure\n",
    "fig.frames = frames\n",
    "\n",
    "# Show the interactive plot\n",
    "fig.show()\n"
   ]
  },
  {
   "cell_type": "code",
   "execution_count": null,
   "id": "2ad5b551-04ca-4e64-941c-61a468ba9613",
   "metadata": {},
   "outputs": [],
   "source": [
    "#//ToDo: write a function to fliter out only singificant breaches/ significant number of cases pe trust etc\n",
    "# Create a report generating script, where a figure is plotted using the trust name from the link file using the org code"
   ]
  }
 ],
 "metadata": {
  "kernelspec": {
   "display_name": "Python 3 (ipykernel)",
   "language": "python",
   "name": "python3"
  },
  "language_info": {
   "codemirror_mode": {
    "name": "ipython",
    "version": 3
   },
   "file_extension": ".py",
   "mimetype": "text/x-python",
   "name": "python",
   "nbconvert_exporter": "python",
   "pygments_lexer": "ipython3",
   "version": "3.8.12"
  }
 },
 "nbformat": 4,
 "nbformat_minor": 5
}
