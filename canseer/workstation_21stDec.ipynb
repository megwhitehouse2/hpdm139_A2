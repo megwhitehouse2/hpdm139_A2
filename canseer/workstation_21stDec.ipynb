{
 "cells": [
  {
   "cell_type": "code",
   "execution_count": 1,
   "id": "97187104-1811-40ef-8ed6-7cb82296af4d",
   "metadata": {},
   "outputs": [],
   "source": [
    "import pandas as pd\n",
    "import numpy as np\n",
    "import seaborn as sns\n",
    "import matplotlib.pyplot as plt\n",
    "\n",
    "import plotly.express as px\n",
    "import plotly.graph_objects as go\n"
   ]
  },
  {
   "cell_type": "code",
   "execution_count": null,
   "id": "961205bd-73f7-413a-af65-afaf14ed6f9e",
   "metadata": {},
   "outputs": [],
   "source": [
    "from data_wrangling import read_cancer_data, nhs_code_link, select_month, select_org, help_with, select_cancer, select_standard"
   ]
  },
  {
   "cell_type": "code",
   "execution_count": null,
   "id": "eb63549a-0771-48b2-be5b-178231684691",
   "metadata": {},
   "outputs": [],
   "source": [
    "data = read_cancer_data()"
   ]
  },
  {
   "cell_type": "code",
   "execution_count": null,
   "id": "b7189d36-7ad6-4fc1-93e7-b011de3c549b",
   "metadata": {},
   "outputs": [],
   "source": [
    "link_data = nhs_code_link()\n",
    "overlap = list(set(data['ORG CODE']) & set(link_data['ORG CODE']))\n",
    "#unmatched = data[~data['ORG CODE'].astype(str).isin(link_data['ORG CODE'].astype(str))]"
   ]
  },
  {
   "cell_type": "code",
   "execution_count": null,
   "id": "d2167088-909f-4b4d-aceb-390521ef1ed7",
   "metadata": {},
   "outputs": [],
   "source": []
  },
  {
   "cell_type": "code",
   "execution_count": null,
   "id": "5991a5af-288d-4138-896b-adf844d4f710",
   "metadata": {},
   "outputs": [],
   "source": [
    "#plt.figure(figsize=[10,10])\n",
    "sns.stripplot(x='PERIOD', y = 'BREACHES', data=select_org(df=data,org_str='R1K'), hue = 'CANCER TYPE', legend=False)"
   ]
  },
  {
   "cell_type": "code",
   "execution_count": null,
   "id": "a2255d08-c693-44e3-9dab-cf17a9c31bc4",
   "metadata": {},
   "outputs": [],
   "source": [
    "sns.lineplot(x='PERIOD', y='BREACHES', data=select_org(data,'R0A').groupby(by='PERIOD').sum())"
   ]
  },
  {
   "cell_type": "code",
   "execution_count": null,
   "id": "430df198-688e-4372-944d-72de1fc7554a",
   "metadata": {},
   "outputs": [],
   "source": [
    "data.STANDARD.unique()"
   ]
  },
  {
   "cell_type": "code",
   "execution_count": null,
   "id": "0b552f12-1b27-492a-8ee6-6549a6b720ca",
   "metadata": {},
   "outputs": [],
   "source": [
    "select_standard"
   ]
  },
  {
   "cell_type": "code",
   "execution_count": null,
   "id": "588e5a30-85c7-4eb6-8235-136a0a7e0797",
   "metadata": {},
   "outputs": [],
   "source": [
    "# Sample data (replace this with your actual data)\n",
    "\n",
    "df = select_cancer(select_standard(select_org(data, 'R1K'),'FDS'),3)\n",
    "\n",
    "# Calculate the proportion of breaches\n",
    "df['PROPORTION_BREACHES'] = df['BREACHES'] / df['TOTAL']\n",
    "\n",
    "# Create a sliding window to calculate the moving average of the proportion of breaches\n",
    "window_size = 3  # Adjust the window size as needed\n",
    "df['MOVING_AVERAGE'] = df['PROPORTION_BREACHES'].rolling(window=window_size).mean()\n",
    "\n",
    "# Plot the interactive graph\n",
    "fig = go.Figure()\n",
    "\n",
    "# Add a scatter plot for the proportion of breaches\n",
    "fig.add_trace(go.Scatter(x=df['PERIOD'], y=df['PROPORTION_BREACHES'], mode='lines+markers', name='Proportion of Breaches'))\n",
    "\n",
    "# Add a line plot for the moving average\n",
    "fig.add_trace(go.Scatter(x=df['PERIOD'], y=df['MOVING_AVERAGE'], mode='lines', name=f'Moving Average (Window={window_size})'))\n",
    "\n",
    "# Customize the layout\n",
    "fig.update_layout(title='Proportion of Breaches Over Time',\n",
    "                  xaxis_title='Period',\n",
    "                  yaxis_title='Proportion of Breaches',\n",
    "                  hovermode='x',\n",
    "                  xaxis=dict(tickmode='linear'),\n",
    "                  updatemenus=[dict(type='buttons', showactive=False,\n",
    "                                    buttons=[dict(label='Play',\n",
    "                                                  method='animate',\n",
    "                                                  args=[None, dict(frame=dict(duration=500, redraw=True), fromcurrent=True)])])])\n",
    "\n",
    "# Create animation frames\n",
    "frames = [go.Frame(data=[go.Scatter(x=df['PERIOD'].iloc[:i + 1],\n",
    "                                    y=df['MOVING_AVERAGE'].iloc[:i + 1],\n",
    "                                    mode='lines',\n",
    "                                    marker=dict(color='red'),\n",
    "                                    name=f'Moving Average (Window={window_size})')]) for i in range(len(df))]\n",
    "\n",
    "# Add frames to the figure\n",
    "fig.frames = frames\n",
    "\n",
    "# Show the interactive plot\n",
    "fig.show()\n"
   ]
  },
  {
   "cell_type": "code",
   "execution_count": null,
   "id": "2ad5b551-04ca-4e64-941c-61a468ba9613",
   "metadata": {},
   "outputs": [],
   "source": [
    "#//ToDo: write a function to fliter out only singificant breaches/ significant number of cases pe trust etc\n",
    "# Create a report generating script, where a figure is plotted using the trust name from the link file using the org code"
   ]
  }
 ],
 "metadata": {
  "kernelspec": {
   "display_name": "Python 3 (ipykernel)",
   "language": "python",
   "name": "python3"
  },
  "language_info": {
   "codemirror_mode": {
    "name": "ipython",
    "version": 3
   },
   "file_extension": ".py",
   "mimetype": "text/x-python",
   "name": "python",
   "nbconvert_exporter": "python",
   "pygments_lexer": "ipython3",
   "version": "3.8.12"
  }
 },
 "nbformat": 4,
 "nbformat_minor": 5
}
