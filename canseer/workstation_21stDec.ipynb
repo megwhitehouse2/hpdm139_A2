{
 "cells": [
  {
   "cell_type": "code",
   "execution_count": 1,
   "id": "97187104-1811-40ef-8ed6-7cb82296af4d",
   "metadata": {},
   "outputs": [],
   "source": [
    "import pandas as pd\n",
    "import numpy as np\n",
    "import seaborn as sns\n",
    "import matplotlib.pyplot as plt\n",
    "\n",
    "import plotly.express as px\n",
    "import plotly.graph_objects as go\n"
   ]
  },
  {
   "cell_type": "code",
   "execution_count": 2,
   "id": "3b91d87f-3ca3-450c-975c-13098ba5ab68",
   "metadata": {},
   "outputs": [],
   "source": [
    "from data_wrangling import get_national\n",
    "from cancer_plotting import plot_stacked"
   ]
  },
  {
   "cell_type": "code",
   "execution_count": null,
   "id": "43859221-5a07-4bb4-8a50-a2690e25f525",
   "metadata": {},
   "outputs": [],
   "source": [
    "# code example being used - note will need to run the national_data code first \n",
    "national_data_link = r'https://www.england.nhs.uk/statistics/wp-content/' \\\n",
    "    + 'uploads/sites/2/2023/12/' \\\n",
    "    + 'CWT-CRS-National-Time-Series-Oct-2009-Oct-2023-with-Revisions.xlsx'\n",
    "\n",
    "national_data = get_national(national_data_link)\n",
    "labels = ['Within Standard_28', 'Outside Standard_28', 'Within Standard_31', 'Outside Standard_31'] \n",
    "data_to_plot=['Month','Within Standard_28', 'Outside Standard_28', 'Within Standard_31', 'Outside Standard_31']\n",
    "fig, ax = plot_stacked(national_data[data_to_plot],labels,\"Patients\")"
   ]
  },
  {
   "cell_type": "code",
   "execution_count": null,
   "id": "04c37a5f-eeb0-4215-8cd6-203fe4f85e13",
   "metadata": {},
   "outputs": [],
   "source": []
  },
  {
   "cell_type": "code",
   "execution_count": 5,
   "id": "961205bd-73f7-413a-af65-afaf14ed6f9e",
   "metadata": {},
   "outputs": [],
   "source": [
    "from data_wrangling import read_cancer_data, nhs_code_link, help_with\n",
    "from data_wrangling import select_month, select_org, select_cancer, select_standard\n",
    "from data_wrangling import select_data\n",
    "from data_wrangling import proportion_breaches, rename_and_replace\n",
    "\n",
    "from cancer_plotting import breaches_animated_plot"
   ]
  },
  {
   "cell_type": "code",
   "execution_count": 6,
   "id": "eb63549a-0771-48b2-be5b-178231684691",
   "metadata": {},
   "outputs": [],
   "source": [
    "data = read_cancer_data()"
   ]
  },
  {
   "cell_type": "code",
   "execution_count": 7,
   "id": "50ae53ec-d073-46a9-bd29-13e85def057c",
   "metadata": {},
   "outputs": [],
   "source": [
    "data = proportion_breaches(rename_and_replace(data))"
   ]
  },
  {
   "cell_type": "code",
   "execution_count": null,
   "id": "773e6ff6-7240-4d62-9128-39dbfe933597",
   "metadata": {},
   "outputs": [],
   "source": []
  },
  {
   "cell_type": "code",
   "execution_count": 9,
   "id": "b7189d36-7ad6-4fc1-93e7-b011de3c549b",
   "metadata": {},
   "outputs": [],
   "source": [
    "link_data = nhs_code_link()\n",
    "# overlap = list(set(data['ORG CODE']) & set(link_data['ORG CODE']))\n",
    "# unmatched = data[~data['ORG CODE'].astype(str).isin(link_data['ORG CODE'].astype(str))]"
   ]
  },
  {
   "cell_type": "code",
   "execution_count": null,
   "id": "5991a5af-288d-4138-896b-adf844d4f710",
   "metadata": {},
   "outputs": [],
   "source": [
    "#plt.figure(figsize=[10,10])\n",
    "sns.stripplot(x='PERIOD', y = 'BREACHES', data=select_org(df=data,org_str='R1K'), hue = 'CANCER TYPE', legend=False)"
   ]
  },
  {
   "cell_type": "code",
   "execution_count": null,
   "id": "a2255d08-c693-44e3-9dab-cf17a9c31bc4",
   "metadata": {},
   "outputs": [],
   "source": [
    "sns.lineplot(x='PERIOD', y='BREACHES', data=select_org(data,'R0A').groupby(by='PERIOD').sum())"
   ]
  },
  {
   "cell_type": "code",
   "execution_count": 39,
   "id": "503ffb06-2a6e-429d-a64a-10a33c9510e6",
   "metadata": {},
   "outputs": [
    {
     "name": "stdout",
     "output_type": "stream",
     "text": [
      "Selected Suspected_acute_leukaemia\n"
     ]
    },
    {
     "data": {
      "text/html": [
       "<div>\n",
       "<style scoped>\n",
       "    .dataframe tbody tr th:only-of-type {\n",
       "        vertical-align: middle;\n",
       "    }\n",
       "\n",
       "    .dataframe tbody tr th {\n",
       "        vertical-align: top;\n",
       "    }\n",
       "\n",
       "    .dataframe thead th {\n",
       "        text-align: right;\n",
       "    }\n",
       "</style>\n",
       "<table border=\"1\" class=\"dataframe\">\n",
       "  <thead>\n",
       "    <tr style=\"text-align: right;\">\n",
       "      <th></th>\n",
       "      <th>PERIOD</th>\n",
       "      <th>YEAR</th>\n",
       "      <th>MONTH</th>\n",
       "      <th>STANDARD</th>\n",
       "      <th>ORG_CODE</th>\n",
       "      <th>STAGE/ROUTE</th>\n",
       "      <th>TREATMENT MODALITY</th>\n",
       "      <th>CANCER_TYPE</th>\n",
       "      <th>TOTAL</th>\n",
       "      <th>WITHIN STANDARD</th>\n",
       "      <th>BREACHES</th>\n",
       "      <th>PROPORTION_BREACHES</th>\n",
       "      <th>MOVING_AVERAGE</th>\n",
       "    </tr>\n",
       "  </thead>\n",
       "  <tbody>\n",
       "    <tr>\n",
       "      <th>17495</th>\n",
       "      <td>2022-06-01</td>\n",
       "      <td>2022/23</td>\n",
       "      <td>JUN</td>\n",
       "      <td>28-day FDS</td>\n",
       "      <td>R0A</td>\n",
       "      <td>URGENT SUSPECTED CANCER</td>\n",
       "      <td>NaN</td>\n",
       "      <td>Suspected_acute_leukaemia</td>\n",
       "      <td>1.0</td>\n",
       "      <td>1.0</td>\n",
       "      <td>0.0</td>\n",
       "      <td>0.0</td>\n",
       "      <td>0.083333</td>\n",
       "    </tr>\n",
       "    <tr>\n",
       "      <th>34691</th>\n",
       "      <td>2022-08-01</td>\n",
       "      <td>2022/23</td>\n",
       "      <td>AUG</td>\n",
       "      <td>28-day FDS</td>\n",
       "      <td>R0A</td>\n",
       "      <td>URGENT SUSPECTED CANCER</td>\n",
       "      <td>NaN</td>\n",
       "      <td>Suspected_acute_leukaemia</td>\n",
       "      <td>1.0</td>\n",
       "      <td>0.0</td>\n",
       "      <td>1.0</td>\n",
       "      <td>1.0</td>\n",
       "      <td>0.444444</td>\n",
       "    </tr>\n",
       "    <tr>\n",
       "      <th>51929</th>\n",
       "      <td>2022-10-01</td>\n",
       "      <td>2022/23</td>\n",
       "      <td>OCT</td>\n",
       "      <td>28-day FDS</td>\n",
       "      <td>R0A</td>\n",
       "      <td>URGENT SUSPECTED CANCER</td>\n",
       "      <td>NaN</td>\n",
       "      <td>Suspected_acute_leukaemia</td>\n",
       "      <td>2.0</td>\n",
       "      <td>2.0</td>\n",
       "      <td>0.0</td>\n",
       "      <td>0.0</td>\n",
       "      <td>0.666667</td>\n",
       "    </tr>\n",
       "  </tbody>\n",
       "</table>\n",
       "</div>"
      ],
      "text/plain": [
       "          PERIOD     YEAR MONTH    STANDARD ORG_CODE              STAGE/ROUTE  \\\n",
       "17495 2022-06-01  2022/23   JUN  28-day FDS      R0A  URGENT SUSPECTED CANCER   \n",
       "34691 2022-08-01  2022/23   AUG  28-day FDS      R0A  URGENT SUSPECTED CANCER   \n",
       "51929 2022-10-01  2022/23   OCT  28-day FDS      R0A  URGENT SUSPECTED CANCER   \n",
       "\n",
       "      TREATMENT MODALITY                CANCER_TYPE  TOTAL  WITHIN STANDARD  \\\n",
       "17495                NaN  Suspected_acute_leukaemia    1.0              1.0   \n",
       "34691                NaN  Suspected_acute_leukaemia    1.0              0.0   \n",
       "51929                NaN  Suspected_acute_leukaemia    2.0              2.0   \n",
       "\n",
       "       BREACHES  PROPORTION_BREACHES  MOVING_AVERAGE  \n",
       "17495       0.0                  0.0        0.083333  \n",
       "34691       1.0                  1.0        0.444444  \n",
       "51929       0.0                  0.0        0.666667  "
      ]
     },
     "execution_count": 39,
     "metadata": {},
     "output_type": "execute_result"
    }
   ],
   "source": []
  },
  {
   "cell_type": "code",
   "execution_count": null,
   "id": "0f93df3f-66f3-4512-9c65-94641ad265ee",
   "metadata": {},
   "outputs": [],
   "source": [
    "select_org(data)"
   ]
  },
  {
   "cell_type": "code",
   "execution_count": null,
   "id": "2ad5b551-04ca-4e64-941c-61a468ba9613",
   "metadata": {},
   "outputs": [],
   "source": [
    "#//ToDo: write a function to fliter out only singificant breaches/ significant number of cases pe trust etc\n",
    "# Create a report generating script, where a figure is plotted using the trust name from the link file using the org code"
   ]
  },
  {
   "cell_type": "code",
   "execution_count": null,
   "id": "2b334c45-c56c-47df-819c-aee8444ce35f",
   "metadata": {},
   "outputs": [],
   "source": []
  },
  {
   "cell_type": "code",
   "execution_count": 30,
   "id": "c35d2c6f-5394-4f21-ae59-45d8be87a7dc",
   "metadata": {},
   "outputs": [
    {
     "data": {
      "text/html": [
       "<div>\n",
       "<style scoped>\n",
       "    .dataframe tbody tr th:only-of-type {\n",
       "        vertical-align: middle;\n",
       "    }\n",
       "\n",
       "    .dataframe tbody tr th {\n",
       "        vertical-align: top;\n",
       "    }\n",
       "\n",
       "    .dataframe thead th {\n",
       "        text-align: right;\n",
       "    }\n",
       "</style>\n",
       "<table border=\"1\" class=\"dataframe\">\n",
       "  <thead>\n",
       "    <tr style=\"text-align: right;\">\n",
       "      <th></th>\n",
       "      <th>PERIOD</th>\n",
       "      <th>YEAR</th>\n",
       "      <th>MONTH</th>\n",
       "      <th>STANDARD</th>\n",
       "      <th>ORG_CODE</th>\n",
       "      <th>STAGE/ROUTE</th>\n",
       "      <th>TREATMENT MODALITY</th>\n",
       "      <th>CANCER_TYPE</th>\n",
       "      <th>TOTAL</th>\n",
       "      <th>WITHIN STANDARD</th>\n",
       "      <th>BREACHES</th>\n",
       "      <th>PROPORTION_BREACHES</th>\n",
       "      <th>MOVING_AVERAGE</th>\n",
       "    </tr>\n",
       "  </thead>\n",
       "  <tbody>\n",
       "    <tr>\n",
       "      <th>0</th>\n",
       "      <td>2022-04-01</td>\n",
       "      <td>2022/23</td>\n",
       "      <td>APR</td>\n",
       "      <td>28-day FDS</td>\n",
       "      <td>R1K</td>\n",
       "      <td>BREAST SYMPTOMATIC, CANCER NOT SUSPECTED</td>\n",
       "      <td>NaN</td>\n",
       "      <td>Unsuspected_breast_ca</td>\n",
       "      <td>262.0</td>\n",
       "      <td>255.0</td>\n",
       "      <td>7.0</td>\n",
       "      <td>0.026718</td>\n",
       "      <td>NaN</td>\n",
       "    </tr>\n",
       "    <tr>\n",
       "      <th>1</th>\n",
       "      <td>2022-04-01</td>\n",
       "      <td>2022/23</td>\n",
       "      <td>APR</td>\n",
       "      <td>28-day FDS</td>\n",
       "      <td>R0A</td>\n",
       "      <td>BREAST SYMPTOMATIC, CANCER NOT SUSPECTED</td>\n",
       "      <td>NaN</td>\n",
       "      <td>Unsuspected_breast_ca</td>\n",
       "      <td>382.0</td>\n",
       "      <td>144.0</td>\n",
       "      <td>238.0</td>\n",
       "      <td>0.623037</td>\n",
       "      <td>NaN</td>\n",
       "    </tr>\n",
       "    <tr>\n",
       "      <th>2</th>\n",
       "      <td>2022-04-01</td>\n",
       "      <td>2022/23</td>\n",
       "      <td>APR</td>\n",
       "      <td>28-day FDS</td>\n",
       "      <td>R0D</td>\n",
       "      <td>BREAST SYMPTOMATIC, CANCER NOT SUSPECTED</td>\n",
       "      <td>NaN</td>\n",
       "      <td>Unsuspected_breast_ca</td>\n",
       "      <td>3.0</td>\n",
       "      <td>2.0</td>\n",
       "      <td>1.0</td>\n",
       "      <td>0.333333</td>\n",
       "      <td>0.327696</td>\n",
       "    </tr>\n",
       "    <tr>\n",
       "      <th>3</th>\n",
       "      <td>2022-04-01</td>\n",
       "      <td>2022/23</td>\n",
       "      <td>APR</td>\n",
       "      <td>28-day FDS</td>\n",
       "      <td>R1F</td>\n",
       "      <td>BREAST SYMPTOMATIC, CANCER NOT SUSPECTED</td>\n",
       "      <td>NaN</td>\n",
       "      <td>Unsuspected_breast_ca</td>\n",
       "      <td>66.0</td>\n",
       "      <td>63.0</td>\n",
       "      <td>3.0</td>\n",
       "      <td>0.045455</td>\n",
       "      <td>0.333942</td>\n",
       "    </tr>\n",
       "    <tr>\n",
       "      <th>4</th>\n",
       "      <td>2022-04-01</td>\n",
       "      <td>2022/23</td>\n",
       "      <td>APR</td>\n",
       "      <td>28-day FDS</td>\n",
       "      <td>RAS</td>\n",
       "      <td>BREAST SYMPTOMATIC, CANCER NOT SUSPECTED</td>\n",
       "      <td>NaN</td>\n",
       "      <td>Unsuspected_breast_ca</td>\n",
       "      <td>81.0</td>\n",
       "      <td>78.0</td>\n",
       "      <td>3.0</td>\n",
       "      <td>0.037037</td>\n",
       "      <td>0.138608</td>\n",
       "    </tr>\n",
       "    <tr>\n",
       "      <th>...</th>\n",
       "      <td>...</td>\n",
       "      <td>...</td>\n",
       "      <td>...</td>\n",
       "      <td>...</td>\n",
       "      <td>...</td>\n",
       "      <td>...</td>\n",
       "      <td>...</td>\n",
       "      <td>...</td>\n",
       "      <td>...</td>\n",
       "      <td>...</td>\n",
       "      <td>...</td>\n",
       "      <td>...</td>\n",
       "      <td>...</td>\n",
       "    </tr>\n",
       "    <tr>\n",
       "      <th>103180</th>\n",
       "      <td>2023-03-01</td>\n",
       "      <td>2022/23</td>\n",
       "      <td>MAR</td>\n",
       "      <td>62-day Combined</td>\n",
       "      <td>RWD</td>\n",
       "      <td>Urgent Suspected Cancer</td>\n",
       "      <td>Surgery</td>\n",
       "      <td>All_Cancers</td>\n",
       "      <td>83.5</td>\n",
       "      <td>53.5</td>\n",
       "      <td>30.0</td>\n",
       "      <td>0.359281</td>\n",
       "      <td>0.320303</td>\n",
       "    </tr>\n",
       "    <tr>\n",
       "      <th>103181</th>\n",
       "      <td>2023-03-01</td>\n",
       "      <td>2022/23</td>\n",
       "      <td>MAR</td>\n",
       "      <td>62-day Combined</td>\n",
       "      <td>RWP</td>\n",
       "      <td>Urgent Suspected Cancer</td>\n",
       "      <td>Surgery</td>\n",
       "      <td>All_Cancers</td>\n",
       "      <td>116.5</td>\n",
       "      <td>70.5</td>\n",
       "      <td>46.0</td>\n",
       "      <td>0.394850</td>\n",
       "      <td>0.366762</td>\n",
       "    </tr>\n",
       "    <tr>\n",
       "      <th>103182</th>\n",
       "      <td>2023-03-01</td>\n",
       "      <td>2022/23</td>\n",
       "      <td>MAR</td>\n",
       "      <td>62-day Combined</td>\n",
       "      <td>RXN</td>\n",
       "      <td>Urgent Suspected Cancer</td>\n",
       "      <td>Surgery</td>\n",
       "      <td>All_Cancers</td>\n",
       "      <td>73.0</td>\n",
       "      <td>27.0</td>\n",
       "      <td>46.0</td>\n",
       "      <td>0.630137</td>\n",
       "      <td>0.461423</td>\n",
       "    </tr>\n",
       "    <tr>\n",
       "      <th>103183</th>\n",
       "      <td>2023-03-01</td>\n",
       "      <td>2022/23</td>\n",
       "      <td>MAR</td>\n",
       "      <td>62-day Combined</td>\n",
       "      <td>RXW</td>\n",
       "      <td>Urgent Suspected Cancer</td>\n",
       "      <td>Surgery</td>\n",
       "      <td>All_Cancers</td>\n",
       "      <td>103.0</td>\n",
       "      <td>65.5</td>\n",
       "      <td>37.5</td>\n",
       "      <td>0.364078</td>\n",
       "      <td>0.463021</td>\n",
       "    </tr>\n",
       "    <tr>\n",
       "      <th>103184</th>\n",
       "      <td>2023-03-01</td>\n",
       "      <td>2022/23</td>\n",
       "      <td>MAR</td>\n",
       "      <td>62-day Combined</td>\n",
       "      <td>RY2</td>\n",
       "      <td>Urgent Suspected Cancer</td>\n",
       "      <td>Surgery</td>\n",
       "      <td>All_Cancers</td>\n",
       "      <td>12.5</td>\n",
       "      <td>8.5</td>\n",
       "      <td>4.0</td>\n",
       "      <td>0.320000</td>\n",
       "      <td>0.438072</td>\n",
       "    </tr>\n",
       "  </tbody>\n",
       "</table>\n",
       "<p>103185 rows × 13 columns</p>\n",
       "</div>"
      ],
      "text/plain": [
       "           PERIOD     YEAR MONTH         STANDARD ORG_CODE  \\\n",
       "0      2022-04-01  2022/23   APR       28-day FDS      R1K   \n",
       "1      2022-04-01  2022/23   APR       28-day FDS      R0A   \n",
       "2      2022-04-01  2022/23   APR       28-day FDS      R0D   \n",
       "3      2022-04-01  2022/23   APR       28-day FDS      R1F   \n",
       "4      2022-04-01  2022/23   APR       28-day FDS      RAS   \n",
       "...           ...      ...   ...              ...      ...   \n",
       "103180 2023-03-01  2022/23   MAR  62-day Combined      RWD   \n",
       "103181 2023-03-01  2022/23   MAR  62-day Combined      RWP   \n",
       "103182 2023-03-01  2022/23   MAR  62-day Combined      RXN   \n",
       "103183 2023-03-01  2022/23   MAR  62-day Combined      RXW   \n",
       "103184 2023-03-01  2022/23   MAR  62-day Combined      RY2   \n",
       "\n",
       "                                     STAGE/ROUTE TREATMENT MODALITY  \\\n",
       "0       BREAST SYMPTOMATIC, CANCER NOT SUSPECTED                NaN   \n",
       "1       BREAST SYMPTOMATIC, CANCER NOT SUSPECTED                NaN   \n",
       "2       BREAST SYMPTOMATIC, CANCER NOT SUSPECTED                NaN   \n",
       "3       BREAST SYMPTOMATIC, CANCER NOT SUSPECTED                NaN   \n",
       "4       BREAST SYMPTOMATIC, CANCER NOT SUSPECTED                NaN   \n",
       "...                                          ...                ...   \n",
       "103180                   Urgent Suspected Cancer            Surgery   \n",
       "103181                   Urgent Suspected Cancer            Surgery   \n",
       "103182                   Urgent Suspected Cancer            Surgery   \n",
       "103183                   Urgent Suspected Cancer            Surgery   \n",
       "103184                   Urgent Suspected Cancer            Surgery   \n",
       "\n",
       "                  CANCER_TYPE  TOTAL  WITHIN STANDARD  BREACHES  \\\n",
       "0       Unsuspected_breast_ca  262.0            255.0       7.0   \n",
       "1       Unsuspected_breast_ca  382.0            144.0     238.0   \n",
       "2       Unsuspected_breast_ca    3.0              2.0       1.0   \n",
       "3       Unsuspected_breast_ca   66.0             63.0       3.0   \n",
       "4       Unsuspected_breast_ca   81.0             78.0       3.0   \n",
       "...                       ...    ...              ...       ...   \n",
       "103180            All_Cancers   83.5             53.5      30.0   \n",
       "103181            All_Cancers  116.5             70.5      46.0   \n",
       "103182            All_Cancers   73.0             27.0      46.0   \n",
       "103183            All_Cancers  103.0             65.5      37.5   \n",
       "103184            All_Cancers   12.5              8.5       4.0   \n",
       "\n",
       "        PROPORTION_BREACHES  MOVING_AVERAGE  \n",
       "0                  0.026718             NaN  \n",
       "1                  0.623037             NaN  \n",
       "2                  0.333333        0.327696  \n",
       "3                  0.045455        0.333942  \n",
       "4                  0.037037        0.138608  \n",
       "...                     ...             ...  \n",
       "103180             0.359281        0.320303  \n",
       "103181             0.394850        0.366762  \n",
       "103182             0.630137        0.461423  \n",
       "103183             0.364078        0.463021  \n",
       "103184             0.320000        0.438072  \n",
       "\n",
       "[103185 rows x 13 columns]"
      ]
     },
     "execution_count": 30,
     "metadata": {},
     "output_type": "execute_result"
    }
   ],
   "source": [
    "data\n"
   ]
  },
  {
   "cell_type": "code",
   "execution_count": 55,
   "id": "1cedb22e-8d0e-4601-a105-76414e8f2bac",
   "metadata": {},
   "outputs": [
    {
     "name": "stdout",
     "output_type": "stream",
     "text": [
      "Selected Suspected_hematological_malignancies\n"
     ]
    },
    {
     "data": {
      "application/vnd.plotly.v1+json": {
       "config": {
        "plotlyServerURL": "https://plot.ly"
       },
       "data": [
        {
         "mode": "lines+markers",
         "name": "Proportion of Breaches",
         "type": "scatter",
         "x": [
          "2022-04-01T00:00:00",
          "2022-05-01T00:00:00",
          "2022-06-01T00:00:00",
          "2022-07-01T00:00:00",
          "2022-08-01T00:00:00",
          "2022-09-01T00:00:00",
          "2022-10-01T00:00:00",
          "2022-11-01T00:00:00",
          "2022-12-01T00:00:00",
          "2023-01-01T00:00:00",
          "2023-02-01T00:00:00",
          "2023-03-01T00:00:00"
         ],
         "y": [
          0.40476190476190477,
          0.2857142857142857,
          0.38636363636363635,
          0.20512820512820512,
          0.2777777777777778,
          0.5882352941176471,
          0.25,
          0.3333333333333333,
          0.38461538461538464,
          0.3076923076923077,
          0.1951219512195122,
          0.35185185185185186
         ]
        },
        {
         "mode": "lines",
         "name": "Moving Average (Window=5)",
         "type": "scatter",
         "x": [
          "2022-04-01T00:00:00",
          "2022-05-01T00:00:00",
          "2022-06-01T00:00:00",
          "2022-07-01T00:00:00",
          "2022-08-01T00:00:00",
          "2022-09-01T00:00:00",
          "2022-10-01T00:00:00",
          "2022-11-01T00:00:00",
          "2022-12-01T00:00:00",
          "2023-01-01T00:00:00",
          "2023-02-01T00:00:00",
          "2023-03-01T00:00:00"
         ],
         "y": [
          0.3277555258863675,
          0.48109668109668485,
          0.27768065268065795,
          0.18384447796213146,
          0.29836225678011424,
          0.42953559413085846,
          0.33157894736843174,
          0.271111111111124,
          0.519918875851095,
          0.16262416262418092,
          0.362470270969561,
          0.3429783950617514
         ]
        }
       ],
       "frames": [
        {
         "data": [
          {
           "marker": {
            "color": "red"
           },
           "mode": "lines",
           "name": "Moving Average (Window=5)",
           "type": "scatter",
           "x": [
            "2022-04-01T00:00:00"
           ],
           "y": [
            0.3277555258863675
           ]
          }
         ]
        },
        {
         "data": [
          {
           "marker": {
            "color": "red"
           },
           "mode": "lines",
           "name": "Moving Average (Window=5)",
           "type": "scatter",
           "x": [
            "2022-04-01T00:00:00",
            "2022-05-01T00:00:00"
           ],
           "y": [
            0.3277555258863675,
            0.48109668109668485
           ]
          }
         ]
        },
        {
         "data": [
          {
           "marker": {
            "color": "red"
           },
           "mode": "lines",
           "name": "Moving Average (Window=5)",
           "type": "scatter",
           "x": [
            "2022-04-01T00:00:00",
            "2022-05-01T00:00:00",
            "2022-06-01T00:00:00"
           ],
           "y": [
            0.3277555258863675,
            0.48109668109668485,
            0.27768065268065795
           ]
          }
         ]
        },
        {
         "data": [
          {
           "marker": {
            "color": "red"
           },
           "mode": "lines",
           "name": "Moving Average (Window=5)",
           "type": "scatter",
           "x": [
            "2022-04-01T00:00:00",
            "2022-05-01T00:00:00",
            "2022-06-01T00:00:00",
            "2022-07-01T00:00:00"
           ],
           "y": [
            0.3277555258863675,
            0.48109668109668485,
            0.27768065268065795,
            0.18384447796213146
           ]
          }
         ]
        },
        {
         "data": [
          {
           "marker": {
            "color": "red"
           },
           "mode": "lines",
           "name": "Moving Average (Window=5)",
           "type": "scatter",
           "x": [
            "2022-04-01T00:00:00",
            "2022-05-01T00:00:00",
            "2022-06-01T00:00:00",
            "2022-07-01T00:00:00",
            "2022-08-01T00:00:00"
           ],
           "y": [
            0.3277555258863675,
            0.48109668109668485,
            0.27768065268065795,
            0.18384447796213146,
            0.29836225678011424
           ]
          }
         ]
        },
        {
         "data": [
          {
           "marker": {
            "color": "red"
           },
           "mode": "lines",
           "name": "Moving Average (Window=5)",
           "type": "scatter",
           "x": [
            "2022-04-01T00:00:00",
            "2022-05-01T00:00:00",
            "2022-06-01T00:00:00",
            "2022-07-01T00:00:00",
            "2022-08-01T00:00:00",
            "2022-09-01T00:00:00"
           ],
           "y": [
            0.3277555258863675,
            0.48109668109668485,
            0.27768065268065795,
            0.18384447796213146,
            0.29836225678011424,
            0.42953559413085846
           ]
          }
         ]
        },
        {
         "data": [
          {
           "marker": {
            "color": "red"
           },
           "mode": "lines",
           "name": "Moving Average (Window=5)",
           "type": "scatter",
           "x": [
            "2022-04-01T00:00:00",
            "2022-05-01T00:00:00",
            "2022-06-01T00:00:00",
            "2022-07-01T00:00:00",
            "2022-08-01T00:00:00",
            "2022-09-01T00:00:00",
            "2022-10-01T00:00:00"
           ],
           "y": [
            0.3277555258863675,
            0.48109668109668485,
            0.27768065268065795,
            0.18384447796213146,
            0.29836225678011424,
            0.42953559413085846,
            0.33157894736843174
           ]
          }
         ]
        },
        {
         "data": [
          {
           "marker": {
            "color": "red"
           },
           "mode": "lines",
           "name": "Moving Average (Window=5)",
           "type": "scatter",
           "x": [
            "2022-04-01T00:00:00",
            "2022-05-01T00:00:00",
            "2022-06-01T00:00:00",
            "2022-07-01T00:00:00",
            "2022-08-01T00:00:00",
            "2022-09-01T00:00:00",
            "2022-10-01T00:00:00",
            "2022-11-01T00:00:00"
           ],
           "y": [
            0.3277555258863675,
            0.48109668109668485,
            0.27768065268065795,
            0.18384447796213146,
            0.29836225678011424,
            0.42953559413085846,
            0.33157894736843174,
            0.271111111111124
           ]
          }
         ]
        },
        {
         "data": [
          {
           "marker": {
            "color": "red"
           },
           "mode": "lines",
           "name": "Moving Average (Window=5)",
           "type": "scatter",
           "x": [
            "2022-04-01T00:00:00",
            "2022-05-01T00:00:00",
            "2022-06-01T00:00:00",
            "2022-07-01T00:00:00",
            "2022-08-01T00:00:00",
            "2022-09-01T00:00:00",
            "2022-10-01T00:00:00",
            "2022-11-01T00:00:00",
            "2022-12-01T00:00:00"
           ],
           "y": [
            0.3277555258863675,
            0.48109668109668485,
            0.27768065268065795,
            0.18384447796213146,
            0.29836225678011424,
            0.42953559413085846,
            0.33157894736843174,
            0.271111111111124,
            0.519918875851095
           ]
          }
         ]
        },
        {
         "data": [
          {
           "marker": {
            "color": "red"
           },
           "mode": "lines",
           "name": "Moving Average (Window=5)",
           "type": "scatter",
           "x": [
            "2022-04-01T00:00:00",
            "2022-05-01T00:00:00",
            "2022-06-01T00:00:00",
            "2022-07-01T00:00:00",
            "2022-08-01T00:00:00",
            "2022-09-01T00:00:00",
            "2022-10-01T00:00:00",
            "2022-11-01T00:00:00",
            "2022-12-01T00:00:00",
            "2023-01-01T00:00:00"
           ],
           "y": [
            0.3277555258863675,
            0.48109668109668485,
            0.27768065268065795,
            0.18384447796213146,
            0.29836225678011424,
            0.42953559413085846,
            0.33157894736843174,
            0.271111111111124,
            0.519918875851095,
            0.16262416262418092
           ]
          }
         ]
        },
        {
         "data": [
          {
           "marker": {
            "color": "red"
           },
           "mode": "lines",
           "name": "Moving Average (Window=5)",
           "type": "scatter",
           "x": [
            "2022-04-01T00:00:00",
            "2022-05-01T00:00:00",
            "2022-06-01T00:00:00",
            "2022-07-01T00:00:00",
            "2022-08-01T00:00:00",
            "2022-09-01T00:00:00",
            "2022-10-01T00:00:00",
            "2022-11-01T00:00:00",
            "2022-12-01T00:00:00",
            "2023-01-01T00:00:00",
            "2023-02-01T00:00:00"
           ],
           "y": [
            0.3277555258863675,
            0.48109668109668485,
            0.27768065268065795,
            0.18384447796213146,
            0.29836225678011424,
            0.42953559413085846,
            0.33157894736843174,
            0.271111111111124,
            0.519918875851095,
            0.16262416262418092,
            0.362470270969561
           ]
          }
         ]
        },
        {
         "data": [
          {
           "marker": {
            "color": "red"
           },
           "mode": "lines",
           "name": "Moving Average (Window=5)",
           "type": "scatter",
           "x": [
            "2022-04-01T00:00:00",
            "2022-05-01T00:00:00",
            "2022-06-01T00:00:00",
            "2022-07-01T00:00:00",
            "2022-08-01T00:00:00",
            "2022-09-01T00:00:00",
            "2022-10-01T00:00:00",
            "2022-11-01T00:00:00",
            "2022-12-01T00:00:00",
            "2023-01-01T00:00:00",
            "2023-02-01T00:00:00",
            "2023-03-01T00:00:00"
           ],
           "y": [
            0.3277555258863675,
            0.48109668109668485,
            0.27768065268065795,
            0.18384447796213146,
            0.29836225678011424,
            0.42953559413085846,
            0.33157894736843174,
            0.271111111111124,
            0.519918875851095,
            0.16262416262418092,
            0.362470270969561,
            0.3429783950617514
           ]
          }
         ]
        }
       ],
       "layout": {
        "autosize": true,
        "hovermode": "x",
        "template": {
         "data": {
          "bar": [
           {
            "error_x": {
             "color": "#2a3f5f"
            },
            "error_y": {
             "color": "#2a3f5f"
            },
            "marker": {
             "line": {
              "color": "#E5ECF6",
              "width": 0.5
             },
             "pattern": {
              "fillmode": "overlay",
              "size": 10,
              "solidity": 0.2
             }
            },
            "type": "bar"
           }
          ],
          "barpolar": [
           {
            "marker": {
             "line": {
              "color": "#E5ECF6",
              "width": 0.5
             },
             "pattern": {
              "fillmode": "overlay",
              "size": 10,
              "solidity": 0.2
             }
            },
            "type": "barpolar"
           }
          ],
          "carpet": [
           {
            "aaxis": {
             "endlinecolor": "#2a3f5f",
             "gridcolor": "white",
             "linecolor": "white",
             "minorgridcolor": "white",
             "startlinecolor": "#2a3f5f"
            },
            "baxis": {
             "endlinecolor": "#2a3f5f",
             "gridcolor": "white",
             "linecolor": "white",
             "minorgridcolor": "white",
             "startlinecolor": "#2a3f5f"
            },
            "type": "carpet"
           }
          ],
          "choropleth": [
           {
            "colorbar": {
             "outlinewidth": 0,
             "ticks": ""
            },
            "type": "choropleth"
           }
          ],
          "contour": [
           {
            "colorbar": {
             "outlinewidth": 0,
             "ticks": ""
            },
            "colorscale": [
             [
              0,
              "#0d0887"
             ],
             [
              0.1111111111111111,
              "#46039f"
             ],
             [
              0.2222222222222222,
              "#7201a8"
             ],
             [
              0.3333333333333333,
              "#9c179e"
             ],
             [
              0.4444444444444444,
              "#bd3786"
             ],
             [
              0.5555555555555556,
              "#d8576b"
             ],
             [
              0.6666666666666666,
              "#ed7953"
             ],
             [
              0.7777777777777778,
              "#fb9f3a"
             ],
             [
              0.8888888888888888,
              "#fdca26"
             ],
             [
              1,
              "#f0f921"
             ]
            ],
            "type": "contour"
           }
          ],
          "contourcarpet": [
           {
            "colorbar": {
             "outlinewidth": 0,
             "ticks": ""
            },
            "type": "contourcarpet"
           }
          ],
          "heatmap": [
           {
            "colorbar": {
             "outlinewidth": 0,
             "ticks": ""
            },
            "colorscale": [
             [
              0,
              "#0d0887"
             ],
             [
              0.1111111111111111,
              "#46039f"
             ],
             [
              0.2222222222222222,
              "#7201a8"
             ],
             [
              0.3333333333333333,
              "#9c179e"
             ],
             [
              0.4444444444444444,
              "#bd3786"
             ],
             [
              0.5555555555555556,
              "#d8576b"
             ],
             [
              0.6666666666666666,
              "#ed7953"
             ],
             [
              0.7777777777777778,
              "#fb9f3a"
             ],
             [
              0.8888888888888888,
              "#fdca26"
             ],
             [
              1,
              "#f0f921"
             ]
            ],
            "type": "heatmap"
           }
          ],
          "heatmapgl": [
           {
            "colorbar": {
             "outlinewidth": 0,
             "ticks": ""
            },
            "colorscale": [
             [
              0,
              "#0d0887"
             ],
             [
              0.1111111111111111,
              "#46039f"
             ],
             [
              0.2222222222222222,
              "#7201a8"
             ],
             [
              0.3333333333333333,
              "#9c179e"
             ],
             [
              0.4444444444444444,
              "#bd3786"
             ],
             [
              0.5555555555555556,
              "#d8576b"
             ],
             [
              0.6666666666666666,
              "#ed7953"
             ],
             [
              0.7777777777777778,
              "#fb9f3a"
             ],
             [
              0.8888888888888888,
              "#fdca26"
             ],
             [
              1,
              "#f0f921"
             ]
            ],
            "type": "heatmapgl"
           }
          ],
          "histogram": [
           {
            "marker": {
             "pattern": {
              "fillmode": "overlay",
              "size": 10,
              "solidity": 0.2
             }
            },
            "type": "histogram"
           }
          ],
          "histogram2d": [
           {
            "colorbar": {
             "outlinewidth": 0,
             "ticks": ""
            },
            "colorscale": [
             [
              0,
              "#0d0887"
             ],
             [
              0.1111111111111111,
              "#46039f"
             ],
             [
              0.2222222222222222,
              "#7201a8"
             ],
             [
              0.3333333333333333,
              "#9c179e"
             ],
             [
              0.4444444444444444,
              "#bd3786"
             ],
             [
              0.5555555555555556,
              "#d8576b"
             ],
             [
              0.6666666666666666,
              "#ed7953"
             ],
             [
              0.7777777777777778,
              "#fb9f3a"
             ],
             [
              0.8888888888888888,
              "#fdca26"
             ],
             [
              1,
              "#f0f921"
             ]
            ],
            "type": "histogram2d"
           }
          ],
          "histogram2dcontour": [
           {
            "colorbar": {
             "outlinewidth": 0,
             "ticks": ""
            },
            "colorscale": [
             [
              0,
              "#0d0887"
             ],
             [
              0.1111111111111111,
              "#46039f"
             ],
             [
              0.2222222222222222,
              "#7201a8"
             ],
             [
              0.3333333333333333,
              "#9c179e"
             ],
             [
              0.4444444444444444,
              "#bd3786"
             ],
             [
              0.5555555555555556,
              "#d8576b"
             ],
             [
              0.6666666666666666,
              "#ed7953"
             ],
             [
              0.7777777777777778,
              "#fb9f3a"
             ],
             [
              0.8888888888888888,
              "#fdca26"
             ],
             [
              1,
              "#f0f921"
             ]
            ],
            "type": "histogram2dcontour"
           }
          ],
          "mesh3d": [
           {
            "colorbar": {
             "outlinewidth": 0,
             "ticks": ""
            },
            "type": "mesh3d"
           }
          ],
          "parcoords": [
           {
            "line": {
             "colorbar": {
              "outlinewidth": 0,
              "ticks": ""
             }
            },
            "type": "parcoords"
           }
          ],
          "pie": [
           {
            "automargin": true,
            "type": "pie"
           }
          ],
          "scatter": [
           {
            "fillpattern": {
             "fillmode": "overlay",
             "size": 10,
             "solidity": 0.2
            },
            "type": "scatter"
           }
          ],
          "scatter3d": [
           {
            "line": {
             "colorbar": {
              "outlinewidth": 0,
              "ticks": ""
             }
            },
            "marker": {
             "colorbar": {
              "outlinewidth": 0,
              "ticks": ""
             }
            },
            "type": "scatter3d"
           }
          ],
          "scattercarpet": [
           {
            "marker": {
             "colorbar": {
              "outlinewidth": 0,
              "ticks": ""
             }
            },
            "type": "scattercarpet"
           }
          ],
          "scattergeo": [
           {
            "marker": {
             "colorbar": {
              "outlinewidth": 0,
              "ticks": ""
             }
            },
            "type": "scattergeo"
           }
          ],
          "scattergl": [
           {
            "marker": {
             "colorbar": {
              "outlinewidth": 0,
              "ticks": ""
             }
            },
            "type": "scattergl"
           }
          ],
          "scattermapbox": [
           {
            "marker": {
             "colorbar": {
              "outlinewidth": 0,
              "ticks": ""
             }
            },
            "type": "scattermapbox"
           }
          ],
          "scatterpolar": [
           {
            "marker": {
             "colorbar": {
              "outlinewidth": 0,
              "ticks": ""
             }
            },
            "type": "scatterpolar"
           }
          ],
          "scatterpolargl": [
           {
            "marker": {
             "colorbar": {
              "outlinewidth": 0,
              "ticks": ""
             }
            },
            "type": "scatterpolargl"
           }
          ],
          "scatterternary": [
           {
            "marker": {
             "colorbar": {
              "outlinewidth": 0,
              "ticks": ""
             }
            },
            "type": "scatterternary"
           }
          ],
          "surface": [
           {
            "colorbar": {
             "outlinewidth": 0,
             "ticks": ""
            },
            "colorscale": [
             [
              0,
              "#0d0887"
             ],
             [
              0.1111111111111111,
              "#46039f"
             ],
             [
              0.2222222222222222,
              "#7201a8"
             ],
             [
              0.3333333333333333,
              "#9c179e"
             ],
             [
              0.4444444444444444,
              "#bd3786"
             ],
             [
              0.5555555555555556,
              "#d8576b"
             ],
             [
              0.6666666666666666,
              "#ed7953"
             ],
             [
              0.7777777777777778,
              "#fb9f3a"
             ],
             [
              0.8888888888888888,
              "#fdca26"
             ],
             [
              1,
              "#f0f921"
             ]
            ],
            "type": "surface"
           }
          ],
          "table": [
           {
            "cells": {
             "fill": {
              "color": "#EBF0F8"
             },
             "line": {
              "color": "white"
             }
            },
            "header": {
             "fill": {
              "color": "#C8D4E3"
             },
             "line": {
              "color": "white"
             }
            },
            "type": "table"
           }
          ]
         },
         "layout": {
          "annotationdefaults": {
           "arrowcolor": "#2a3f5f",
           "arrowhead": 0,
           "arrowwidth": 1
          },
          "autotypenumbers": "strict",
          "coloraxis": {
           "colorbar": {
            "outlinewidth": 0,
            "ticks": ""
           }
          },
          "colorscale": {
           "diverging": [
            [
             0,
             "#8e0152"
            ],
            [
             0.1,
             "#c51b7d"
            ],
            [
             0.2,
             "#de77ae"
            ],
            [
             0.3,
             "#f1b6da"
            ],
            [
             0.4,
             "#fde0ef"
            ],
            [
             0.5,
             "#f7f7f7"
            ],
            [
             0.6,
             "#e6f5d0"
            ],
            [
             0.7,
             "#b8e186"
            ],
            [
             0.8,
             "#7fbc41"
            ],
            [
             0.9,
             "#4d9221"
            ],
            [
             1,
             "#276419"
            ]
           ],
           "sequential": [
            [
             0,
             "#0d0887"
            ],
            [
             0.1111111111111111,
             "#46039f"
            ],
            [
             0.2222222222222222,
             "#7201a8"
            ],
            [
             0.3333333333333333,
             "#9c179e"
            ],
            [
             0.4444444444444444,
             "#bd3786"
            ],
            [
             0.5555555555555556,
             "#d8576b"
            ],
            [
             0.6666666666666666,
             "#ed7953"
            ],
            [
             0.7777777777777778,
             "#fb9f3a"
            ],
            [
             0.8888888888888888,
             "#fdca26"
            ],
            [
             1,
             "#f0f921"
            ]
           ],
           "sequentialminus": [
            [
             0,
             "#0d0887"
            ],
            [
             0.1111111111111111,
             "#46039f"
            ],
            [
             0.2222222222222222,
             "#7201a8"
            ],
            [
             0.3333333333333333,
             "#9c179e"
            ],
            [
             0.4444444444444444,
             "#bd3786"
            ],
            [
             0.5555555555555556,
             "#d8576b"
            ],
            [
             0.6666666666666666,
             "#ed7953"
            ],
            [
             0.7777777777777778,
             "#fb9f3a"
            ],
            [
             0.8888888888888888,
             "#fdca26"
            ],
            [
             1,
             "#f0f921"
            ]
           ]
          },
          "colorway": [
           "#636efa",
           "#EF553B",
           "#00cc96",
           "#ab63fa",
           "#FFA15A",
           "#19d3f3",
           "#FF6692",
           "#B6E880",
           "#FF97FF",
           "#FECB52"
          ],
          "font": {
           "color": "#2a3f5f"
          },
          "geo": {
           "bgcolor": "white",
           "lakecolor": "white",
           "landcolor": "#E5ECF6",
           "showlakes": true,
           "showland": true,
           "subunitcolor": "white"
          },
          "hoverlabel": {
           "align": "left"
          },
          "hovermode": "closest",
          "mapbox": {
           "style": "light"
          },
          "paper_bgcolor": "white",
          "plot_bgcolor": "#E5ECF6",
          "polar": {
           "angularaxis": {
            "gridcolor": "white",
            "linecolor": "white",
            "ticks": ""
           },
           "bgcolor": "#E5ECF6",
           "radialaxis": {
            "gridcolor": "white",
            "linecolor": "white",
            "ticks": ""
           }
          },
          "scene": {
           "xaxis": {
            "backgroundcolor": "#E5ECF6",
            "gridcolor": "white",
            "gridwidth": 2,
            "linecolor": "white",
            "showbackground": true,
            "ticks": "",
            "zerolinecolor": "white"
           },
           "yaxis": {
            "backgroundcolor": "#E5ECF6",
            "gridcolor": "white",
            "gridwidth": 2,
            "linecolor": "white",
            "showbackground": true,
            "ticks": "",
            "zerolinecolor": "white"
           },
           "zaxis": {
            "backgroundcolor": "#E5ECF6",
            "gridcolor": "white",
            "gridwidth": 2,
            "linecolor": "white",
            "showbackground": true,
            "ticks": "",
            "zerolinecolor": "white"
           }
          },
          "shapedefaults": {
           "line": {
            "color": "#2a3f5f"
           }
          },
          "ternary": {
           "aaxis": {
            "gridcolor": "white",
            "linecolor": "white",
            "ticks": ""
           },
           "baxis": {
            "gridcolor": "white",
            "linecolor": "white",
            "ticks": ""
           },
           "bgcolor": "#E5ECF6",
           "caxis": {
            "gridcolor": "white",
            "linecolor": "white",
            "ticks": ""
           }
          },
          "title": {
           "x": 0.05
          },
          "xaxis": {
           "automargin": true,
           "gridcolor": "white",
           "linecolor": "white",
           "ticks": "",
           "title": {
            "standoff": 15
           },
           "zerolinecolor": "white",
           "zerolinewidth": 2
          },
          "yaxis": {
           "automargin": true,
           "gridcolor": "white",
           "linecolor": "white",
           "ticks": "",
           "title": {
            "standoff": 15
           },
           "zerolinecolor": "white",
           "zerolinewidth": 2
          }
         }
        },
        "title": {
         "text": "Proportion of Breaches Over Time"
        },
        "updatemenus": [
         {
          "buttons": [
           {
            "args": [
             null,
             {
              "frame": {
               "duration": 500,
               "redraw": true
              },
              "fromcurrent": true
             }
            ],
            "label": "Play",
            "method": "animate"
           }
          ],
          "showactive": false,
          "type": "buttons"
         }
        ],
        "xaxis": {
         "autorange": true,
         "range": [
          "2022-03-11 04:32:33.1356",
          "2023-03-21 19:27:26.8644"
         ],
         "tickmode": "array",
         "ticktext": [
          "Apr 2022",
          "May 2022",
          "Jun 2022",
          "Jul 2022",
          "Aug 2022",
          "Sep 2022",
          "Oct 2022",
          "Nov 2022",
          "Dec 2022",
          "Jan 2023",
          "Feb 2023",
          "Mar 2023"
         ],
         "tickvals": [
          1648771200,
          1651363200,
          1654041600,
          1656633600,
          1659312000,
          1661990400,
          1664582400,
          1667260800,
          1669852800,
          1672531200,
          1675209600,
          1677628800
         ],
         "title": {
          "text": "Period"
         },
         "type": "date"
        },
        "yaxis": {
         "autorange": true,
         "range": [
          0.13841879021696957,
          0.6225262383611965
         ],
         "title": {
          "text": "Proportion of Breaches"
         },
         "type": "linear"
        }
       }
      },
      "image/png": "[encoded data removed]",
      "text/html": [
       "<div>                            <div id=\"805db38c-5bf0-4269-a16d-7b66ab9ab382\" class=\"plotly-graph-div\" style=\"height:525px; width:100%;\"></div>            <script type=\"text/javascript\">                require([\"plotly\"], function(Plotly) {                    window.PLOTLYENV=window.PLOTLYENV || {};                                    if (document.getElementById(\"805db38c-5bf0-4269-a16d-7b66ab9ab382\")) {                    Plotly.newPlot(                        \"805db38c-5bf0-4269-a16d-7b66ab9ab382\",                        [{\"mode\":\"lines+markers\",\"name\":\"Proportion of Breaches\",\"x\":[\"2022-04-01T00:00:00\",\"2022-05-01T00:00:00\",\"2022-06-01T00:00:00\",\"2022-07-01T00:00:00\",\"2022-08-01T00:00:00\",\"2022-09-01T00:00:00\",\"2022-10-01T00:00:00\",\"2022-11-01T00:00:00\",\"2022-12-01T00:00:00\",\"2023-01-01T00:00:00\",\"2023-02-01T00:00:00\",\"2023-03-01T00:00:00\"],\"y\":[0.40476190476190477,0.2857142857142857,0.38636363636363635,0.20512820512820512,0.2777777777777778,0.5882352941176471,0.25,0.3333333333333333,0.38461538461538464,0.3076923076923077,0.1951219512195122,0.35185185185185186],\"type\":\"scatter\"},{\"mode\":\"lines\",\"name\":\"Moving Average (Window=5)\",\"x\":[\"2022-04-01T00:00:00\",\"2022-05-01T00:00:00\",\"2022-06-01T00:00:00\",\"2022-07-01T00:00:00\",\"2022-08-01T00:00:00\",\"2022-09-01T00:00:00\",\"2022-10-01T00:00:00\",\"2022-11-01T00:00:00\",\"2022-12-01T00:00:00\",\"2023-01-01T00:00:00\",\"2023-02-01T00:00:00\",\"2023-03-01T00:00:00\"],\"y\":[0.3277555258863675,0.48109668109668485,0.27768065268065795,0.18384447796213146,0.29836225678011424,0.42953559413085846,0.33157894736843174,0.271111111111124,0.519918875851095,0.16262416262418092,0.362470270969561,0.3429783950617514],\"type\":\"scatter\"}],                        {\"template\":{\"data\":{\"histogram2dcontour\":[{\"type\":\"histogram2dcontour\",\"colorbar\":{\"outlinewidth\":0,\"ticks\":\"\"},\"colorscale\":[[0.0,\"#0d0887\"],[0.1111111111111111,\"#46039f\"],[0.2222222222222222,\"#7201a8\"],[0.3333333333333333,\"#9c179e\"],[0.4444444444444444,\"#bd3786\"],[0.5555555555555556,\"#d8576b\"],[0.6666666666666666,\"#ed7953\"],[0.7777777777777778,\"#fb9f3a\"],[0.8888888888888888,\"#fdca26\"],[1.0,\"#f0f921\"]]}],\"choropleth\":[{\"type\":\"choropleth\",\"colorbar\":{\"outlinewidth\":0,\"ticks\":\"\"}}],\"histogram2d\":[{\"type\":\"histogram2d\",\"colorbar\":{\"outlinewidth\":0,\"ticks\":\"\"},\"colorscale\":[[0.0,\"#0d0887\"],[0.1111111111111111,\"#46039f\"],[0.2222222222222222,\"#7201a8\"],[0.3333333333333333,\"#9c179e\"],[0.4444444444444444,\"#bd3786\"],[0.5555555555555556,\"#d8576b\"],[0.6666666666666666,\"#ed7953\"],[0.7777777777777778,\"#fb9f3a\"],[0.8888888888888888,\"#fdca26\"],[1.0,\"#f0f921\"]]}],\"heatmap\":[{\"type\":\"heatmap\",\"colorbar\":{\"outlinewidth\":0,\"ticks\":\"\"},\"colorscale\":[[0.0,\"#0d0887\"],[0.1111111111111111,\"#46039f\"],[0.2222222222222222,\"#7201a8\"],[0.3333333333333333,\"#9c179e\"],[0.4444444444444444,\"#bd3786\"],[0.5555555555555556,\"#d8576b\"],[0.6666666666666666,\"#ed7953\"],[0.7777777777777778,\"#fb9f3a\"],[0.8888888888888888,\"#fdca26\"],[1.0,\"#f0f921\"]]}],\"heatmapgl\":[{\"type\":\"heatmapgl\",\"colorbar\":{\"outlinewidth\":0,\"ticks\":\"\"},\"colorscale\":[[0.0,\"#0d0887\"],[0.1111111111111111,\"#46039f\"],[0.2222222222222222,\"#7201a8\"],[0.3333333333333333,\"#9c179e\"],[0.4444444444444444,\"#bd3786\"],[0.5555555555555556,\"#d8576b\"],[0.6666666666666666,\"#ed7953\"],[0.7777777777777778,\"#fb9f3a\"],[0.8888888888888888,\"#fdca26\"],[1.0,\"#f0f921\"]]}],\"contourcarpet\":[{\"type\":\"contourcarpet\",\"colorbar\":{\"outlinewidth\":0,\"ticks\":\"\"}}],\"contour\":[{\"type\":\"contour\",\"colorbar\":{\"outlinewidth\":0,\"ticks\":\"\"},\"colorscale\":[[0.0,\"#0d0887\"],[0.1111111111111111,\"#46039f\"],[0.2222222222222222,\"#7201a8\"],[0.3333333333333333,\"#9c179e\"],[0.4444444444444444,\"#bd3786\"],[0.5555555555555556,\"#d8576b\"],[0.6666666666666666,\"#ed7953\"],[0.7777777777777778,\"#fb9f3a\"],[0.8888888888888888,\"#fdca26\"],[1.0,\"#f0f921\"]]}],\"surface\":[{\"type\":\"surface\",\"colorbar\":{\"outlinewidth\":0,\"ticks\":\"\"},\"colorscale\":[[0.0,\"#0d0887\"],[0.1111111111111111,\"#46039f\"],[0.2222222222222222,\"#7201a8\"],[0.3333333333333333,\"#9c179e\"],[0.4444444444444444,\"#bd3786\"],[0.5555555555555556,\"#d8576b\"],[0.6666666666666666,\"#ed7953\"],[0.7777777777777778,\"#fb9f3a\"],[0.8888888888888888,\"#fdca26\"],[1.0,\"#f0f921\"]]}],\"mesh3d\":[{\"type\":\"mesh3d\",\"colorbar\":{\"outlinewidth\":0,\"ticks\":\"\"}}],\"scatter\":[{\"fillpattern\":{\"fillmode\":\"overlay\",\"size\":10,\"solidity\":0.2},\"type\":\"scatter\"}],\"parcoords\":[{\"type\":\"parcoords\",\"line\":{\"colorbar\":{\"outlinewidth\":0,\"ticks\":\"\"}}}],\"scatterpolargl\":[{\"type\":\"scatterpolargl\",\"marker\":{\"colorbar\":{\"outlinewidth\":0,\"ticks\":\"\"}}}],\"bar\":[{\"error_x\":{\"color\":\"#2a3f5f\"},\"error_y\":{\"color\":\"#2a3f5f\"},\"marker\":{\"line\":{\"color\":\"#E5ECF6\",\"width\":0.5},\"pattern\":{\"fillmode\":\"overlay\",\"size\":10,\"solidity\":0.2}},\"type\":\"bar\"}],\"scattergeo\":[{\"type\":\"scattergeo\",\"marker\":{\"colorbar\":{\"outlinewidth\":0,\"ticks\":\"\"}}}],\"scatterpolar\":[{\"type\":\"scatterpolar\",\"marker\":{\"colorbar\":{\"outlinewidth\":0,\"ticks\":\"\"}}}],\"histogram\":[{\"marker\":{\"pattern\":{\"fillmode\":\"overlay\",\"size\":10,\"solidity\":0.2}},\"type\":\"histogram\"}],\"scattergl\":[{\"type\":\"scattergl\",\"marker\":{\"colorbar\":{\"outlinewidth\":0,\"ticks\":\"\"}}}],\"scatter3d\":[{\"type\":\"scatter3d\",\"line\":{\"colorbar\":{\"outlinewidth\":0,\"ticks\":\"\"}},\"marker\":{\"colorbar\":{\"outlinewidth\":0,\"ticks\":\"\"}}}],\"scattermapbox\":[{\"type\":\"scattermapbox\",\"marker\":{\"colorbar\":{\"outlinewidth\":0,\"ticks\":\"\"}}}],\"scatterternary\":[{\"type\":\"scatterternary\",\"marker\":{\"colorbar\":{\"outlinewidth\":0,\"ticks\":\"\"}}}],\"scattercarpet\":[{\"type\":\"scattercarpet\",\"marker\":{\"colorbar\":{\"outlinewidth\":0,\"ticks\":\"\"}}}],\"carpet\":[{\"aaxis\":{\"endlinecolor\":\"#2a3f5f\",\"gridcolor\":\"white\",\"linecolor\":\"white\",\"minorgridcolor\":\"white\",\"startlinecolor\":\"#2a3f5f\"},\"baxis\":{\"endlinecolor\":\"#2a3f5f\",\"gridcolor\":\"white\",\"linecolor\":\"white\",\"minorgridcolor\":\"white\",\"startlinecolor\":\"#2a3f5f\"},\"type\":\"carpet\"}],\"table\":[{\"cells\":{\"fill\":{\"color\":\"#EBF0F8\"},\"line\":{\"color\":\"white\"}},\"header\":{\"fill\":{\"color\":\"#C8D4E3\"},\"line\":{\"color\":\"white\"}},\"type\":\"table\"}],\"barpolar\":[{\"marker\":{\"line\":{\"color\":\"#E5ECF6\",\"width\":0.5},\"pattern\":{\"fillmode\":\"overlay\",\"size\":10,\"solidity\":0.2}},\"type\":\"barpolar\"}],\"pie\":[{\"automargin\":true,\"type\":\"pie\"}]},\"layout\":{\"autotypenumbers\":\"strict\",\"colorway\":[\"#636efa\",\"#EF553B\",\"#00cc96\",\"#ab63fa\",\"#FFA15A\",\"#19d3f3\",\"#FF6692\",\"#B6E880\",\"#FF97FF\",\"#FECB52\"],\"font\":{\"color\":\"#2a3f5f\"},\"hovermode\":\"closest\",\"hoverlabel\":{\"align\":\"left\"},\"paper_bgcolor\":\"white\",\"plot_bgcolor\":\"#E5ECF6\",\"polar\":{\"bgcolor\":\"#E5ECF6\",\"angularaxis\":{\"gridcolor\":\"white\",\"linecolor\":\"white\",\"ticks\":\"\"},\"radialaxis\":{\"gridcolor\":\"white\",\"linecolor\":\"white\",\"ticks\":\"\"}},\"ternary\":{\"bgcolor\":\"#E5ECF6\",\"aaxis\":{\"gridcolor\":\"white\",\"linecolor\":\"white\",\"ticks\":\"\"},\"baxis\":{\"gridcolor\":\"white\",\"linecolor\":\"white\",\"ticks\":\"\"},\"caxis\":{\"gridcolor\":\"white\",\"linecolor\":\"white\",\"ticks\":\"\"}},\"coloraxis\":{\"colorbar\":{\"outlinewidth\":0,\"ticks\":\"\"}},\"colorscale\":{\"sequential\":[[0.0,\"#0d0887\"],[0.1111111111111111,\"#46039f\"],[0.2222222222222222,\"#7201a8\"],[0.3333333333333333,\"#9c179e\"],[0.4444444444444444,\"#bd3786\"],[0.5555555555555556,\"#d8576b\"],[0.6666666666666666,\"#ed7953\"],[0.7777777777777778,\"#fb9f3a\"],[0.8888888888888888,\"#fdca26\"],[1.0,\"#f0f921\"]],\"sequentialminus\":[[0.0,\"#0d0887\"],[0.1111111111111111,\"#46039f\"],[0.2222222222222222,\"#7201a8\"],[0.3333333333333333,\"#9c179e\"],[0.4444444444444444,\"#bd3786\"],[0.5555555555555556,\"#d8576b\"],[0.6666666666666666,\"#ed7953\"],[0.7777777777777778,\"#fb9f3a\"],[0.8888888888888888,\"#fdca26\"],[1.0,\"#f0f921\"]],\"diverging\":[[0,\"#8e0152\"],[0.1,\"#c51b7d\"],[0.2,\"#de77ae\"],[0.3,\"#f1b6da\"],[0.4,\"#fde0ef\"],[0.5,\"#f7f7f7\"],[0.6,\"#e6f5d0\"],[0.7,\"#b8e186\"],[0.8,\"#7fbc41\"],[0.9,\"#4d9221\"],[1,\"#276419\"]]},\"xaxis\":{\"gridcolor\":\"white\",\"linecolor\":\"white\",\"ticks\":\"\",\"title\":{\"standoff\":15},\"zerolinecolor\":\"white\",\"automargin\":true,\"zerolinewidth\":2},\"yaxis\":{\"gridcolor\":\"white\",\"linecolor\":\"white\",\"ticks\":\"\",\"title\":{\"standoff\":15},\"zerolinecolor\":\"white\",\"automargin\":true,\"zerolinewidth\":2},\"scene\":{\"xaxis\":{\"backgroundcolor\":\"#E5ECF6\",\"gridcolor\":\"white\",\"linecolor\":\"white\",\"showbackground\":true,\"ticks\":\"\",\"zerolinecolor\":\"white\",\"gridwidth\":2},\"yaxis\":{\"backgroundcolor\":\"#E5ECF6\",\"gridcolor\":\"white\",\"linecolor\":\"white\",\"showbackground\":true,\"ticks\":\"\",\"zerolinecolor\":\"white\",\"gridwidth\":2},\"zaxis\":{\"backgroundcolor\":\"#E5ECF6\",\"gridcolor\":\"white\",\"linecolor\":\"white\",\"showbackground\":true,\"ticks\":\"\",\"zerolinecolor\":\"white\",\"gridwidth\":2}},\"shapedefaults\":{\"line\":{\"color\":\"#2a3f5f\"}},\"annotationdefaults\":{\"arrowcolor\":\"#2a3f5f\",\"arrowhead\":0,\"arrowwidth\":1},\"geo\":{\"bgcolor\":\"white\",\"landcolor\":\"#E5ECF6\",\"subunitcolor\":\"white\",\"showland\":true,\"showlakes\":true,\"lakecolor\":\"white\"},\"title\":{\"x\":0.05},\"mapbox\":{\"style\":\"light\"}}},\"xaxis\":{\"title\":{\"text\":\"Period\"},\"tickmode\":\"array\",\"tickvals\":[1648771200.0,1651363200.0,1654041600.0,1656633600.0,1659312000.0,1661990400.0,1664582400.0,1667260800.0,1669852800.0,1672531200.0,1675209600.0,1677628800.0],\"ticktext\":[\"Apr 2022\",\"May 2022\",\"Jun 2022\",\"Jul 2022\",\"Aug 2022\",\"Sep 2022\",\"Oct 2022\",\"Nov 2022\",\"Dec 2022\",\"Jan 2023\",\"Feb 2023\",\"Mar 2023\"]},\"title\":{\"text\":\"Proportion of Breaches Over Time\"},\"yaxis\":{\"title\":{\"text\":\"Proportion of Breaches\"}},\"hovermode\":\"x\",\"updatemenus\":[{\"buttons\":[{\"args\":[null,{\"frame\":{\"duration\":500,\"redraw\":true},\"fromcurrent\":true}],\"label\":\"Play\",\"method\":\"animate\"}],\"showactive\":false,\"type\":\"buttons\"}]},                        {\"responsive\": true}                    ).then(function(){\n",
       "                            Plotly.addFrames('805db38c-5bf0-4269-a16d-7b66ab9ab382', [{\"data\":[{\"marker\":{\"color\":\"red\"},\"mode\":\"lines\",\"name\":\"Moving Average (Window=5)\",\"x\":[\"2022-04-01T00:00:00\"],\"y\":[0.3277555258863675],\"type\":\"scatter\"}]},{\"data\":[{\"marker\":{\"color\":\"red\"},\"mode\":\"lines\",\"name\":\"Moving Average (Window=5)\",\"x\":[\"2022-04-01T00:00:00\",\"2022-05-01T00:00:00\"],\"y\":[0.3277555258863675,0.48109668109668485],\"type\":\"scatter\"}]},{\"data\":[{\"marker\":{\"color\":\"red\"},\"mode\":\"lines\",\"name\":\"Moving Average (Window=5)\",\"x\":[\"2022-04-01T00:00:00\",\"2022-05-01T00:00:00\",\"2022-06-01T00:00:00\"],\"y\":[0.3277555258863675,0.48109668109668485,0.27768065268065795],\"type\":\"scatter\"}]},{\"data\":[{\"marker\":{\"color\":\"red\"},\"mode\":\"lines\",\"name\":\"Moving Average (Window=5)\",\"x\":[\"2022-04-01T00:00:00\",\"2022-05-01T00:00:00\",\"2022-06-01T00:00:00\",\"2022-07-01T00:00:00\"],\"y\":[0.3277555258863675,0.48109668109668485,0.27768065268065795,0.18384447796213146],\"type\":\"scatter\"}]},{\"data\":[{\"marker\":{\"color\":\"red\"},\"mode\":\"lines\",\"name\":\"Moving Average (Window=5)\",\"x\":[\"2022-04-01T00:00:00\",\"2022-05-01T00:00:00\",\"2022-06-01T00:00:00\",\"2022-07-01T00:00:00\",\"2022-08-01T00:00:00\"],\"y\":[0.3277555258863675,0.48109668109668485,0.27768065268065795,0.18384447796213146,0.29836225678011424],\"type\":\"scatter\"}]},{\"data\":[{\"marker\":{\"color\":\"red\"},\"mode\":\"lines\",\"name\":\"Moving Average (Window=5)\",\"x\":[\"2022-04-01T00:00:00\",\"2022-05-01T00:00:00\",\"2022-06-01T00:00:00\",\"2022-07-01T00:00:00\",\"2022-08-01T00:00:00\",\"2022-09-01T00:00:00\"],\"y\":[0.3277555258863675,0.48109668109668485,0.27768065268065795,0.18384447796213146,0.29836225678011424,0.42953559413085846],\"type\":\"scatter\"}]},{\"data\":[{\"marker\":{\"color\":\"red\"},\"mode\":\"lines\",\"name\":\"Moving Average (Window=5)\",\"x\":[\"2022-04-01T00:00:00\",\"2022-05-01T00:00:00\",\"2022-06-01T00:00:00\",\"2022-07-01T00:00:00\",\"2022-08-01T00:00:00\",\"2022-09-01T00:00:00\",\"2022-10-01T00:00:00\"],\"y\":[0.3277555258863675,0.48109668109668485,0.27768065268065795,0.18384447796213146,0.29836225678011424,0.42953559413085846,0.33157894736843174],\"type\":\"scatter\"}]},{\"data\":[{\"marker\":{\"color\":\"red\"},\"mode\":\"lines\",\"name\":\"Moving Average (Window=5)\",\"x\":[\"2022-04-01T00:00:00\",\"2022-05-01T00:00:00\",\"2022-06-01T00:00:00\",\"2022-07-01T00:00:00\",\"2022-08-01T00:00:00\",\"2022-09-01T00:00:00\",\"2022-10-01T00:00:00\",\"2022-11-01T00:00:00\"],\"y\":[0.3277555258863675,0.48109668109668485,0.27768065268065795,0.18384447796213146,0.29836225678011424,0.42953559413085846,0.33157894736843174,0.271111111111124],\"type\":\"scatter\"}]},{\"data\":[{\"marker\":{\"color\":\"red\"},\"mode\":\"lines\",\"name\":\"Moving Average (Window=5)\",\"x\":[\"2022-04-01T00:00:00\",\"2022-05-01T00:00:00\",\"2022-06-01T00:00:00\",\"2022-07-01T00:00:00\",\"2022-08-01T00:00:00\",\"2022-09-01T00:00:00\",\"2022-10-01T00:00:00\",\"2022-11-01T00:00:00\",\"2022-12-01T00:00:00\"],\"y\":[0.3277555258863675,0.48109668109668485,0.27768065268065795,0.18384447796213146,0.29836225678011424,0.42953559413085846,0.33157894736843174,0.271111111111124,0.519918875851095],\"type\":\"scatter\"}]},{\"data\":[{\"marker\":{\"color\":\"red\"},\"mode\":\"lines\",\"name\":\"Moving Average (Window=5)\",\"x\":[\"2022-04-01T00:00:00\",\"2022-05-01T00:00:00\",\"2022-06-01T00:00:00\",\"2022-07-01T00:00:00\",\"2022-08-01T00:00:00\",\"2022-09-01T00:00:00\",\"2022-10-01T00:00:00\",\"2022-11-01T00:00:00\",\"2022-12-01T00:00:00\",\"2023-01-01T00:00:00\"],\"y\":[0.3277555258863675,0.48109668109668485,0.27768065268065795,0.18384447796213146,0.29836225678011424,0.42953559413085846,0.33157894736843174,0.271111111111124,0.519918875851095,0.16262416262418092],\"type\":\"scatter\"}]},{\"data\":[{\"marker\":{\"color\":\"red\"},\"mode\":\"lines\",\"name\":\"Moving Average (Window=5)\",\"x\":[\"2022-04-01T00:00:00\",\"2022-05-01T00:00:00\",\"2022-06-01T00:00:00\",\"2022-07-01T00:00:00\",\"2022-08-01T00:00:00\",\"2022-09-01T00:00:00\",\"2022-10-01T00:00:00\",\"2022-11-01T00:00:00\",\"2022-12-01T00:00:00\",\"2023-01-01T00:00:00\",\"2023-02-01T00:00:00\"],\"y\":[0.3277555258863675,0.48109668109668485,0.27768065268065795,0.18384447796213146,0.29836225678011424,0.42953559413085846,0.33157894736843174,0.271111111111124,0.519918875851095,0.16262416262418092,0.362470270969561],\"type\":\"scatter\"}]},{\"data\":[{\"marker\":{\"color\":\"red\"},\"mode\":\"lines\",\"name\":\"Moving Average (Window=5)\",\"x\":[\"2022-04-01T00:00:00\",\"2022-05-01T00:00:00\",\"2022-06-01T00:00:00\",\"2022-07-01T00:00:00\",\"2022-08-01T00:00:00\",\"2022-09-01T00:00:00\",\"2022-10-01T00:00:00\",\"2022-11-01T00:00:00\",\"2022-12-01T00:00:00\",\"2023-01-01T00:00:00\",\"2023-02-01T00:00:00\",\"2023-03-01T00:00:00\"],\"y\":[0.3277555258863675,0.48109668109668485,0.27768065268065795,0.18384447796213146,0.29836225678011424,0.42953559413085846,0.33157894736843174,0.271111111111124,0.519918875851095,0.16262416262418092,0.362470270969561,0.3429783950617514],\"type\":\"scatter\"}]}]);\n",
       "                        }).then(function(){\n",
       "                            \n",
       "var gd = document.getElementById('805db38c-5bf0-4269-a16d-7b66ab9ab382');\n",
       "var x = new MutationObserver(function (mutations, observer) {{\n",
       "        var display = window.getComputedStyle(gd).display;\n",
       "        if (!display || display === 'none') {{\n",
       "            console.log([gd, 'removed!']);\n",
       "            Plotly.purge(gd);\n",
       "            observer.disconnect();\n",
       "        }}\n",
       "}});\n",
       "\n",
       "// Listen for the removal of the full notebook cells\n",
       "var notebookContainer = gd.closest('#notebook-container');\n",
       "if (notebookContainer) {{\n",
       "    x.observe(notebookContainer, {childList: true});\n",
       "}}\n",
       "\n",
       "// Listen for the clearing of the current output cell\n",
       "var outputEl = gd.closest('.output');\n",
       "if (outputEl) {{\n",
       "    x.observe(outputEl, {childList: true});\n",
       "}}\n",
       "\n",
       "                        })                };                });            </script>        </div>"
      ]
     },
     "metadata": {},
     "output_type": "display_data"
    }
   ],
   "source": [
    "# Need to add informative title displaying type of cancer and full name of organisation + national standard on the plot\n",
    "# Need to handle if some orgs do not have certain cancers/standards\n",
    "trial = select_data(data,[('cancer',9), ('org', 'r0a'), ('standard', 'FDS')])\n",
    "breaches_animated_plot(trial, [])\n"
   ]
  },
  {
   "cell_type": "code",
   "execution_count": 17,
   "id": "7350c14d-40e3-4c03-9a04-ffbdff397e53",
   "metadata": {},
   "outputs": [],
   "source": [
    "cancer_col_name = 'CANCER_TYPE'\n",
    "cancer_type_dict = {i + 1: cancer_type for i, cancer_type in enumerate(data[cancer_col_name].unique())}"
   ]
  },
  {
   "cell_type": "code",
   "execution_count": 59,
   "id": "3f340843-9bf6-4595-b1b2-5e575022c0b0",
   "metadata": {},
   "outputs": [
    {
     "data": {
      "text/plain": [
       "array(['R1K', 'R0A', 'R0D', 'R1F', 'RAS', 'RA9', 'RAE', 'RCF', 'RA2',\n",
       "       'R1H', 'RCB', 'RA4', 'RJL', 'RAL', 'RCD', 'RD1', 'RAX', 'RAP',\n",
       "       'RFR', 'RAJ', 'RK9', 'RBN', 'RGN', 'RDE', 'RBD', 'REM', 'RJZ',\n",
       "       'RBK', 'RM1', 'RC9', 'RGP', 'REF', 'RCX', 'RF4', 'RP5', 'RBT',\n",
       "       'RMC', 'RPY', 'RH8', 'RFS', 'RGT', 'RFF', 'RTR', 'RD8', 'RMP',\n",
       "       'RWE', 'RJ2', 'RGR', 'RH5', 'RJ6', 'RVV', 'RDU', 'RRF', 'RWG',\n",
       "       'RJE', 'RJ7', 'RHW', 'RJC', 'RWP', 'RHM', 'RTD', 'RXL', 'RLT',\n",
       "       'RK5', 'RJ1', 'RKB', 'RNS', 'RHQ', 'RTE', 'RN5', 'RQW', 'RKE',\n",
       "       'RJN', 'RNA', 'RTG', 'RHU', 'RWA', 'RNZ', 'RTK', 'RL4', 'RN7',\n",
       "       'RR7', 'RVW', 'RLQ', 'RWD', 'RTH', 'RWW', 'RNQ', 'RNN', 'RTP',\n",
       "       'RWY', 'RN3', 'RX1', 'RTX', 'RXC', 'RQX', 'RVJ', 'RXR', 'RXF',\n",
       "       'RPA', 'RXN', 'RRV', 'RYJ', 'RQM', 'RTF', 'RR8', 'RXK', 'RRK',\n",
       "       'RXP', 'RWF', 'RXW', 'RWH', 'RYR', 'REP', 'RBL', 'RQ3', 'RVR',\n",
       "       'RM3', 'RVY', 'NV1', 'RXQ', 'RA7', 'RJR', 'R0B', 'RWJ', 'RET',\n",
       "       'RP6', 'NYG', 'RAN', 'RPC', 'RRJ', 'RBS', 'RCU', 'RY2', 'REN',\n",
       "       'RBV', 'NTP', 'GEC', 'RBQ', 'RGM', 'AQK', 'NVM', 'RL1', 'RGD',\n",
       "       'NT3', 'RP4', 'NQT', 'NNE', 'NDA', 'RDR', 'NYT', 'RY6', 'R1D',\n",
       "       'NVC', 'NT2', 'RT2', 'RW5', 'R1A', 'NWV', 'RYX', 'R1C', 'R1L',\n",
       "       'RX2', 'AD9', 'RYY', 'RXA', 'NT4'], dtype=object)"
      ]
     },
     "execution_count": 59,
     "metadata": {},
     "output_type": "execute_result"
    }
   ],
   "source": [
    "data.ORG_CODE.unique()"
   ]
  },
  {
   "cell_type": "code",
   "execution_count": null,
   "id": "244bfaca-078e-402e-854c-0a6e13fb186f",
   "metadata": {},
   "outputs": [],
   "source": []
  }
 ],
 "metadata": {
  "kernelspec": {
   "display_name": "Python 3 (ipykernel)",
   "language": "python",
   "name": "python3"
  },
  "language_info": {
   "codemirror_mode": {
    "name": "ipython",
    "version": 3
   },
   "file_extension": ".py",
   "mimetype": "text/x-python",
   "name": "python",
   "nbconvert_exporter": "python",
   "pygments_lexer": "ipython3",
   "version": "3.8.12"
  }
 },
 "nbformat": 4,
 "nbformat_minor": 5
}
